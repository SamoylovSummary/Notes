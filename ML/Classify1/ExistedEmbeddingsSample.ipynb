{
 "cells": [
  {
   "cell_type": "code",
   "execution_count": 8,
   "metadata": {},
   "outputs": [],
   "source": [
    "from gensim.models.keyedvectors import KeyedVectors\n",
    "\n",
    "w2v = KeyedVectors.load_word2vec_format(\"data/ruwikiruscorpora_0_300_20.bin\", binary=True)\n",
    "w2v.init_sims(True)"
   ]
  },
  {
   "cell_type": "code",
   "execution_count": 23,
   "metadata": {},
   "outputs": [
    {
     "data": {
      "text/plain": [
       "['год_NOUN',\n",
       " 'весь_DET',\n",
       " 'человек_NOUN',\n",
       " 'время_NOUN',\n",
       " 'становиться_VERB',\n",
       " 'первый_ADJ',\n",
       " 'мочь_VERB',\n",
       " 'также_ADV',\n",
       " 'город_NOUN',\n",
       " 'новый_ADJ']"
      ]
     },
     "execution_count": 23,
     "metadata": {},
     "output_type": "execute_result"
    }
   ],
   "source": [
    "#w2v.most_similar(positive=['дом'])\n",
    "w2v.index2word[:10]"
   ]
  },
  {
   "cell_type": "code",
   "execution_count": 34,
   "metadata": {},
   "outputs": [
    {
     "name": "stdout",
     "output_type": "stream",
     "text": [
      "1\n"
     ]
    },
    {
     "data": {
      "text/plain": [
       "[('особняк_NOUN', 0.7433063387870789),\n",
       " ('дома_ADV', 0.724058985710144),\n",
       " ('домик_NOUN', 0.7009927034378052),\n",
       " ('квартира_NOUN', 0.694819450378418),\n",
       " ('усадьба_NOUN', 0.611950695514679),\n",
       " ('флигель_NOUN', 0.6017276644706726),\n",
       " ('дача_NOUN', 0.6008142828941345),\n",
       " ('двор_NOUN', 0.5725634694099426),\n",
       " ('комната_NOUN', 0.559021532535553),\n",
       " ('дворец_NOUN', 0.5583986043930054)]"
      ]
     },
     "execution_count": 34,
     "metadata": {},
     "output_type": "execute_result"
    }
   ],
   "source": [
    "print(w2v.vocab['весь_DET'].index)\n",
    "w2v.most_similar(positive=['дом_NOUN'])"
   ]
  },
  {
   "cell_type": "code",
   "execution_count": 37,
   "metadata": {},
   "outputs": [],
   "source": [
    "import pymorphy2\n",
    "morph = pymorphy2.MorphAnalyzer()"
   ]
  },
  {
   "cell_type": "code",
   "execution_count": 50,
   "metadata": {},
   "outputs": [
    {
     "name": "stdout",
     "output_type": "stream",
     "text": [
      "Parse(word='стали', tag=OpencorporaTag('VERB,perf,intr plur,past,indc'), normal_form='стать', score=0.984662, methods_stack=((<DictionaryAnalyzer>, 'стали', 904, 4),))\n",
      "VERB,perf,intr plur,past,indc\n",
      "стать\n",
      "стать_VERB\n"
     ]
    }
   ],
   "source": [
    "p = morph.parse('стали')[0]\n",
    "print(p)\n",
    "print(p.tag)\n",
    "print(p.normal_form)\n",
    "print(p.normal_form + '_' + p.tag.POS)"
   ]
  },
  {
   "cell_type": "code",
   "execution_count": 73,
   "metadata": {},
   "outputs": [
    {
     "name": "stdout",
     "output_type": "stream",
     "text": [
      "['красивый_ADJF']\n"
     ]
    },
    {
     "data": {
      "text/plain": [
       "['особняк',\n",
       " 'дома',\n",
       " 'домик',\n",
       " 'квартира',\n",
       " 'усадьба',\n",
       " 'флигель',\n",
       " 'дача',\n",
       " 'двор',\n",
       " 'комната',\n",
       " 'дворец']"
      ]
     },
     "execution_count": 73,
     "metadata": {},
     "output_type": "execute_result"
    }
   ],
   "source": [
    "import re\n",
    "\n",
    "def norm_word(word):\n",
    "    p = morph.parse(word)[0]\n",
    "    if p.tag.POS is None:\n",
    "        return p.normal_form\n",
    "    return p.normal_form + '_' + p.tag.POS\n",
    "\n",
    "def denorm_word(word):\n",
    "    return word.split('_')[0]\n",
    "\n",
    "words = w2v.most_similar(positive=[norm_word('квартира'), norm_word('собаки')])\n",
    "[denorm_word(w[0]) for w in words]\n",
    "\n",
    "def text_to_norm_words(text):\n",
    "    text_alpha = re.sub(\"[^а-яА-Яa-zA-Z]\",\" \", text)\n",
    "    words = text_alpha.lower().split()\n",
    "    words = [norm_word(w) for w in words]\n",
    "    unknown = [w for w in words if w not in w2v]\n",
    "    if unknown:\n",
    "        print(unknown)\n",
    "    return [w for w in words if w in w2v]\n",
    "\n",
    "def find_similar(positive, negative):\n",
    "    similar = w2v.most_similar(\n",
    "        positive=text_to_norm_words(positive),\n",
    "        negative=text_to_norm_words(negative)\n",
    "    )\n",
    "    return [denorm_word(word[0]) for word in similar]\n",
    "\n",
    "find_similar('дом', 'красивый')"
   ]
  },
  {
   "cell_type": "code",
   "execution_count": 75,
   "metadata": {},
   "outputs": [
    {
     "data": {
      "text/plain": [
       "['красивый_ADJ']"
      ]
     },
     "execution_count": 75,
     "metadata": {},
     "output_type": "execute_result"
    }
   ],
   "source": [
    "[w for w in w2v.index2word if w.startswith('красивый')]"
   ]
  },
  {
   "cell_type": "code",
   "execution_count": 77,
   "metadata": {},
   "outputs": [
    {
     "data": {
      "text/plain": [
       "{'ADJ',\n",
       " 'ADP',\n",
       " 'ADV',\n",
       " 'CCONJ',\n",
       " 'DET',\n",
       " 'INTJ',\n",
       " 'NOUN',\n",
       " 'NUM',\n",
       " 'PART',\n",
       " 'PRON',\n",
       " 'VERB'}"
      ]
     },
     "execution_count": 77,
     "metadata": {},
     "output_type": "execute_result"
    }
   ],
   "source": [
    "set([w.split('_')[1] for w in w2v.index2word])"
   ]
  },
  {
   "cell_type": "code",
   "execution_count": 81,
   "metadata": {},
   "outputs": [
    {
     "data": {
      "text/plain": [
       "300"
      ]
     },
     "execution_count": 81,
     "metadata": {},
     "output_type": "execute_result"
    }
   ],
   "source": [
    "len(w2v.word_vec(norm_word('квартира')))"
   ]
  }
 ],
 "metadata": {
  "kernelspec": {
   "display_name": "Python 3",
   "language": "python",
   "name": "python3"
  },
  "language_info": {
   "codemirror_mode": {
    "name": "ipython",
    "version": 3
   },
   "file_extension": ".py",
   "mimetype": "text/x-python",
   "name": "python",
   "nbconvert_exporter": "python",
   "pygments_lexer": "ipython3",
   "version": "3.6.3"
  }
 },
 "nbformat": 4,
 "nbformat_minor": 2
}
