{
 "cells": [
  {
   "cell_type": "code",
   "execution_count": 5,
   "metadata": {
    "collapsed": true
   },
   "outputs": [],
   "source": [
    "%matplotlib inline\n",
    "import numpy as np\n",
    "import pandas as pd"
   ]
  },
  {
   "cell_type": "code",
   "execution_count": 7,
   "metadata": {},
   "outputs": [
    {
     "data": {
      "text/html": [
       "<div>\n",
       "<style>\n",
       "    .dataframe thead tr:only-child th {\n",
       "        text-align: right;\n",
       "    }\n",
       "\n",
       "    .dataframe thead th {\n",
       "        text-align: left;\n",
       "    }\n",
       "\n",
       "    .dataframe tbody tr th {\n",
       "        vertical-align: top;\n",
       "    }\n",
       "</style>\n",
       "<table border=\"1\" class=\"dataframe\">\n",
       "  <thead>\n",
       "    <tr style=\"text-align: right;\">\n",
       "      <th></th>\n",
       "      <th>tender_id</th>\n",
       "      <th>tender_name</th>\n",
       "      <th>lots</th>\n",
       "      <th>otrasl</th>\n",
       "      <th>podortasl</th>\n",
       "      <th>okpd2</th>\n",
       "      <th>okpd2_name</th>\n",
       "    </tr>\n",
       "  </thead>\n",
       "  <tbody>\n",
       "    <tr>\n",
       "      <th>0</th>\n",
       "      <td>74180833</td>\n",
       "      <td>ОГАУЗ 'ИГПЦ' объявляет тендер: Закупка №423183...</td>\n",
       "      <td>Поставка бумаги офисной,Поставка бумаги офисно...</td>\n",
       "      <td>Офис, дом</td>\n",
       "      <td>Канцелярские принадлежности</td>\n",
       "      <td>172314</td>\n",
       "      <td>Бумага и картон прочие, используемые для письм...</td>\n",
       "    </tr>\n",
       "    <tr>\n",
       "      <th>1</th>\n",
       "      <td>74180861</td>\n",
       "      <td>Поставка ветеринарных препаратов, биопрепарато...</td>\n",
       "      <td>Поставка ветеринарных препаратов, биопрепарато...</td>\n",
       "      <td>Медицина, фармакология</td>\n",
       "      <td>Лекарственные препараты, витамины, расходные м...</td>\n",
       "      <td>212010191</td>\n",
       "      <td>Препараты антибактериальные для системного исп...</td>\n",
       "    </tr>\n",
       "    <tr>\n",
       "      <th>2</th>\n",
       "      <td>74180862</td>\n",
       "      <td>Поставка материалов из винипласта</td>\n",
       "      <td>Поставка материалов из винипласта,Поставка мат...</td>\n",
       "      <td>Строительство, недвижимость и архитектура</td>\n",
       "      <td>Строительные материалы, оборудование и инструм...</td>\n",
       "      <td>222130110</td>\n",
       "      <td>Плиты, листы пластмассовые, неармированные или...</td>\n",
       "    </tr>\n",
       "    <tr>\n",
       "      <th>3</th>\n",
       "      <td>74180863</td>\n",
       "      <td>Оказание услуг по организации подготовки и опу...</td>\n",
       "      <td>Оказание услуг по организации подготовки и опу...</td>\n",
       "      <td>Бизнес, финансы, страхование, маркетинг и реклама</td>\n",
       "      <td>Реклама, PR, Маркетинг</td>\n",
       "      <td>639111000</td>\n",
       "      <td>Услуги информационных агентств, предоставляемы...</td>\n",
       "    </tr>\n",
       "    <tr>\n",
       "      <th>4</th>\n",
       "      <td>74180868</td>\n",
       "      <td>Поставка материалов верхнего строения пути (Ре...</td>\n",
       "      <td>Поставка материалов верхнего строения пути (Ре...</td>\n",
       "      <td>Металлы, металлоизделия</td>\n",
       "      <td>Металлоизделия и металлоконструкции</td>\n",
       "      <td>259411153</td>\n",
       "      <td>Болты закладные для рельсовых скреплений желез...</td>\n",
       "    </tr>\n",
       "  </tbody>\n",
       "</table>\n",
       "</div>"
      ],
      "text/plain": [
       "   tender_id                                        tender_name  \\\n",
       "0   74180833  ОГАУЗ 'ИГПЦ' объявляет тендер: Закупка №423183...   \n",
       "1   74180861  Поставка ветеринарных препаратов, биопрепарато...   \n",
       "2   74180862                  Поставка материалов из винипласта   \n",
       "3   74180863  Оказание услуг по организации подготовки и опу...   \n",
       "4   74180868  Поставка материалов верхнего строения пути (Ре...   \n",
       "\n",
       "                                                lots  \\\n",
       "0  Поставка бумаги офисной,Поставка бумаги офисно...   \n",
       "1  Поставка ветеринарных препаратов, биопрепарато...   \n",
       "2  Поставка материалов из винипласта,Поставка мат...   \n",
       "3  Оказание услуг по организации подготовки и опу...   \n",
       "4  Поставка материалов верхнего строения пути (Ре...   \n",
       "\n",
       "                                              otrasl  \\\n",
       "0                                          Офис, дом   \n",
       "1                             Медицина, фармакология   \n",
       "2          Строительство, недвижимость и архитектура   \n",
       "3  Бизнес, финансы, страхование, маркетинг и реклама   \n",
       "4                            Металлы, металлоизделия   \n",
       "\n",
       "                                           podortasl      okpd2  \\\n",
       "0                        Канцелярские принадлежности     172314   \n",
       "1  Лекарственные препараты, витамины, расходные м...  212010191   \n",
       "2  Строительные материалы, оборудование и инструм...  222130110   \n",
       "3                             Реклама, PR, Маркетинг  639111000   \n",
       "4                Металлоизделия и металлоконструкции  259411153   \n",
       "\n",
       "                                          okpd2_name  \n",
       "0  Бумага и картон прочие, используемые для письм...  \n",
       "1  Препараты антибактериальные для системного исп...  \n",
       "2  Плиты, листы пластмассовые, неармированные или...  \n",
       "3  Услуги информационных агентств, предоставляемы...  \n",
       "4  Болты закладные для рельсовых скреплений желез...  "
      ]
     },
     "execution_count": 7,
     "metadata": {},
     "output_type": "execute_result"
    }
   ],
   "source": [
    "dataset = pd.read_csv('list10.csv', sep=';')\n",
    "dataset.head()"
   ]
  },
  {
   "cell_type": "code",
   "execution_count": 9,
   "metadata": {},
   "outputs": [
    {
     "data": {
      "text/plain": [
       "\"ОГАУЗ 'ИГПЦ' объявляет тендер: Закупка №4231833. Поставка бумаги офисной\""
      ]
     },
     "execution_count": 9,
     "metadata": {},
     "output_type": "execute_result"
    }
   ],
   "source": [
    "dataset['tender_name'][0]"
   ]
  },
  {
   "cell_type": "code",
   "execution_count": 11,
   "metadata": {},
   "outputs": [],
   "source": [
    "from sklearn.metrics import mean_squared_error\n",
    "import re\n",
    "import nltk\n",
    "from nltk.corpus import stopwords\n",
    "import pymorphy2\n",
    "morph = pymorphy2.MorphAnalyzer()"
   ]
  },
  {
   "cell_type": "code",
   "execution_count": 26,
   "metadata": {},
   "outputs": [
    {
     "name": "stdout",
     "output_type": "stream",
     "text": [
      "ОГАУЗ 'ИГПЦ' объявляет тендер: Закупка №4231833. Поставка бумаги офисной\n",
      "ОГАУЗ  ИГПЦ  объявляет тендер  Закупка           Поставка бумаги офисной\n",
      "огауз  игпц  объявляет тендер  закупка           поставка бумаги офисной\n",
      "['огауз', 'игпц', 'объявляет', 'тендер', 'закупка', 'поставка', 'бумаги', 'офисной']\n",
      "['огауз', 'игпц', 'объявляет', 'тендер', 'закупка', 'поставка', 'бумаги', 'офисной']\n",
      "['огауз', 'игпц', 'объявлять', 'тендер', 'закупка', 'поставка', 'бумага', 'офисный']\n"
     ]
    }
   ],
   "source": [
    "stops = set(stopwords.words(\"english\")) | set(stopwords.words(\"russian\"))\n",
    "\n",
    "text = dataset['tender_name'][0]\n",
    "print(text)\n",
    "\n",
    "text_alpha = re.sub(\"[^а-яА-Яa-zA-Z]\",\" \", text)\n",
    "print(text_alpha)\n",
    "\n",
    "text_lower = text_alpha.lower()\n",
    "print(text_lower)\n",
    "\n",
    "words = text_lower.split()\n",
    "print(words)\n",
    "\n",
    "words = [w for w in words if not w in stops]\n",
    "print(words)\n",
    "\n",
    "words = [morph.parse(w)[0].normal_form for w in words]\n",
    "print(words)"
   ]
  },
  {
   "cell_type": "code",
   "execution_count": null,
   "metadata": {
    "collapsed": true
   },
   "outputs": [],
   "source": [
    "def text_to_wordlist(text):\n",
    "    text_alpha = re.sub(\"[^а-яА-Яa-zA-Z]\",\" \", text)\n",
    "    words = text_alpha.lower().split()\n",
    "    words = [w for w in words if not w in stops]\n",
    "    words = [morph.parse(w)[0].normal_form for w in words ]\n",
    "    return words\n",
    "\n"
   ]
  }
 ],
 "metadata": {
  "kernelspec": {
   "display_name": "Python 3",
   "language": "python",
   "name": "python3"
  },
  "language_info": {
   "codemirror_mode": {
    "name": "ipython",
    "version": 3
   },
   "file_extension": ".py",
   "mimetype": "text/x-python",
   "name": "python",
   "nbconvert_exporter": "python",
   "pygments_lexer": "ipython3",
   "version": "3.6.3"
  }
 },
 "nbformat": 4,
 "nbformat_minor": 2
}
