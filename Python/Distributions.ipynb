{
 "cells": [
  {
   "cell_type": "code",
   "execution_count": 2,
   "metadata": {
    "collapsed": true
   },
   "outputs": [],
   "source": [
    "%matplotlib inline\n",
    "import numpy as np\n",
    "import matplotlib.pyplot as plt\n",
    "import math\n",
    "from ipywidgets import *\n",
    "import scipy.stats as stats\n",
    "\n",
    "# Чтобы графики были побольше\n",
    "plt.rcParams[\"figure.figsize\"] = (10, 6)\n"
   ]
  },
  {
   "cell_type": "code",
   "execution_count": 14,
   "metadata": {},
   "outputs": [
    {
     "data": {
      "application/vnd.jupyter.widget-view+json": {
       "model_id": "ce5d3d0fd8974d4da507d5dedd2d1ffc",
       "version_major": 2,
       "version_minor": 0
      },
      "text/plain": [
       "A Jupyter Widget"
      ]
     },
     "metadata": {},
     "output_type": "display_data"
    },
    {
     "data": {
      "text/plain": [
       "<function __main__.draw>"
      ]
     },
     "execution_count": 14,
     "metadata": {},
     "output_type": "execute_result"
    }
   ],
   "source": [
    "# Бета-распределение\n",
    "\n",
    "x = np.linspace(0, 1, 200)\n",
    "\n",
    "def draw(a, b):\n",
    "    y = stats.beta(a, b).pdf(x)\n",
    "    plt.plot(x, y, label = \"beta\")\n",
    "    plt.xlim(x[0], x[-1])\n",
    "    plt.ylim(0, 5)\n",
    "    # plt.axes().set_aspect('equal')\n",
    "    plt.grid(True)\n",
    "    plt.legend()\n",
    "    plt.show()\n",
    "\n",
    "interact(draw,\n",
    "         a=widgets.FloatSlider( min = 0, max = 5, step = 0.1, value = 2 ),\n",
    "         b=widgets.FloatSlider( min = 0, max = 5, step = 0.1, value = 3 )\n",
    "         )\n"
   ]
  }
 ],
 "metadata": {
  "kernelspec": {
   "display_name": "Python 3",
   "language": "python",
   "name": "python3"
  },
  "language_info": {
   "codemirror_mode": {
    "name": "ipython",
    "version": 3
   },
   "file_extension": ".py",
   "mimetype": "text/x-python",
   "name": "python",
   "nbconvert_exporter": "python",
   "pygments_lexer": "ipython3",
   "version": "3.6.2"
  }
 },
 "nbformat": 4,
 "nbformat_minor": 1
}
