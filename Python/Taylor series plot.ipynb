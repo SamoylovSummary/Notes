{
 "cells": [
  {
   "cell_type": "code",
   "execution_count": 1,
   "metadata": {
    "collapsed": true
   },
   "outputs": [],
   "source": [
    "%matplotlib inline\n",
    "import numpy as np\n",
    "import matplotlib.pyplot as plt\n",
    "import math\n",
    "from ipywidgets import *\n",
    "\n",
    "# Чтобы графики были побольше\n",
    "plt.rcParams[\"figure.figsize\"] = (10, 6)"
   ]
  },
  {
   "cell_type": "code",
   "execution_count": 3,
   "metadata": {},
   "outputs": [
    {
     "data": {
      "application/vnd.jupyter.widget-view+json": {
       "model_id": "32559a1ab97347bb83b2ff442edc5a61",
       "version_major": 2,
       "version_minor": 0
      },
      "text/plain": [
       "A Jupyter Widget"
      ]
     },
     "metadata": {},
     "output_type": "display_data"
    },
    {
     "data": {
      "text/plain": [
       "<function __main__.draw>"
      ]
     },
     "execution_count": 3,
     "metadata": {},
     "output_type": "execute_result"
    }
   ],
   "source": [
    "# Разложение функции в ряд тейлора\n",
    "\n",
    "x = np.linspace(-10, 10, 200)\n",
    "\n",
    "#f = np.log(1 + np.exp(-x))\n",
    "f = np.sin(x)\n",
    "\n",
    "fG1 = np.gradient(f, x)\n",
    "fG2 = np.gradient(fG1, x)\n",
    "fG3 = np.gradient(fG2, x)\n",
    "fG4 = np.gradient(fG3, x)\n",
    "fG5 = np.gradient(fG4, x)\n",
    "fG6 = np.gradient(fG5, x)\n",
    "\n",
    "def draw(index):\n",
    "    plt.plot(x, f, label = \"f\")\n",
    "\n",
    "    x0 = x[index]\n",
    "    y0 = f[index]\n",
    "    plt.plot([x0], [y0], \"ro\")\n",
    "\n",
    "    f1 = y0 + ( x - x0 ) * fG1[index]\n",
    "    plt.plot(x, f1, label = \"f1\")\n",
    "\n",
    "    f2 = f1 + ( x - x0 ) ** 2 * fG2[index] / 2\n",
    "    plt.plot(x, f2, label = \"f2\")\n",
    "\n",
    "    f3 = f2 + ( x - x0 ) ** 3 * fG3[index] / 6\n",
    "    plt.plot(x, f3, label = \"f3\")\n",
    "\n",
    "    f4 = f3 + ( x - x0 ) ** 4 * fG4[index] / 24\n",
    "    plt.plot(x, f4, label = \"f4\")\n",
    "\n",
    "    f5 = f4 + ( x - x0 ) ** 5 * fG5[index] / 120\n",
    "    plt.plot(x, f5, label = \"f5\")\n",
    "\n",
    "    f6 = f5 + ( x - x0 ) ** 6 * fG6[index] / 720\n",
    "    plt.plot(x, f6, label = \"f6\")\n",
    "\n",
    "    plt.xlim(x[0], x[-1])\n",
    "    plt.ylim(-5, 10)\n",
    "    plt.axes().set_aspect('equal')\n",
    "    plt.grid(True)\n",
    "    plt.legend()\n",
    "    plt.show()\n",
    "\n",
    "interact(draw, index=widgets.IntSlider( min = 0, max = x.size - 1, step = 1, value = x.size // 2 ))\n"
   ]
  },
  {
   "cell_type": "code",
   "execution_count": null,
   "metadata": {
    "collapsed": true
   },
   "outputs": [],
   "source": []
  }
 ],
 "metadata": {
  "kernelspec": {
   "display_name": "Python 3",
   "language": "python",
   "name": "python3"
  },
  "language_info": {
   "codemirror_mode": {
    "name": "ipython",
    "version": 3
   },
   "file_extension": ".py",
   "mimetype": "text/x-python",
   "name": "python",
   "nbconvert_exporter": "python",
   "pygments_lexer": "ipython3",
   "version": "3.6.2"
  }
 },
 "nbformat": 4,
 "nbformat_minor": 1
}
