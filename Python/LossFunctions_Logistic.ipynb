{
 "cells": [
  {
   "cell_type": "code",
   "execution_count": 1,
   "metadata": {
    "collapsed": true
   },
   "outputs": [],
   "source": [
    "%matplotlib inline\n",
    "import numpy as np\n",
    "import matplotlib.pyplot as plt\n",
    "import math\n",
    "from ipywidgets import *\n",
    "\n",
    "# Чтобы графики были побольше\n",
    "plt.rcParams[\"figure.figsize\"] = (10, 6)"
   ]
  },
  {
   "cell_type": "code",
   "execution_count": 2,
   "metadata": {},
   "outputs": [
    {
     "data": {
      "image/png": "[encoded data removed]",
      "text/plain": [
       "<matplotlib.figure.Figure at 0x22ddfc234e0>"
      ]
     },
     "metadata": {},
     "output_type": "display_data"
    }
   ],
   "source": [
    "x = np.linspace(-4, 4, 200)\n",
    "\n",
    "# синяя\n",
    "logisticLossP = np.log(1 + np.exp(-x))\n",
    "plt.plot(x, logisticLossP)\n",
    "\n",
    "# зелёная\n",
    "logisticLossN = np.log(1 + np.exp(x))\n",
    "plt.plot(x, logisticLossN)\n",
    "\n",
    "plt.xlim(x[0], x[-1])\n",
    "plt.ylim(-1, 4)\n",
    "plt.axes().set_aspect('equal')\n",
    "plt.grid(True)\n",
    "plt.show()"
   ]
  },
  {
   "cell_type": "code",
   "execution_count": 18,
   "metadata": {},
   "outputs": [
    {
     "name": "stdout",
     "output_type": "stream",
     "text": [
      "Running unit tests for numpy\n",
      "NumPy version 1.12.1\n",
      "NumPy relaxed strides checking option: True\n",
      "NumPy is installed in C:\\Anaconda3\\lib\\site-packages\\numpy\n",
      "Python version 3.6.1 |Anaconda 4.4.0 (64-bit)| (default, May 11 2017, 13:25:24) [MSC v.1900 64 bit (AMD64)]\n",
      "nose version 1.3.7\n"
     ]
    },
    {
     "name": "stderr",
     "output_type": "stream",
     "text": [
      "C:\\Anaconda3\\lib\\site-packages\\nose\\inspector.py:117: DeprecationWarning: invalid escape sequence \\ \n",
      "  \"\"\"\n",
      "...........................................................................................................................................................................................................................S.......................................................................................................................................................................................................................................................................................................................................................................................................................................................................................................................................................................................................................................................................................................................................................................................................................................................................................................................................................................................................................................................................................................................................................................................................................................................................................................................................................................................................................................................S..........................................................................................................................................................................................................................................................................................................................................................................................................................................................................................................................................................................K..........................................................................................................................................................................................................................................................................................................................................................................................................................................................K............................................................................F.........................................................................................................................................................................................................................................................................................................................................................K..K.................................K...SK.S.......S.................................................................................................S..SSSSSSSSSSSSSSSSSSSSSSSSSSSSSSSS.....................................................................................................................................................................................................................................................................................................................................................................................................................................................................................................................................................................................................................................................................................S..........................................................................................................................................................................................................................................................................................................................................................................................K..................K.............................................................................................................................................................................F.................................................................................................................................................................................................................................................................................................................................S.....................................................................................................................................S......................................................................................................................................................................................................................................................................................................................................................................................................................................................................................................................................................................................................................................................................................................................................................................................................................................................................................................................................................................................................................................................................................................................................................................................\n",
      "======================================================================\n",
      "FAIL: test_refcount_vdot (test_regression.TestRegression)\n",
      "----------------------------------------------------------------------\n",
      "Traceback (most recent call last):\n",
      "  File \"C:\\Anaconda3\\lib\\site-packages\\numpy\\core\\tests\\test_regression.py\", line 659, in test_refcount_vdot\n",
      "    _assert_valid_refcount(np.vdot)\n",
      "  File \"C:\\Anaconda3\\lib\\site-packages\\numpy\\testing\\utils.py\", line 1352, in _assert_valid_refcount\n",
      "    assert_(sys.getrefcount(i) >= rc)\n",
      "  File \"C:\\Anaconda3\\lib\\site-packages\\numpy\\testing\\utils.py\", line 110, in assert_\n",
      "    raise AssertionError(smsg)\n",
      "AssertionError\n",
      "\n",
      "======================================================================\n",
      "FAIL: test_refcount_vectorize (test_regression.TestRegression)\n",
      "----------------------------------------------------------------------\n",
      "Traceback (most recent call last):\n",
      "  File \"C:\\Anaconda3\\lib\\site-packages\\numpy\\lib\\tests\\test_regression.py\", line 58, in test_refcount_vectorize\n",
      "    _assert_valid_refcount(v)\n",
      "  File \"C:\\Anaconda3\\lib\\site-packages\\numpy\\testing\\utils.py\", line 1352, in _assert_valid_refcount\n",
      "    assert_(sys.getrefcount(i) >= rc)\n",
      "  File \"C:\\Anaconda3\\lib\\site-packages\\numpy\\testing\\utils.py\", line 110, in assert_\n",
      "    raise AssertionError(smsg)\n",
      "AssertionError\n",
      "\n",
      "----------------------------------------------------------------------\n",
      "Ran 6056 tests in 170.668s\n",
      "\n",
      "FAILED (KNOWNFAIL=8, SKIP=41, failures=2)\n"
     ]
    },
    {
     "data": {
      "text/plain": [
       "array([ 1. ,  1.5,  2.5,  3.5,  4.5,  5. ])"
      ]
     },
     "execution_count": 18,
     "metadata": {},
     "output_type": "execute_result"
    }
   ],
   "source": [
    "# Производные\n",
    "\n",
    "np.test('full')\n",
    "\n",
    "x = np.array([1, 2, 4, 7, 11, 16], dtype=np.float)\n",
    "np.gradient(x)\n"
   ]
  },
  {
   "cell_type": "code",
   "execution_count": 9,
   "metadata": {},
   "outputs": [
    {
     "ename": "ValueError",
     "evalue": "distances must be scalars",
     "output_type": "error",
     "traceback": [
      "\u001b[1;31m---------------------------------------------------------------------------\u001b[0m",
      "\u001b[1;31mValueError\u001b[0m                                Traceback (most recent call last)",
      "\u001b[1;32m<ipython-input-9-49712f008a1b>\u001b[0m in \u001b[0;36m<module>\u001b[1;34m()\u001b[0m\n\u001b[0;32m      6\u001b[0m     \u001b[0mprint\u001b[0m\u001b[1;33m(\u001b[0m\u001b[0mdxi\u001b[0m\u001b[1;33m)\u001b[0m\u001b[1;33m\u001b[0m\u001b[0m\n\u001b[0;32m      7\u001b[0m \u001b[1;33m\u001b[0m\u001b[0m\n\u001b[1;32m----> 8\u001b[1;33m \u001b[0mlogisticLossPD\u001b[0m \u001b[1;33m=\u001b[0m \u001b[0mnp\u001b[0m\u001b[1;33m.\u001b[0m\u001b[0mgradient\u001b[0m\u001b[1;33m(\u001b[0m\u001b[0mlogisticLossP\u001b[0m\u001b[1;33m,\u001b[0m \u001b[0mdx\u001b[0m\u001b[1;33m)\u001b[0m\u001b[1;33m\u001b[0m\u001b[0m\n\u001b[0m\u001b[0;32m      9\u001b[0m \u001b[0mplt\u001b[0m\u001b[1;33m.\u001b[0m\u001b[0mplot\u001b[0m\u001b[1;33m(\u001b[0m\u001b[0mx\u001b[0m\u001b[1;33m,\u001b[0m \u001b[0mlogisticLossPD\u001b[0m\u001b[1;33m)\u001b[0m\u001b[1;33m\u001b[0m\u001b[0m\n\u001b[0;32m     10\u001b[0m \u001b[1;33m\u001b[0m\u001b[0m\n",
      "\u001b[1;32mC:\\Anaconda3\\lib\\site-packages\\numpy\\lib\\function_base.py\u001b[0m in \u001b[0;36mgradient\u001b[1;34m(f, *varargs, **kwargs)\u001b[0m\n\u001b[0;32m   1596\u001b[0m             \"invalid number of arguments\")\n\u001b[0;32m   1597\u001b[0m     \u001b[1;32mif\u001b[0m \u001b[0many\u001b[0m\u001b[1;33m(\u001b[0m\u001b[1;33m[\u001b[0m\u001b[1;32mnot\u001b[0m \u001b[0mnp\u001b[0m\u001b[1;33m.\u001b[0m\u001b[0misscalar\u001b[0m\u001b[1;33m(\u001b[0m\u001b[0mdxi\u001b[0m\u001b[1;33m)\u001b[0m \u001b[1;32mfor\u001b[0m \u001b[0mdxi\u001b[0m \u001b[1;32min\u001b[0m \u001b[0mdx\u001b[0m\u001b[1;33m]\u001b[0m\u001b[1;33m)\u001b[0m\u001b[1;33m:\u001b[0m\u001b[1;33m\u001b[0m\u001b[0m\n\u001b[1;32m-> 1598\u001b[1;33m         \u001b[1;32mraise\u001b[0m \u001b[0mValueError\u001b[0m\u001b[1;33m(\u001b[0m\u001b[1;34m\"distances must be scalars\"\u001b[0m\u001b[1;33m)\u001b[0m\u001b[1;33m\u001b[0m\u001b[0m\n\u001b[0m\u001b[0;32m   1599\u001b[0m \u001b[1;33m\u001b[0m\u001b[0m\n\u001b[0;32m   1600\u001b[0m     \u001b[0medge_order\u001b[0m \u001b[1;33m=\u001b[0m \u001b[0mkwargs\u001b[0m\u001b[1;33m.\u001b[0m\u001b[0mpop\u001b[0m\u001b[1;33m(\u001b[0m\u001b[1;34m'edge_order'\u001b[0m\u001b[1;33m,\u001b[0m \u001b[1;36m1\u001b[0m\u001b[1;33m)\u001b[0m\u001b[1;33m\u001b[0m\u001b[0m\n",
      "\u001b[1;31mValueError\u001b[0m: distances must be scalars"
     ]
    }
   ],
   "source": [
    "# Производные\n",
    "\n",
    "dx = np.gradient(x)\n",
    "\n",
    "if any([not np.isscalar(dxi) for dxi in dx]):\n",
    "    print(dxi)\n",
    "\n",
    "logisticLossPD = np.gradient(logisticLossP, dx)\n",
    "plt.plot(x, logisticLossPD)\n",
    "\n",
    "logisticLossND = np.gradient(logisticLossN, dx)\n",
    "plt.plot(x, logisticLossND)\n",
    "\n",
    "logisticLossPDD = np.gradient(logisticLossPD, dx)\n",
    "plt.plot(x, logisticLossPDD)\n",
    "\n",
    "logisticLossNDD = np.gradient(logisticLossND, dx)\n",
    "plt.plot(x, logisticLossNDD)\n",
    "\n",
    "logisticLossDDD = np.gradient(logisticLossPDD, dx)\n",
    "plt.plot(x, logisticLossDDD)\n",
    "\n",
    "plt.xlim(x[4], x[-4])\n",
    "plt.ylim(-1, 1)\n",
    "plt.axes().set_aspect('equal')\n",
    "plt.grid(True)\n",
    "plt.show()"
   ]
  },
  {
   "cell_type": "code",
   "execution_count": 4,
   "metadata": {},
   "outputs": [
    {
     "ename": "ValueError",
     "evalue": "distances must be scalars",
     "output_type": "error",
     "traceback": [
      "\u001b[1;31m---------------------------------------------------------------------------\u001b[0m",
      "\u001b[1;31mValueError\u001b[0m                                Traceback (most recent call last)",
      "\u001b[1;32m<ipython-input-4-4a7f9b6a6900>\u001b[0m in \u001b[0;36m<module>\u001b[1;34m()\u001b[0m\n\u001b[0;32m      7\u001b[0m \u001b[1;31m#f = np.sin(x)\u001b[0m\u001b[1;33m\u001b[0m\u001b[1;33m\u001b[0m\u001b[0m\n\u001b[0;32m      8\u001b[0m \u001b[1;33m\u001b[0m\u001b[0m\n\u001b[1;32m----> 9\u001b[1;33m \u001b[0mfG1\u001b[0m \u001b[1;33m=\u001b[0m \u001b[0mnp\u001b[0m\u001b[1;33m.\u001b[0m\u001b[0mgradient\u001b[0m\u001b[1;33m(\u001b[0m\u001b[0mf\u001b[0m\u001b[1;33m,\u001b[0m \u001b[0mdx\u001b[0m\u001b[1;33m)\u001b[0m\u001b[1;33m\u001b[0m\u001b[0m\n\u001b[0m\u001b[0;32m     10\u001b[0m \u001b[0mfG2\u001b[0m \u001b[1;33m=\u001b[0m \u001b[0mnp\u001b[0m\u001b[1;33m.\u001b[0m\u001b[0mgradient\u001b[0m\u001b[1;33m(\u001b[0m\u001b[0mfG1\u001b[0m\u001b[1;33m,\u001b[0m \u001b[0mdx\u001b[0m\u001b[1;33m)\u001b[0m\u001b[1;33m\u001b[0m\u001b[0m\n\u001b[0;32m     11\u001b[0m \u001b[1;33m\u001b[0m\u001b[0m\n",
      "\u001b[1;32mC:\\Anaconda3\\lib\\site-packages\\numpy\\lib\\function_base.py\u001b[0m in \u001b[0;36mgradient\u001b[1;34m(f, *varargs, **kwargs)\u001b[0m\n\u001b[0;32m   1596\u001b[0m             \"invalid number of arguments\")\n\u001b[0;32m   1597\u001b[0m     \u001b[1;32mif\u001b[0m \u001b[0many\u001b[0m\u001b[1;33m(\u001b[0m\u001b[1;33m[\u001b[0m\u001b[1;32mnot\u001b[0m \u001b[0mnp\u001b[0m\u001b[1;33m.\u001b[0m\u001b[0misscalar\u001b[0m\u001b[1;33m(\u001b[0m\u001b[0mdxi\u001b[0m\u001b[1;33m)\u001b[0m \u001b[1;32mfor\u001b[0m \u001b[0mdxi\u001b[0m \u001b[1;32min\u001b[0m \u001b[0mdx\u001b[0m\u001b[1;33m]\u001b[0m\u001b[1;33m)\u001b[0m\u001b[1;33m:\u001b[0m\u001b[1;33m\u001b[0m\u001b[0m\n\u001b[1;32m-> 1598\u001b[1;33m         \u001b[1;32mraise\u001b[0m \u001b[0mValueError\u001b[0m\u001b[1;33m(\u001b[0m\u001b[1;34m\"distances must be scalars\"\u001b[0m\u001b[1;33m)\u001b[0m\u001b[1;33m\u001b[0m\u001b[0m\n\u001b[0m\u001b[0;32m   1599\u001b[0m \u001b[1;33m\u001b[0m\u001b[0m\n\u001b[0;32m   1600\u001b[0m     \u001b[0medge_order\u001b[0m \u001b[1;33m=\u001b[0m \u001b[0mkwargs\u001b[0m\u001b[1;33m.\u001b[0m\u001b[0mpop\u001b[0m\u001b[1;33m(\u001b[0m\u001b[1;34m'edge_order'\u001b[0m\u001b[1;33m,\u001b[0m \u001b[1;36m1\u001b[0m\u001b[1;33m)\u001b[0m\u001b[1;33m\u001b[0m\u001b[0m\n",
      "\u001b[1;31mValueError\u001b[0m: distances must be scalars"
     ]
    }
   ],
   "source": [
    "# Разложение функции в ряд тейлора\n",
    "\n",
    "x = np.linspace(-5, 5, 200)\n",
    "dx = np.gradient(x)\n",
    "\n",
    "f = np.log(1 + np.exp(-x)) + x * x * 0.05\n",
    "#f = np.sin(x)\n",
    "\n",
    "fG1 = np.gradient(f, dx)\n",
    "fG2 = np.gradient(fG1, dx)\n",
    "\n",
    "def draw(index):\n",
    "    plt.plot(x, f, label = \"f\")\n",
    "\n",
    "    x0 = x[index]\n",
    "    y0 = f[index]\n",
    "    plt.plot([x0], [y0], \"ro\")\n",
    "\n",
    "    f1 = y0 + ( x - x0 ) * fG1[index]\n",
    "    plt.plot(x, f1, label = \"f1\")\n",
    "\n",
    "    f2 = f1 + ( x - x0 ) ** 2 * fG2[index] / 2\n",
    "    plt.plot(x, f2, label = \"f2\")\n",
    "\n",
    "    plt.xlim(x[0], x[-1])\n",
    "    plt.ylim(-2, 5)\n",
    "    plt.axes().set_aspect('equal')\n",
    "    plt.grid(True)\n",
    "    plt.legend()\n",
    "    plt.show()\n",
    "\n",
    "interact(draw, index=widgets.IntSlider( min = 0, max = x.size - 1, step = 1, value = x.size // 2 ))\n"
   ]
  },
  {
   "cell_type": "code",
   "execution_count": null,
   "metadata": {
    "collapsed": true
   },
   "outputs": [],
   "source": []
  }
 ],
 "metadata": {
  "kernelspec": {
   "display_name": "Python 3",
   "language": "python",
   "name": "python3"
  },
  "language_info": {
   "codemirror_mode": {
    "name": "ipython",
    "version": 3
   },
   "file_extension": ".py",
   "mimetype": "text/x-python",
   "name": "python",
   "nbconvert_exporter": "python",
   "pygments_lexer": "ipython3",
   "version": "3.6.1"
  }
 },
 "nbformat": 4,
 "nbformat_minor": 1
}
