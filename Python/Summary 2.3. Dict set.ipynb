{
 "cells": [
  {
   "cell_type": "markdown",
   "metadata": {},
   "source": [
    "# Set"
   ]
  },
  {
   "cell_type": "code",
   "execution_count": 7,
   "metadata": {},
   "outputs": [
    {
     "name": "stdout",
     "output_type": "stream",
     "text": [
      "{'pear', 'orange', 'banana', 'apple'}\n",
      "['apple', 'banana', 'orange', 'pear']\n",
      "True\n",
      "False\n"
     ]
    }
   ],
   "source": [
    "a = {'apple', 'orange', 'apple', 'pear', 'orange', 'banana'}\n",
    "print(a)\n",
    "print(sorted(a))\n",
    "print('orange' in a)\n",
    "print('orange' not in a)"
   ]
  },
  {
   "cell_type": "code",
   "execution_count": 10,
   "metadata": {},
   "outputs": [
    {
     "name": "stdout",
     "output_type": "stream",
     "text": [
      "{1, 3, 9, 7}\n"
     ]
    }
   ],
   "source": [
    "print({3**i % 10 for i in range(10)})"
   ]
  },
  {
   "cell_type": "markdown",
   "metadata": {},
   "source": [
    "# Dict"
   ]
  },
  {
   "cell_type": "code",
   "execution_count": 23,
   "metadata": {},
   "outputs": [
    {
     "name": "stdout",
     "output_type": "stream",
     "text": [
      "{'one': 1, 'two': 2, 'three': 3}\n",
      "one is 1\n",
      "two is 2\n",
      "three is 3\n",
      "{1: 'one', 2: 'two', 3: 'three'}\n",
      "False\n",
      "dict_keys(['one', 'two', 'three'])\n"
     ]
    }
   ],
   "source": [
    "a = {'one': 1, 'two': 2, 'three': 3}\n",
    "print(a)\n",
    "for k, v in a.items():\n",
    "    print(k, 'is', v)\n",
    "print({v: k for k, v in a.items()})\n",
    "print('four' in a)\n",
    "print(a.keys())"
   ]
  }
 ],
 "metadata": {
  "kernelspec": {
   "display_name": "Python 3",
   "language": "python",
   "name": "python3"
  },
  "language_info": {
   "codemirror_mode": {
    "name": "ipython",
    "version": 3
   },
   "file_extension": ".py",
   "mimetype": "text/x-python",
   "name": "python",
   "nbconvert_exporter": "python",
   "pygments_lexer": "ipython3",
   "version": "3.6.3"
  }
 },
 "nbformat": 4,
 "nbformat_minor": 2
}
