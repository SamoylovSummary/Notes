{
 "cells": [
  {
   "cell_type": "markdown",
   "metadata": {},
   "source": [
    "# Списки"
   ]
  },
  {
   "cell_type": "markdown",
   "metadata": {},
   "source": [
    "Списки - неконстантные."
   ]
  },
  {
   "cell_type": "code",
   "execution_count": 1,
   "metadata": {
    "scrolled": true
   },
   "outputs": [
    {
     "name": "stdout",
     "output_type": "stream",
     "text": [
      "[0, True, 2.0, 'three', 'четыре']\n",
      "[True, 2.0, 'three']\n",
      "0\n",
      "[0, True, -2, 'three', 'четыре']\n",
      "[0, True, ['three', 'четыре'], 'three', 'четыре']\n",
      "[0, True, 'three', 'четыре', 'three', 'четыре']\n",
      "[0, True, 'three', 'четыре']\n",
      "[0, True, 2, 'three', 'четыре']\n",
      "5\n",
      "[0, True, 2, 'three', 'четыре', 5]\n"
     ]
    }
   ],
   "source": [
    "a = [0, True, 2., 'three', 'четыре']\n",
    "print(a)\n",
    "print(a[1:-1])\n",
    "print(a[0])\n",
    "a[2] = -2\n",
    "print(a)\n",
    "a[2] = a[3:5]\n",
    "print(a)\n",
    "a[2:3] = a[3:5]\n",
    "print(a)\n",
    "a[2:4] = []\n",
    "print(a)\n",
    "a[2:2] = [2]\n",
    "print(a)\n",
    "print(len(a))\n",
    "a.append(5)\n",
    "print(a)"
   ]
  },
  {
   "cell_type": "code",
   "execution_count": 2,
   "metadata": {},
   "outputs": [
    {
     "name": "stdout",
     "output_type": "stream",
     "text": [
      "[0, 1, [...]]\n",
      "[10, 1, [...]]\n"
     ]
    }
   ],
   "source": [
    "a = [0, 1]\n",
    "a.append(a)\n",
    "print(a[2][2])\n",
    "a[0] = 10\n",
    "print(a[2][2])"
   ]
  },
  {
   "cell_type": "code",
   "execution_count": 5,
   "metadata": {},
   "outputs": [
    {
     "name": "stdout",
     "output_type": "stream",
     "text": [
      "10\n",
      "1\n",
      "[10, 1, [...]]\n"
     ]
    }
   ],
   "source": [
    "for x in myList:\n",
    "    print(x)"
   ]
  },
  {
   "cell_type": "code",
   "execution_count": 21,
   "metadata": {},
   "outputs": [
    {
     "name": "stdout",
     "output_type": "stream",
     "text": [
      "[1, 1, 1, 1, 1, 1, 1, 1, 1, 1]\n",
      "[1, 1, 2, 2, 2, 1, 1, 1, 1, 1]\n",
      "0:1, 1:1, 2:2, 3:2, 4:2, 5:1, 6:1, 7:1, 8:1, 9:1\n"
     ]
    }
   ],
   "source": [
    "a = [1]*10\n",
    "print(a)\n",
    "a[2:5] = [2]*3\n",
    "print(a)"
   ]
  },
  {
   "cell_type": "code",
   "execution_count": 6,
   "metadata": {},
   "outputs": [
    {
     "name": "stdout",
     "output_type": "stream",
     "text": [
      "range(0, 5)\n",
      "[0, 1, 2, 3, 4]\n",
      "[-1, 0, 1, 2, 3, 4]\n"
     ]
    }
   ],
   "source": [
    "a = range(5)\n",
    "b = list(a)\n",
    "print(a)\n",
    "print(b)\n",
    "b.insert(0, -1)\n",
    "print(b)"
   ]
  },
  {
   "cell_type": "code",
   "execution_count": 46,
   "metadata": {},
   "outputs": [
    {
     "name": "stdout",
     "output_type": "stream",
     "text": [
      "-50, -40, -30, -20, -10, 0, 10, 20, 30, 40, \n",
      "0:-50, 1:-40, 2:-30, 3:-20, 4:-10, 5:0, 6:10, 7:20, 8:30, 9:40, \n",
      "0:-50, 1:-40, 2:-30, 3:-20, 4:-10, 5:0, 6:10, 7:20, 8:30, 9:40\n",
      "0:-50, 1:-40, 2:-30, 3:-20, 4:-10, 5:0, 6:10, 7:20, 8:30, 9:40\n"
     ]
    }
   ],
   "source": [
    "a = range(-50, 50, 10)\n",
    "for x in a:\n",
    "    print(x, end=', ')\n",
    "print()\n",
    "for i, x in enumerate(a):\n",
    "    print('%d:%d' % (i, x), end=', ')\n",
    "print()\n",
    "print(', '.join(['%d:%d' % (i, x) for i, x in enumerate(a)]))\n",
    "# * (splat operator) - делает элементы списка аргументами функции\n",
    "print(*['%d:%d' % (i, x) for i, x in enumerate(a)], sep=', ')"
   ]
  },
  {
   "cell_type": "code",
   "execution_count": 13,
   "metadata": {},
   "outputs": [
    {
     "name": "stdout",
     "output_type": "stream",
     "text": [
      "1\n",
      "2\n",
      "3\n",
      "[3, 2, 1, 1, 2, 3]\n"
     ]
    }
   ],
   "source": [
    "a = [1, 2, 3]\n",
    "for x in a:\n",
    "    print(x)\n",
    "for x in a[:]: # a[:] - копия, иначе не выйдем из цикла\n",
    "    a.insert(0, x)\n",
    "print(a)"
   ]
  },
  {
   "cell_type": "code",
   "execution_count": 9,
   "metadata": {},
   "outputs": [
    {
     "data": {
      "text/plain": [
       "[]"
      ]
     },
     "execution_count": 9,
     "metadata": {},
     "output_type": "execute_result"
    }
   ],
   "source": [
    "a[:] = []\n",
    "a"
   ]
  },
  {
   "cell_type": "code",
   "execution_count": 6,
   "metadata": {},
   "outputs": [
    {
     "name": "stdout",
     "output_type": "stream",
     "text": [
      "2, 3, 4, 5, 6, 7, 9, 11, 13, 17, 19, 23, 25, 29, 31, 37, 41, 43, 47, 49, 53, 59, 61, 67, 71, 73, 79, 83, 89, 97, 101, 103, 107, 109, 113, 121, 127, 131, 137, 139, 149, 151, 157, 163, 167, 169, 173, 179, 181, 191, 193, 197, 199, 211, 223, 227, 229, 233, 239, 241, 251, 257, 263, 269, 271, 277, 281, 283, 289, 293, 307, 311, 313, 317, 331, 337, 347, 349, 353, 359, 361, 367, 373, 379, 383, 389, 397, 401, 409, 419, 421, 431, 433, 439, 443, 449, 457, 461, 463, 467, 479, 487, 491, 499, 503, 509, 521, 523, 529, 541, 547, 557, 563, 569, 571, 577, 587, 593, 599, 601, 607, 613, 617, 619, 631, 641, 643, 647, 653, 659, 661, 673, 677, 683, 691, 701, 709, 719, 727, 733, 739, 743, 751, 757, 761, 769, 773, 787, 797, 809, 811, 821, 823, 827, 829, 839, 841, 853, 857, 859, 863, 877, 881, 883, 887, 907, 911, 919, 929, 937, 941, 947, 953, 961, 967, 971, 977, 983, 991, 997\n"
     ]
    }
   ],
   "source": [
    "import math\n",
    "primes = [x for x in range(2, 1000) if all(x % y != 0 for y in range(2, round(math.sqrt(x))))]\n",
    "print(', '.join(str(x) for x in primes))"
   ]
  },
  {
   "cell_type": "markdown",
   "metadata": {},
   "source": [
    "QuickSort в Python-стиле на списковых генераторах"
   ]
  },
  {
   "cell_type": "code",
   "execution_count": 12,
   "metadata": {},
   "outputs": [
    {
     "name": "stdout",
     "output_type": "stream",
     "text": [
      "[1, 2, 2, 3, 4, 12, 12, 21, 23, 23, 23, 34, 76, 543]\n"
     ]
    }
   ],
   "source": [
    "def QuickSort(a):\n",
    "    if len(a) <= 1:\n",
    "        return a\n",
    "    pivot = a[len(a) // 2]\n",
    "    return QuickSort([x for x in a if x < pivot]) \\\n",
    "            + [x for x in a if x == pivot] \\\n",
    "            + QuickSort([x for x in a if x > pivot])\n",
    "\n",
    "a = [1, 2, 3, 34, 21, 23, 12, 2, 543, 23, 12, 4, 76, 23]\n",
    "a = QuickSort(a)\n",
    "print(a)"
   ]
  },
  {
   "cell_type": "code",
   "execution_count": 38,
   "metadata": {},
   "outputs": [
    {
     "name": "stdout",
     "output_type": "stream",
     "text": [
      "[('a', 1), ('b', 2), ('c', 3)]\n",
      "[['a', 1], ['b', 2], ['c', 3]]\n",
      "['a1', 'a2', 'a3', 'b1', 'b2', 'b3', 'c1', 'c2', 'c3']\n",
      "\n",
      "[[1, 2, 3], [4, 5, 6], [7, 8, 9]]\n",
      "[1, 2, 3] - [4, 5, 6] - [7, 8, 9]\n",
      "[(1, 4, 7), (2, 5, 8), (3, 6, 9)]\n",
      "t =\n",
      "  [1, 4, 7]\n",
      "  [2, 5, 8]\n",
      "  [3, 6, 9]\n"
     ]
    }
   ],
   "source": [
    "b = ['a', 'b', 'c']\n",
    "c = [1, 2, 3]\n",
    "print(list(zip(b, c)))\n",
    "print([[b[i], c[i]] for i in range(len(b))])\n",
    "print([str(x) + str(y) for x in b for y in c])\n",
    "print()\n",
    "\n",
    "a = [[1, 2, 3],\n",
    "     [4, 5, 6],\n",
    "     [7, 8, 9]]\n",
    "print(a)\n",
    "print(*a, sep=' - ') # Эквивалентно print(a[0], a[1], a[2], sep=' - ') \n",
    "t = list(zip(*a))\n",
    "print(t)\n",
    "t = [list(row) for row in zip(*a)]\n",
    "print('t =', *t, sep = '\\n  ')"
   ]
  },
  {
   "cell_type": "code",
   "execution_count": 54,
   "metadata": {},
   "outputs": [
    {
     "name": "stdout",
     "output_type": "stream",
     "text": [
      "[0, 1, 2, 3, 4]\n",
      "[5, 6, 7, 8, 9]\n",
      "[0, 6, 14, 24, 36]\n",
      "[5, 7, 9, 11, 13]\n",
      "80\n"
     ]
    }
   ],
   "source": [
    "def ParallelOp(a, b, op):\n",
    "    return [op(av, bv) for av, bv in zip(a, b)]\n",
    "\n",
    "a = list(range(5))\n",
    "b = list(range(5, 10))\n",
    "print(a)\n",
    "print(b)\n",
    "print(ParallelOp(a, b, lambda x, y: x * y))\n",
    "print(ParallelOp(a, b, lambda x, y: x + y))\n",
    "print(sum(a[i] * b[i] for i in range(len(a))))"
   ]
  },
  {
   "cell_type": "code",
   "execution_count": 53,
   "metadata": {},
   "outputs": [
    {
     "name": "stdout",
     "output_type": "stream",
     "text": [
      "['even', 'odd', 'even', 'odd', 'even']\n",
      "0 is even, 1 is odd, 2 is even, 3 is odd, 4 is even\n"
     ]
    }
   ],
   "source": [
    "a = list(range(5))\n",
    "b = ['even' if x % 2 == 0 else 'odd' for x in a]\n",
    "print(b)\n",
    "print(*['%d is %s' %(i, y) for i, y in enumerate(b)], sep=', ')"
   ]
  },
  {
   "cell_type": "code",
   "execution_count": 49,
   "metadata": {},
   "outputs": [
    {
     "name": "stdout",
     "output_type": "stream",
     "text": [
      "['apple', 'apple', 'banana', 'orange', 'orange', 'pear']\n",
      "['apple', 'banana', 'orange', 'pear']\n"
     ]
    }
   ],
   "source": [
    "basket = ['apple', 'orange', 'apple', 'pear', 'orange', 'banana']\n",
    "print(sorted(basket))\n",
    "print(sorted(set(basket)))"
   ]
  },
  {
   "cell_type": "code",
   "execution_count": 25,
   "metadata": {},
   "outputs": [
    {
     "name": "stdout",
     "output_type": "stream",
     "text": [
      "<generator object fibonacci at 0x0000005B02C06E60>\n",
      "[0, 1, 1, 2, 3, 5, 8, 13, 21, 34, 55, 89, 144, 233, 377]\n"
     ]
    }
   ],
   "source": [
    "def fibonacci(n):\n",
    "    a, b = 0, 1\n",
    "    for i in range(n):\n",
    "        yield a\n",
    "        a, b = b, a+b\n",
    "\n",
    "gen = fibonacci(15)\n",
    "print(gen)\n",
    "print(list(gen))"
   ]
  },
  {
   "cell_type": "code",
   "execution_count": 21,
   "metadata": {},
   "outputs": [
    {
     "name": "stdout",
     "output_type": "stream",
     "text": [
      "2 3 4 5 6 7 8 9 10 "
     ]
    }
   ],
   "source": [
    "import itertools\n",
    "\n",
    "for a in itertools.count(2):\n",
    "    if a > 10:\n",
    "        break\n",
    "    print(a, end=\" \")"
   ]
  },
  {
   "cell_type": "code",
   "execution_count": null,
   "metadata": {
    "collapsed": true
   },
   "outputs": [],
   "source": []
  }
 ],
 "metadata": {
  "anaconda-cloud": {},
  "kernelspec": {
   "display_name": "Python 3",
   "language": "python",
   "name": "python3"
  },
  "language_info": {
   "codemirror_mode": {
    "name": "ipython",
    "version": 3
   },
   "file_extension": ".py",
   "mimetype": "text/x-python",
   "name": "python",
   "nbconvert_exporter": "python",
   "pygments_lexer": "ipython3",
   "version": "3.6.3"
  }
 },
 "nbformat": 4,
 "nbformat_minor": 1
}
