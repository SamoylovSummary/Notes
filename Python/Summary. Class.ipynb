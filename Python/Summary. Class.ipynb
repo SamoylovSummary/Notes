{
 "cells": [
  {
   "cell_type": "markdown",
   "metadata": {},
   "source": [
    "# Классы, пространства имён\n",
    "\n",
    "https://docs.python.org/3/tutorial/classes.html"
   ]
  },
  {
   "cell_type": "markdown",
   "metadata": {},
   "source": [
    "## Пространства имён функций"
   ]
  },
  {
   "cell_type": "code",
   "execution_count": 53,
   "metadata": {},
   "outputs": [
    {
     "name": "stdout",
     "output_type": "stream",
     "text": [
      "Global. Initial: G\n",
      "  if. Before assign: G\n",
      "  if. After assign: IF\n",
      "Global. After if: IF\n",
      "Global. Initial 2: G\n",
      "  f_local. After assign: L\n",
      "    f_local_local. After assign: L2\n",
      "  f_local. After f_local_local: L\n",
      "    f_local_nonlocal. Before assign: L\n",
      "    f_local_nonlocal. After assign: L3\n",
      "  f_local. After f_local_nonlocal: L3\n",
      "Global. After f_local: G\n",
      "  f_global. Before assign: G\n",
      "  f_global. After assign: L\n",
      "Global. After f_global: L\n"
     ]
    }
   ],
   "source": [
    "if 's' in globals():\n",
    "    del s\n",
    "\n",
    "s = 'G'\n",
    "print('Global. Initial:', s)\n",
    "\n",
    "# if, for и т.д. не работают в том же namespace\n",
    "if True:\n",
    "    print('  if. Before assign:', s)\n",
    "    s = 'IF'\n",
    "    print('  if. After assign:', s)\n",
    "\n",
    "print('Global. After if:', s)\n",
    "\n",
    "# Восстанавливаем старое значение\n",
    "s = 'G'\n",
    "print('Global. Initial 2:', s)\n",
    "\n",
    "def f_local():\n",
    "    # Error: local variable 's' referenced before assignment\n",
    "    # print('  f_local. Before assign:', s)\n",
    "    s = 'L'\n",
    "    print('  f_local. After assign:', s)\n",
    "\n",
    "    def f_local_local():\n",
    "        # Error: local variable 's' referenced before assignment\n",
    "        # print('    f_local_local. Before assign:', s)\n",
    "        s = 'L2'\n",
    "        print('    f_local_local. After assign:', s)\n",
    "    \n",
    "    def f_local_nonlocal():\n",
    "        nonlocal s\n",
    "        print('    f_local_nonlocal. Before assign:', s)\n",
    "        s = 'L3'\n",
    "        print('    f_local_nonlocal. After assign:', s)\n",
    "\n",
    "    f_local_local()\n",
    "    print('  f_local. After f_local_local:', s)\n",
    "    f_local_nonlocal()\n",
    "    print('  f_local. After f_local_nonlocal:', s)\n",
    "        \n",
    "f_local()\n",
    "print('Global. After f_local:', s)\n",
    "\n",
    "def f_global():\n",
    "    global s\n",
    "    print('  f_global. Before assign:', s)\n",
    "    s = 'L'\n",
    "    print('  f_global. After assign:', s)\n",
    "\n",
    "f_global()\n",
    "print('Global. After f_global:', s)"
   ]
  },
  {
   "cell_type": "code",
   "execution_count": 62,
   "metadata": {},
   "outputs": [
    {
     "name": "stdout",
     "output_type": "stream",
     "text": [
      "G\n"
     ]
    }
   ],
   "source": [
    "if 's' in globals():\n",
    "    del s\n",
    "\n",
    "def f():\n",
    "    global s\n",
    "    print(s)\n",
    "\n",
    "s = 'G'\n",
    "f()"
   ]
  },
  {
   "cell_type": "code",
   "execution_count": 64,
   "metadata": {},
   "outputs": [
    {
     "name": "stdout",
     "output_type": "stream",
     "text": [
      "G\n",
      "G\n"
     ]
    }
   ],
   "source": [
    "if 's' in globals():\n",
    "    del s\n",
    "\n",
    "def f():\n",
    "    global s\n",
    "    # print(s)- name 's' is not defined\n",
    "    s = 'G'\n",
    "    print(s)\n",
    "\n",
    "f()\n",
    "print(s)"
   ]
  },
  {
   "cell_type": "markdown",
   "metadata": {},
   "source": [
    "## Классы"
   ]
  },
  {
   "cell_type": "code",
   "execution_count": 96,
   "metadata": {},
   "outputs": [
    {
     "name": "stdout",
     "output_type": "stream",
     "text": [
      "  Create class C\n",
      "  static_field: 1\n",
      "Doc string of C\n",
      "Before create tmp\n",
      "  Create object of C\n",
      "After create tmp\n",
      "  static_field: 1\n",
      "True\n",
      "True\n",
      "2\n",
      "  static_field_2: 2\n",
      "2\n",
      "  static_field_2_self: 2\n",
      "10\n",
      "  outer_f: 3\n",
      "  hook\n",
      "  outer_f: 3\n"
     ]
    }
   ],
   "source": [
    "class C:\n",
    "    \"\"\"Doc string of C\"\"\"\n",
    "    print('  Create class C')\n",
    "    static_field = 1\n",
    "    print('  static_field:', static_field)\n",
    "    \n",
    "    def __init__(self):\n",
    "        print('  Create object of C')\n",
    "        self.field = 3\n",
    "\n",
    "    def print_static_field(self):\n",
    "        print('  static_field:', self.static_field)\n",
    "        \n",
    "    def print_static_field_2():\n",
    "        print('  static_field_2:', C.static_field_2)\n",
    "\n",
    "    def print_static_field_2_self(self):\n",
    "        print('  static_field_2_self:', self.static_field_2)\n",
    "\n",
    "print(C.__doc__)\n",
    "# help(C)\n",
    "\n",
    "print('Before create tmp')\n",
    "tmp = C()\n",
    "print('After create tmp')\n",
    "\n",
    "tmp.print_static_field()\n",
    "\n",
    "C.static_field_2 = 2\n",
    "\n",
    "print(hasattr(C, 'static_field_2'))\n",
    "print(hasattr(tmp, 'static_field_2'))\n",
    "print(C.static_field_2)\n",
    "C.print_static_field_2()\n",
    "print(tmp.static_field_2)\n",
    "tmp.print_static_field_2_self()\n",
    "\n",
    "tmp.self_field = 10\n",
    "print(tmp.self_field)\n",
    "\n",
    "def outer_f(self):\n",
    "    print('  outer_f:', self.field)\n",
    "\n",
    "C.f = outer_f\n",
    "tmp.f()\n",
    "\n",
    "def hook_f(self):\n",
    "    print('  hook')\n",
    "    self.old_f()\n",
    "\n",
    "C.old_f = C.f\n",
    "C.f = hook_f\n",
    "tmp.f()\n",
    "\n",
    "del C.static_field\n",
    "del C\n",
    "\n",
    "# tmp2 = C() - name 'C' is not defined"
   ]
  },
  {
   "cell_type": "code",
   "execution_count": 94,
   "metadata": {
    "collapsed": true
   },
   "outputs": [],
   "source": [
    "class Simple:\n",
    "    pass\n",
    "\n",
    "s = Simple()\n",
    "s.X = 10\n",
    "s.Y = 20"
   ]
  }
 ],
 "metadata": {
  "kernelspec": {
   "display_name": "Python 3",
   "language": "python",
   "name": "python3"
  },
  "language_info": {
   "codemirror_mode": {
    "name": "ipython",
    "version": 3
   },
   "file_extension": ".py",
   "mimetype": "text/x-python",
   "name": "python",
   "nbconvert_exporter": "python",
   "pygments_lexer": "ipython3",
   "version": "3.6.3"
  }
 },
 "nbformat": 4,
 "nbformat_minor": 2
}
