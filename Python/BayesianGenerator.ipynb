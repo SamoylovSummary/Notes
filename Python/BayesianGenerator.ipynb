{
 "cells": [
  {
   "cell_type": "code",
   "execution_count": 1,
   "metadata": {
    "collapsed": true
   },
   "outputs": [],
   "source": [
    "import numpy as np\n",
    "%matplotlib inline\n",
    "import matplotlib.pyplot as plt\n",
    "plt.rcParams[\"figure.figsize\"] = (10, 6)"
   ]
  },
  {
   "cell_type": "code",
   "execution_count": 2,
   "metadata": {},
   "outputs": [
    {
     "data": {
      "image/png": "[encoded data removed]",
      "text/plain": [
       "<matplotlib.figure.Figure at 0x27ef6ff0b70>"
      ]
     },
     "metadata": {},
     "output_type": "display_data"
    }
   ],
   "source": [
    "length = 100\n",
    "r1 = np.random.rand(length)\n",
    "r2 = np.random.rand(length)\n",
    "plt.scatter(r1, r2)\n",
    "plt.grid(True)\n",
    "plt.show()"
   ]
  },
  {
   "cell_type": "code",
   "execution_count": 12,
   "metadata": {},
   "outputs": [
    {
     "data": {
      "text/plain": [
       "array([10, 21, 32, 13, 24])"
      ]
     },
     "execution_count": 12,
     "metadata": {},
     "output_type": "execute_result"
    }
   ],
   "source": [
    "a = np.array( [\n",
    "        [10, 11, 12, 13, 14],\n",
    "        [20, 21, 22, 23, 24],\n",
    "        [30, 31, 32, 33, 34]] )\n",
    "bs = np.array( [0, 1, 2, 0, 1])\n",
    "b = a[bs, np.arange(5)]\n",
    "b"
   ]
  },
  {
   "cell_type": "code",
   "execution_count": 83,
   "metadata": {},
   "outputs": [
    {
     "name": "stdout",
     "output_type": "stream",
     "text": [
      "[0 2 1 0 0 1 1 1 0 2 0 0 1 0 0 0 0 0 1 0 1 1 0 2 0 0 0 1 0 0]\n",
      "\n",
      "[1 0 0 1 1 0 0 0 0 0 1 1 0 1 1 1 0 1 0 1 0 0 1 0 0 1 1 0 1 1]\n",
      "[1 1 1 1 1 1 1 0 1 0 1 0 1 1 1 1 1 1 1 0 1 0 0 0 1 0 1 1 1 0]\n",
      "[1 0 1 1 1 1 1 1 1 0 1 1 1 1 1 1 1 1 0 0 1 1 1 0 1 1 1 1 1 1]\n",
      "[0 0 1 0 0 1 1 1 0 0 0 0 1 0 0 0 0 0 1 0 1 1 0 0 0 0 0 1 0 0]\n",
      "[0 1 1 0 0 0 0 0 0 1 0 0 0 0 0 0 0 0 0 0 0 0 0 1 0 0 0 0 0 0]\n",
      "[0 1 0 0 0 1 0 0 1 1 0 0 1 0 0 0 0 0 0 0 0 0 0 1 0 1 0 0 0 0]\n",
      "[0 1 0 0 0 1 1 0 0 1 0 0 0 0 0 0 0 0 0 0 1 0 0 1 1 0 0 0 0 0]\n",
      "\n"
     ]
    }
   ],
   "source": [
    "def rf_discrete( count, probabilities ):\n",
    "    return np.random.choice( len( probabilities ), count, p=probabilities )\n",
    "\n",
    "def rf_binary( count, one_probability ):\n",
    "    return rf_discrete( count, [1 - one_probability, one_probability] )\n",
    "\n",
    "def rf_select( indexes, sources ):\n",
    "    count = len( indexes )\n",
    "    adjusted = sources[:]\n",
    "    for i, x in enumerate( adjusted ):\n",
    "        if np.isscalar( x ):\n",
    "            adjusted[i] = np.full( count, x )\n",
    "    return np.array( adjusted )[np.array( indexes ), np.arange( count )]\n",
    "\n",
    "def rf_salt( a, p ):\n",
    "    a1 = rf_discrete( len( a ), [p, 1 - p] )\n",
    "    return rf_select( a, [0, a1] )\n",
    "\n",
    "def rf_pepper( a, p ):\n",
    "    a0 = rf_discrete( len( a ), [1 - p, p] )\n",
    "    return rf_select( a, [a0, 1] )\n",
    "\n",
    "def rf_random( count ):\n",
    "    np.random.random( count )\n",
    "\n",
    "n = 30\n",
    "\n",
    "a = rf_discrete( n, [0.7, 0.2, 0.1] )\n",
    "print( a )\n",
    "print()\n",
    "\n",
    "b1 = rf_salt( rf_pepper( rf_select( a, [1, 0, 0] ), 0.1 ), 0.1 )\n",
    "b1 = rf_salt( rf_pepper( rf_select( a, [1, 0, 0] ), 0.1 ), 0.1 )\n",
    "b1 = rf_salt( rf_pepper( rf_select( a, [1, 0, 0] ), 0.1 ), 0.1 )\n",
    "b1 = rf_salt( rf_pepper( rf_select( a, [1, 0, 0] ), 0.1 ), 0.1 )\n",
    "b1 = rf_salt( rf_pepper( rf_select( a, [1, 0, 0] ), 0.1 ), 0.1 )\n",
    "b1 = rf_salt( rf_pepper( rf_select( a, [1, 0, 0] ), 0.1 ), 0.1 )\n",
    "b2 = rf_salt( rf_pepper( rf_select( a, [1, 1, 0] ), 0.1 ), 0.1 )\n",
    "b3 = rf_salt( rf_pepper( rf_select( a, [1, 1, 0] ), 0.1 ), 0.1 )\n",
    "b4 = rf_salt( rf_pepper( rf_select( a, [0, 1, 0] ), 0.1 ), 0.1 )\n",
    "b5 = rf_salt( rf_pepper( rf_select( a, [0, 0, 1] ), 0.1 ), 0.1 )\n",
    "b6 = rf_salt( rf_pepper( rf_select( a, [0, 0, 1] ), 0.1 ), 0.1 )\n",
    "b7 = rf_salt( rf_pepper( rf_select( a, [0, 0, 1] ), 0.1 ), 0.1 )\n",
    "print( b1 )\n",
    "print( b2 )\n",
    "print( b3 )\n",
    "print( b4 )\n",
    "print( b5 )\n",
    "print( b6 )\n",
    "print( b7 )\n",
    "print()\n"
   ]
  }
 ],
 "metadata": {
  "kernelspec": {
   "display_name": "Python 3",
   "language": "python",
   "name": "python3"
  },
  "language_info": {
   "codemirror_mode": {
    "name": "ipython",
    "version": 3
   },
   "file_extension": ".py",
   "mimetype": "text/x-python",
   "name": "python",
   "nbconvert_exporter": "python",
   "pygments_lexer": "ipython3",
   "version": "3.6.2"
  }
 },
 "nbformat": 4,
 "nbformat_minor": 1
}
