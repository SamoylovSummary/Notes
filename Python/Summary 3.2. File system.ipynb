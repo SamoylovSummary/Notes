{
 "cells": [
  {
   "cell_type": "markdown",
   "metadata": {},
   "source": [
    "# Файловая система"
   ]
  },
  {
   "cell_type": "markdown",
   "metadata": {},
   "source": [
    "Источник:\n",
    "\n",
    "Раздел 11: https://docs.python.org/3.6/library/filesys.html\n",
    "\n",
    "Раздел 16: https://docs.python.org/3.6/library/allos.html"
   ]
  },
  {
   "cell_type": "markdown",
   "metadata": {},
   "source": [
    "## Пути"
   ]
  },
  {
   "cell_type": "markdown",
   "metadata": {},
   "source": [
    "Источник (11.2): https://docs.python.org/3.6/library/os.path.html\n",
    "\n",
    "Модуль os.path"
   ]
  },
  {
   "cell_type": "code",
   "execution_count": 1,
   "metadata": {},
   "outputs": [],
   "source": [
    "import os"
   ]
  },
  {
   "cell_type": "markdown",
   "metadata": {},
   "source": [
    "### Слияние путей"
   ]
  },
  {
   "cell_type": "code",
   "execution_count": 2,
   "metadata": {},
   "outputs": [
    {
     "data": {
      "text/plain": [
       "'D:\\\\Documents\\\\Python\\\\Notebook'"
      ]
     },
     "execution_count": 2,
     "metadata": {},
     "output_type": "execute_result"
    }
   ],
   "source": [
    "# Текущий путь\n",
    "currentPath = os.getcwd()\n",
    "currentPath"
   ]
  },
  {
   "cell_type": "code",
   "execution_count": 3,
   "metadata": {},
   "outputs": [
    {
     "data": {
      "text/plain": [
       "'D:\\\\Documents\\\\Python\\\\Notebook\\\\Temp.txt'"
      ]
     },
     "execution_count": 3,
     "metadata": {},
     "output_type": "execute_result"
    }
   ],
   "source": [
    "os.path.abspath('Temp.txt')"
   ]
  },
  {
   "cell_type": "code",
   "execution_count": 4,
   "metadata": {},
   "outputs": [
    {
     "data": {
      "text/plain": [
       "'D:\\\\Documents\\\\Python\\\\Notebook\\\\Temp.txt'"
      ]
     },
     "execution_count": 4,
     "metadata": {},
     "output_type": "execute_result"
    }
   ],
   "source": [
    "os.path.join(currentPath, 'Temp.txt')"
   ]
  },
  {
   "cell_type": "code",
   "execution_count": 5,
   "metadata": {},
   "outputs": [
    {
     "data": {
      "text/plain": [
       "'D:\\\\temp'"
      ]
     },
     "execution_count": 5,
     "metadata": {},
     "output_type": "execute_result"
    }
   ],
   "source": [
    "os.path.normpath('D:\\\\//temp\\\\1\\\\..\\\\')"
   ]
  },
  {
   "cell_type": "markdown",
   "metadata": {},
   "source": [
    "### Разбиение пути"
   ]
  },
  {
   "cell_type": "code",
   "execution_count": 6,
   "metadata": {},
   "outputs": [
    {
     "data": {
      "text/plain": [
       "'D:\\\\Documents\\\\Python\\\\Notebook\\\\Temp.txt'"
      ]
     },
     "execution_count": 6,
     "metadata": {},
     "output_type": "execute_result"
    }
   ],
   "source": [
    "tempFile = os.path.abspath('Temp.txt')\n",
    "tempFile"
   ]
  },
  {
   "cell_type": "code",
   "execution_count": 7,
   "metadata": {},
   "outputs": [
    {
     "data": {
      "text/plain": [
       "('D:\\\\Documents\\\\Python\\\\Notebook', 'Temp.txt')"
      ]
     },
     "execution_count": 7,
     "metadata": {},
     "output_type": "execute_result"
    }
   ],
   "source": [
    "os.path.split(tempFile)"
   ]
  },
  {
   "cell_type": "code",
   "execution_count": 8,
   "metadata": {},
   "outputs": [
    {
     "data": {
      "text/plain": [
       "('D:', '\\\\Documents\\\\Python\\\\Notebook\\\\Temp.txt')"
      ]
     },
     "execution_count": 8,
     "metadata": {},
     "output_type": "execute_result"
    }
   ],
   "source": [
    "os.path.splitdrive(tempFile)"
   ]
  },
  {
   "cell_type": "code",
   "execution_count": 9,
   "metadata": {},
   "outputs": [
    {
     "data": {
      "text/plain": [
       "('D:\\\\Documents\\\\Python\\\\Notebook\\\\Temp', '.txt')"
      ]
     },
     "execution_count": 9,
     "metadata": {},
     "output_type": "execute_result"
    }
   ],
   "source": [
    "os.path.splitext(tempFile)"
   ]
  },
  {
   "cell_type": "code",
   "execution_count": 10,
   "metadata": {},
   "outputs": [
    {
     "data": {
      "text/plain": [
       "'D:\\\\Documents\\\\Python\\\\Notebook'"
      ]
     },
     "execution_count": 10,
     "metadata": {},
     "output_type": "execute_result"
    }
   ],
   "source": [
    "os.path.dirname(tempFile)"
   ]
  },
  {
   "cell_type": "code",
   "execution_count": 11,
   "metadata": {},
   "outputs": [
    {
     "data": {
      "text/plain": [
       "'Temp.txt'"
      ]
     },
     "execution_count": 11,
     "metadata": {},
     "output_type": "execute_result"
    }
   ],
   "source": [
    "os.path.basename(tempFile)"
   ]
  },
  {
   "cell_type": "code",
   "execution_count": 12,
   "metadata": {},
   "outputs": [
    {
     "data": {
      "text/plain": [
       "False"
      ]
     },
     "execution_count": 12,
     "metadata": {},
     "output_type": "execute_result"
    }
   ],
   "source": [
    "os.path.exists(tempFile) # Существует ли файл или папка"
   ]
  },
  {
   "cell_type": "code",
   "execution_count": 13,
   "metadata": {},
   "outputs": [
    {
     "data": {
      "text/plain": [
       "True"
      ]
     },
     "execution_count": 13,
     "metadata": {},
     "output_type": "execute_result"
    }
   ],
   "source": [
    "os.path.isabs(tempFile) # Абсолютный путь или относительный"
   ]
  },
  {
   "cell_type": "code",
   "execution_count": 14,
   "metadata": {},
   "outputs": [
    {
     "data": {
      "text/plain": [
       "False"
      ]
     },
     "execution_count": 14,
     "metadata": {},
     "output_type": "execute_result"
    }
   ],
   "source": [
    "os.path.isfile(tempFile) # Это существующий файл?"
   ]
  },
  {
   "cell_type": "code",
   "execution_count": 15,
   "metadata": {},
   "outputs": [
    {
     "data": {
      "text/plain": [
       "False"
      ]
     },
     "execution_count": 15,
     "metadata": {},
     "output_type": "execute_result"
    }
   ],
   "source": [
    "os.path.isdir(tempFile) # Это существующая папка?"
   ]
  },
  {
   "cell_type": "markdown",
   "metadata": {},
   "source": [
    "## Модуль os"
   ]
  },
  {
   "cell_type": "markdown",
   "metadata": {},
   "source": [
    "Источник (раздел 15.1): https://docs.python.org/3.1/library/os.html#module-os\n",
    "\n",
    "В основном там всякая системная ерунда типа:\n",
    "\n",
    "- Работа с процессами\n",
    "- Работа с пользователями\n",
    "- Низкоуровневая работа с файлами и папками"
   ]
  },
  {
   "cell_type": "code",
   "execution_count": 17,
   "metadata": {},
   "outputs": [
    {
     "name": "stdout",
     "output_type": "stream",
     "text": [
      "False\n",
      "None\n",
      "default ROOT\n",
      "D:\\Data\\Anaconda3\\lib\\site-packages\\numpy\\core;C:\\Windows\\system32;C:\\Windows;C:\\Windows\\System32\\Wbem;C:\\Windows\\System32\\WindowsPowerShell\\v1.0\\;C:\\Program Files (x86)\\Microsoft SQL Server\\90\\Tools\\binn\\;C:\\Program Files\\TortoiseSVN\\bin;C:\\Program Files (x86)\\Windows Kits\\8.1\\Windows Performance Toolkit\\;C:\\Program Files\\Microsoft SQL Server\\110\\Tools\\Binn\\;D:\\Data\\Anaconda3;D:\\Data\\Anaconda3\\Scripts;\n"
     ]
    }
   ],
   "source": [
    "print('ROOT' in os.environ)\n",
    "# print(os.environ['ROOT']) - упадём, если нет ROOT\n",
    "print(os.getenv('ROOT'))\n",
    "print(os.getenv('ROOT', 'default ROOT'))\n",
    "print(os.environ['PATH'])\n",
    "#for k, v in os.environ.items():\n",
    "#    print(k + ': ' + v)"
   ]
  },
  {
   "cell_type": "code",
   "execution_count": 43,
   "metadata": {},
   "outputs": [
    {
     "name": "stdout",
     "output_type": "stream",
     "text": [
      "D:\\Documents\\Python\\Notebook\\ML_ABBYY_01_DemoSpamFiltering.ipynb\n",
      "D:\\Documents\\Python\\Notebook\\ML_ABBYY_01_Hometask_BasicPython.ipynb\n",
      "D:\\Documents\\Python\\Notebook\\ML_ABBYY_02_Hometask_SkinSegmentation.ipynb\n",
      "D:\\Documents\\Python\\Notebook\\Part 4 - Markdown Cells.ipynb\n",
      "D:\\Documents\\Python\\Notebook\\Summary 1. Notebook.ipynb\n",
      "D:\\Documents\\Python\\Notebook\\Summary 2. Python basics.ipynb\n",
      "D:\\Documents\\Python\\Notebook\\Summary 3.1. Strings.ipynb\n",
      "D:\\Documents\\Python\\Notebook\\Summary 3.2. File system.ipynb\n",
      "D:\\Documents\\Python\\Notebook\\Summary 3.3. Files.ipynb\n",
      "D:\\Documents\\Python\\Notebook\\Test2.ipynb\n",
      "D:\\Documents\\Python\\Notebook\\.ipynb_checkpoints\\ML_ABBYY_01_DemoSpamFiltering-checkpoint.ipynb\n",
      "D:\\Documents\\Python\\Notebook\\.ipynb_checkpoints\\ML_ABBYY_01_Hometask_BasicPython-checkpoint.ipynb\n",
      "D:\\Documents\\Python\\Notebook\\.ipynb_checkpoints\\Part 4 - Markdown Cells-checkpoint.ipynb\n",
      "D:\\Documents\\Python\\Notebook\\.ipynb_checkpoints\\Summary 1. Notebook-checkpoint.ipynb\n",
      "D:\\Documents\\Python\\Notebook\\.ipynb_checkpoints\\Summary 2. Python basics-checkpoint.ipynb\n",
      "D:\\Documents\\Python\\Notebook\\.ipynb_checkpoints\\Summary 3.1. Strings-checkpoint.ipynb\n",
      "D:\\Documents\\Python\\Notebook\\.ipynb_checkpoints\\Summary 3.2. File system-checkpoint.ipynb\n",
      "D:\\Documents\\Python\\Notebook\\.ipynb_checkpoints\\Summary 3.3. Files-checkpoint.ipynb\n",
      "D:\\Documents\\Python\\Notebook\\.ipynb_checkpoints\\Test2-checkpoint.ipynb\n",
      "D:\\Documents\\Python\\Notebook\\Examples_Anaconda3\\nbexecuter.py\n",
      "D:\\Documents\\Python\\Notebook\\Examples_Anaconda3\\README.md\n",
      "D:\\Documents\\Python\\Notebook\\Examples_Anaconda3\\TESTING.md\n",
      "D:\\Documents\\Python\\Notebook\\Examples_Anaconda3\\test_examples.py\n",
      "D:\\Documents\\Python\\Notebook\\Examples_Anaconda3\\__init__.py\n",
      "D:\\Documents\\Python\\Notebook\\Examples_Anaconda3\\app\\crossfilter\\crossfilter_app.py\n",
      "D:\\Documents\\Python\\Notebook\\Examples_Anaconda3\\app\\crossfilter\\README.md\n",
      "D:\\Documents\\Python\\Notebook\\Examples_Anaconda3\\app\\sliders_applet\\README.md\n",
      "D:\\Documents\\Python\\Notebook\\Examples_Anaconda3\\app\\sliders_applet\\sliders_app.py\n",
      "D:\\Documents\\Python\\Notebook\\Examples_Anaconda3\\app\\stock_applet\\flask_server.py\n",
      "D:\\Documents\\Python\\Notebook\\Examples_Anaconda3\\app\\stock_applet\\README.md\n",
      "D:\\Documents\\Python\\Notebook\\Examples_Anaconda3\\app\\stock_applet\\stock_app.py\n",
      "D:\\Documents\\Python\\Notebook\\Examples_Anaconda3\\charts\\boxplot.py\n",
      "D:\\Documents\\Python\\Notebook\\Examples_Anaconda3\\charts\\cat_heatmap.py\n",
      "D:\\Documents\\Python\\Notebook\\Examples_Anaconda3\\charts\\charts.ipynb\n",
      "D:\\Documents\\Python\\Notebook\\Examples_Anaconda3\\charts\\histograms.py\n",
      "D:\\Documents\\Python\\Notebook\\Examples_Anaconda3\\charts\\iris_scatter.py\n",
      "D:\\Documents\\Python\\Notebook\\Examples_Anaconda3\\charts\\stacked_bar.py\n",
      "D:\\Documents\\Python\\Notebook\\Examples_Anaconda3\\charts\\stocks_timeseries.py\n",
      "D:\\Documents\\Python\\Notebook\\Examples_Anaconda3\\compat\\ggplot\\density.py\n",
      "D:\\Documents\\Python\\Notebook\\Examples_Anaconda3\\compat\\ggplot\\line.py\n",
      "D:\\Documents\\Python\\Notebook\\Examples_Anaconda3\\compat\\ggplot\\step.py\n",
      "D:\\Documents\\Python\\Notebook\\Examples_Anaconda3\\compat\\ggplot\\xkcd_density.py\n",
      "D:\\Documents\\Python\\Notebook\\Examples_Anaconda3\\compat\\mpl\\lc_dashed.py\n",
      "D:\\Documents\\Python\\Notebook\\Examples_Anaconda3\\compat\\mpl\\lc_offsets.py\n",
      "D:\\Documents\\Python\\Notebook\\Examples_Anaconda3\\compat\\mpl\\listcollection.py\n",
      "D:\\Documents\\Python\\Notebook\\Examples_Anaconda3\\compat\\mpl\\polycollection.py\n",
      "D:\\Documents\\Python\\Notebook\\Examples_Anaconda3\\compat\\mpl\\subplots.py\n",
      "D:\\Documents\\Python\\Notebook\\Examples_Anaconda3\\compat\\mpl\\test.ipynb\n",
      "D:\\Documents\\Python\\Notebook\\Examples_Anaconda3\\compat\\mpl\\test.py\n",
      "D:\\Documents\\Python\\Notebook\\Examples_Anaconda3\\compat\\pandas\\dataframe.py\n",
      "D:\\Documents\\Python\\Notebook\\Examples_Anaconda3\\compat\\pandas\\series.py\n",
      "D:\\Documents\\Python\\Notebook\\Examples_Anaconda3\\compat\\seaborn\\kde.py\n",
      "D:\\Documents\\Python\\Notebook\\Examples_Anaconda3\\compat\\seaborn\\sinerror.py\n",
      "D:\\Documents\\Python\\Notebook\\Examples_Anaconda3\\compat\\seaborn\\violin.py\n",
      "D:\\Documents\\Python\\Notebook\\Examples_Anaconda3\\glyphs\\anscombe.py\n",
      "D:\\Documents\\Python\\Notebook\\Examples_Anaconda3\\glyphs\\buttons_server.py\n",
      "D:\\Documents\\Python\\Notebook\\Examples_Anaconda3\\glyphs\\choropleth.py\n",
      "D:\\Documents\\Python\\Notebook\\Examples_Anaconda3\\glyphs\\colors.py\n",
      "D:\\Documents\\Python\\Notebook\\Examples_Anaconda3\\glyphs\\colorspec.py\n",
      "D:\\Documents\\Python\\Notebook\\Examples_Anaconda3\\glyphs\\data_tables_server.py\n",
      "D:\\Documents\\Python\\Notebook\\Examples_Anaconda3\\glyphs\\dateaxis.py\n",
      "D:\\Documents\\Python\\Notebook\\Examples_Anaconda3\\glyphs\\daylight.py\n",
      "D:\\Documents\\Python\\Notebook\\Examples_Anaconda3\\glyphs\\donut.py\n",
      "D:\\Documents\\Python\\Notebook\\Examples_Anaconda3\\glyphs\\gauges.py\n",
      "D:\\Documents\\Python\\Notebook\\Examples_Anaconda3\\glyphs\\gears.py\n",
      "D:\\Documents\\Python\\Notebook\\Examples_Anaconda3\\glyphs\\glyph.ipynb\n",
      "D:\\Documents\\Python\\Notebook\\Examples_Anaconda3\\glyphs\\glyph1.py\n",
      "D:\\Documents\\Python\\Notebook\\Examples_Anaconda3\\glyphs\\glyph2_server.py\n",
      "D:\\Documents\\Python\\Notebook\\Examples_Anaconda3\\glyphs\\glyphs.py\n",
      "D:\\Documents\\Python\\Notebook\\Examples_Anaconda3\\glyphs\\grid.py\n",
      "D:\\Documents\\Python\\Notebook\\Examples_Anaconda3\\glyphs\\image_url.py\n",
      "D:\\Documents\\Python\\Notebook\\Examples_Anaconda3\\glyphs\\iris.py\n",
      "D:\\Documents\\Python\\Notebook\\Examples_Anaconda3\\glyphs\\iris_splom.py\n",
      "D:\\Documents\\Python\\Notebook\\Examples_Anaconda3\\glyphs\\line.py\n",
      "D:\\Documents\\Python\\Notebook\\Examples_Anaconda3\\glyphs\\line_animate.py\n",
      "D:\\Documents\\Python\\Notebook\\Examples_Anaconda3\\glyphs\\maps.py\n",
      "D:\\Documents\\Python\\Notebook\\Examples_Anaconda3\\glyphs\\population_server.py\n",
      "D:\\Documents\\Python\\Notebook\\Examples_Anaconda3\\glyphs\\prim_server.py\n",
      "D:\\Documents\\Python\\Notebook\\Examples_Anaconda3\\glyphs\\taylor_server.py\n",
      "D:\\Documents\\Python\\Notebook\\Examples_Anaconda3\\glyphs\\trail.py\n",
      "D:\\Documents\\Python\\Notebook\\Examples_Anaconda3\\glyphs\\twin_axis.py\n",
      "D:\\Documents\\Python\\Notebook\\Examples_Anaconda3\\glyphs\\widgets_server.py\n",
      "D:\\Documents\\Python\\Notebook\\Examples_Anaconda3\\glyphs\\__init__.py\n",
      "D:\\Documents\\Python\\Notebook\\Examples_Anaconda3\\plotting\\__init__.py\n",
      "D:\\Documents\\Python\\Notebook\\Examples_Anaconda3\\plotting\\file\\bollinger.py\n",
      "D:\\Documents\\Python\\Notebook\\Examples_Anaconda3\\plotting\\file\\boxplot.py\n",
      "D:\\Documents\\Python\\Notebook\\Examples_Anaconda3\\plotting\\file\\brewer.py\n",
      "D:\\Documents\\Python\\Notebook\\Examples_Anaconda3\\plotting\\file\\burtin.py\n",
      "D:\\Documents\\Python\\Notebook\\Examples_Anaconda3\\plotting\\file\\candlestick.py\n",
      "D:\\Documents\\Python\\Notebook\\Examples_Anaconda3\\plotting\\file\\categorical.py\n",
      "D:\\Documents\\Python\\Notebook\\Examples_Anaconda3\\plotting\\file\\choropleth.py\n",
      "D:\\Documents\\Python\\Notebook\\Examples_Anaconda3\\plotting\\file\\click.py\n",
      "D:\\Documents\\Python\\Notebook\\Examples_Anaconda3\\plotting\\file\\color_scatter.py\n",
      "D:\\Documents\\Python\\Notebook\\Examples_Anaconda3\\plotting\\file\\correlation.py\n",
      "D:\\Documents\\Python\\Notebook\\Examples_Anaconda3\\plotting\\file\\elements.py\n",
      "D:\\Documents\\Python\\Notebook\\Examples_Anaconda3\\plotting\\file\\glucose.py\n",
      "D:\\Documents\\Python\\Notebook\\Examples_Anaconda3\\plotting\\file\\glyphs.py\n",
      "D:\\Documents\\Python\\Notebook\\Examples_Anaconda3\\plotting\\file\\grid.py\n",
      "D:\\Documents\\Python\\Notebook\\Examples_Anaconda3\\plotting\\file\\histogram.py\n",
      "D:\\Documents\\Python\\Notebook\\Examples_Anaconda3\\plotting\\file\\hover.py\n",
      "D:\\Documents\\Python\\Notebook\\Examples_Anaconda3\\plotting\\file\\image.py\n",
      "D:\\Documents\\Python\\Notebook\\Examples_Anaconda3\\plotting\\file\\image_rgba.py\n",
      "D:\\Documents\\Python\\Notebook\\Examples_Anaconda3\\plotting\\file\\image_url.py\n",
      "D:\\Documents\\Python\\Notebook\\Examples_Anaconda3\\plotting\\file\\iris.py\n",
      "D:\\Documents\\Python\\Notebook\\Examples_Anaconda3\\plotting\\file\\legend.py\n",
      "D:\\Documents\\Python\\Notebook\\Examples_Anaconda3\\plotting\\file\\les_mis.py\n",
      "D:\\Documents\\Python\\Notebook\\Examples_Anaconda3\\plotting\\file\\line.py\n",
      "D:\\Documents\\Python\\Notebook\\Examples_Anaconda3\\plotting\\file\\logplot.py\n",
      "D:\\Documents\\Python\\Notebook\\Examples_Anaconda3\\plotting\\file\\lorenz.py\n",
      "D:\\Documents\\Python\\Notebook\\Examples_Anaconda3\\plotting\\file\\markers.py\n",
      "D:\\Documents\\Python\\Notebook\\Examples_Anaconda3\\plotting\\file\\periodic.py\n",
      "D:\\Documents\\Python\\Notebook\\Examples_Anaconda3\\plotting\\file\\rect.py\n",
      "D:\\Documents\\Python\\Notebook\\Examples_Anaconda3\\plotting\\file\\relative_paths.py\n",
      "D:\\Documents\\Python\\Notebook\\Examples_Anaconda3\\plotting\\file\\scatter.py\n",
      "D:\\Documents\\Python\\Notebook\\Examples_Anaconda3\\plotting\\file\\scatter_selection.py\n",
      "D:\\Documents\\Python\\Notebook\\Examples_Anaconda3\\plotting\\file\\stocks.py\n",
      "D:\\Documents\\Python\\Notebook\\Examples_Anaconda3\\plotting\\file\\texas.py\n",
      "D:\\Documents\\Python\\Notebook\\Examples_Anaconda3\\plotting\\file\\twin_axis.py\n",
      "D:\\Documents\\Python\\Notebook\\Examples_Anaconda3\\plotting\\file\\unemployment.py\n",
      "D:\\Documents\\Python\\Notebook\\Examples_Anaconda3\\plotting\\file\\vector.py\n",
      "D:\\Documents\\Python\\Notebook\\Examples_Anaconda3\\plotting\\file\\__init__.py\n",
      "D:\\Documents\\Python\\Notebook\\Examples_Anaconda3\\plotting\\notebook\\animated.ipynb\n",
      "D:\\Documents\\Python\\Notebook\\Examples_Anaconda3\\plotting\\notebook\\bollinger.ipynb\n",
      "D:\\Documents\\Python\\Notebook\\Examples_Anaconda3\\plotting\\notebook\\boxplot.ipynb\n",
      "D:\\Documents\\Python\\Notebook\\Examples_Anaconda3\\plotting\\notebook\\brewer.ipynb\n",
      "D:\\Documents\\Python\\Notebook\\Examples_Anaconda3\\plotting\\notebook\\burtin.ipynb\n",
      "D:\\Documents\\Python\\Notebook\\Examples_Anaconda3\\plotting\\notebook\\candlestick.ipynb\n",
      "D:\\Documents\\Python\\Notebook\\Examples_Anaconda3\\plotting\\notebook\\color_scatterplot.ipynb\n",
      "D:\\Documents\\Python\\Notebook\\Examples_Anaconda3\\plotting\\notebook\\correlation.ipynb\n",
      "D:\\Documents\\Python\\Notebook\\Examples_Anaconda3\\plotting\\notebook\\glucose.ipynb\n",
      "D:\\Documents\\Python\\Notebook\\Examples_Anaconda3\\plotting\\notebook\\glyphs.ipynb\n",
      "D:\\Documents\\Python\\Notebook\\Examples_Anaconda3\\plotting\\notebook\\line_server.ipynb\n",
      "D:\\Documents\\Python\\Notebook\\Examples_Anaconda3\\plotting\\notebook\\linked_brushing.ipynb\n",
      "D:\\Documents\\Python\\Notebook\\Examples_Anaconda3\\plotting\\notebook\\lorenz.ipynb\n",
      "D:\\Documents\\Python\\Notebook\\Examples_Anaconda3\\plotting\\notebook\\random_walk.ipynb\n",
      "D:\\Documents\\Python\\Notebook\\Examples_Anaconda3\\plotting\\notebook\\README.md\n",
      "D:\\Documents\\Python\\Notebook\\Examples_Anaconda3\\plotting\\notebook\\rect.ipynb\n",
      "D:\\Documents\\Python\\Notebook\\Examples_Anaconda3\\plotting\\notebook\\scatter.ipynb\n",
      "D:\\Documents\\Python\\Notebook\\Examples_Anaconda3\\plotting\\notebook\\stocks.ipynb\n",
      "D:\\Documents\\Python\\Notebook\\Examples_Anaconda3\\plotting\\notebook\\texas.ipynb\n",
      "D:\\Documents\\Python\\Notebook\\Examples_Anaconda3\\plotting\\notebook\\vector.ipynb\n",
      "D:\\Documents\\Python\\Notebook\\Examples_Anaconda3\\plotting\\server\\abstractrender.py\n",
      "D:\\Documents\\Python\\Notebook\\Examples_Anaconda3\\plotting\\server\\animated.py\n",
      "D:\\Documents\\Python\\Notebook\\Examples_Anaconda3\\plotting\\server\\bollinger.py\n",
      "D:\\Documents\\Python\\Notebook\\Examples_Anaconda3\\plotting\\server\\boxplot.py\n",
      "D:\\Documents\\Python\\Notebook\\Examples_Anaconda3\\plotting\\server\\brewer.py\n",
      "D:\\Documents\\Python\\Notebook\\Examples_Anaconda3\\plotting\\server\\burtin.py\n",
      "D:\\Documents\\Python\\Notebook\\Examples_Anaconda3\\plotting\\server\\candlestick.py\n",
      "D:\\Documents\\Python\\Notebook\\Examples_Anaconda3\\plotting\\server\\census.py\n",
      "D:\\Documents\\Python\\Notebook\\Examples_Anaconda3\\plotting\\server\\color_scatter.py\n",
      "D:\\Documents\\Python\\Notebook\\Examples_Anaconda3\\plotting\\server\\correlation.py\n",
      "D:\\Documents\\Python\\Notebook\\Examples_Anaconda3\\plotting\\server\\elements.py\n",
      "D:\\Documents\\Python\\Notebook\\Examples_Anaconda3\\plotting\\server\\glucose.py\n",
      "D:\\Documents\\Python\\Notebook\\Examples_Anaconda3\\plotting\\server\\glyphs.py\n",
      "D:\\Documents\\Python\\Notebook\\Examples_Anaconda3\\plotting\\server\\grid.py\n",
      "D:\\Documents\\Python\\Notebook\\Examples_Anaconda3\\plotting\\server\\image.py\n",
      "D:\\Documents\\Python\\Notebook\\Examples_Anaconda3\\plotting\\server\\image_rgba.py\n",
      "D:\\Documents\\Python\\Notebook\\Examples_Anaconda3\\plotting\\server\\iris.py\n",
      "D:\\Documents\\Python\\Notebook\\Examples_Anaconda3\\plotting\\server\\legend.py\n",
      "D:\\Documents\\Python\\Notebook\\Examples_Anaconda3\\plotting\\server\\line.py\n",
      "D:\\Documents\\Python\\Notebook\\Examples_Anaconda3\\plotting\\server\\line_animate.py\n",
      "D:\\Documents\\Python\\Notebook\\Examples_Anaconda3\\plotting\\server\\logplot.py\n",
      "D:\\Documents\\Python\\Notebook\\Examples_Anaconda3\\plotting\\server\\lorenz.py\n",
      "D:\\Documents\\Python\\Notebook\\Examples_Anaconda3\\plotting\\server\\markers.py\n",
      "D:\\Documents\\Python\\Notebook\\Examples_Anaconda3\\plotting\\server\\README.md\n",
      "D:\\Documents\\Python\\Notebook\\Examples_Anaconda3\\plotting\\server\\rect.py\n",
      "D:\\Documents\\Python\\Notebook\\Examples_Anaconda3\\plotting\\server\\remote_image.py\n",
      "D:\\Documents\\Python\\Notebook\\Examples_Anaconda3\\plotting\\server\\scatter.py\n",
      "D:\\Documents\\Python\\Notebook\\Examples_Anaconda3\\plotting\\server\\serversource.py\n",
      "D:\\Documents\\Python\\Notebook\\Examples_Anaconda3\\plotting\\server\\stocks.py\n",
      "D:\\Documents\\Python\\Notebook\\Examples_Anaconda3\\plotting\\server\\texas.py\n",
      "D:\\Documents\\Python\\Notebook\\Examples_Anaconda3\\plotting\\server\\vector.py\n",
      "D:\\Documents\\Python\\Notebook\\Examples_Anaconda3\\plotting\\server\\__init__.py\n",
      "D:\\Documents\\Python\\Notebook\\Examples_ipython-1.x\\core\\appconfig.py\n",
      "D:\\Documents\\Python\\Notebook\\Examples_ipython-1.x\\core\\display.py\n",
      "D:\\Documents\\Python\\Notebook\\Examples_ipython-1.x\\core\\example-embed-short.py\n",
      "D:\\Documents\\Python\\Notebook\\Examples_ipython-1.x\\core\\example-embed.py\n",
      "D:\\Documents\\Python\\Notebook\\Examples_ipython-1.x\\core\\ipython-completion.bash\n",
      "D:\\Documents\\Python\\Notebook\\Examples_ipython-1.x\\core\\ipython-get-history.py\n",
      "D:\\Documents\\Python\\Notebook\\Examples_ipython-1.x\\core\\ipython-qtconsole.desktop\n",
      "D:\\Documents\\Python\\Notebook\\Examples_ipython-1.x\\core\\ipython.desktop\n",
      "D:\\Documents\\Python\\Notebook\\Examples_ipython-1.x\\core\\ipython_here_shell_extension.reg\n",
      "D:\\Documents\\Python\\Notebook\\Examples_ipython-1.x\\core\\new-embed.py\n",
      "D:\\Documents\\Python\\Notebook\\Examples_ipython-1.x\\core\\seteditor.py\n",
      "D:\\Documents\\Python\\Notebook\\Examples_ipython-1.x\\inprocess\\embedded_qtconsole.py\n",
      "D:\\Documents\\Python\\Notebook\\Examples_ipython-1.x\\inprocess\\embedded_terminal.py\n",
      "D:\\Documents\\Python\\Notebook\\Examples_ipython-1.x\\lib\\BackgroundJobs.ipynb\n",
      "D:\\Documents\\Python\\Notebook\\Examples_ipython-1.x\\lib\\example-demo.py\n",
      "D:\\Documents\\Python\\Notebook\\Examples_ipython-1.x\\lib\\gui-glut.py\n",
      "D:\\Documents\\Python\\Notebook\\Examples_ipython-1.x\\lib\\gui-gtk.py\n",
      "D:\\Documents\\Python\\Notebook\\Examples_ipython-1.x\\lib\\gui-gtk3.py\n",
      "D:\\Documents\\Python\\Notebook\\Examples_ipython-1.x\\lib\\gui-pyglet.py\n",
      "D:\\Documents\\Python\\Notebook\\Examples_ipython-1.x\\lib\\gui-qt.py\n",
      "D:\\Documents\\Python\\Notebook\\Examples_ipython-1.x\\lib\\gui-tk.py\n",
      "D:\\Documents\\Python\\Notebook\\Examples_ipython-1.x\\lib\\gui-wx.py\n",
      "D:\\Documents\\Python\\Notebook\\Examples_ipython-1.x\\lib\\internal_ipkernel.py\n",
      "D:\\Documents\\Python\\Notebook\\Examples_ipython-1.x\\lib\\ipkernel_qtapp.py\n",
      "D:\\Documents\\Python\\Notebook\\Examples_ipython-1.x\\lib\\ipkernel_wxapp.py\n",
      "D:\\Documents\\Python\\Notebook\\Examples_ipython-1.x\\notebooks\\animation.m4v\n",
      "D:\\Documents\\Python\\Notebook\\Examples_ipython-1.x\\notebooks\\Animations Using clear_output.ipynb\n",
      "D:\\Documents\\Python\\Notebook\\Examples_ipython-1.x\\notebooks\\Cell Magics.ipynb\n",
      "D:\\Documents\\Python\\Notebook\\Examples_ipython-1.x\\notebooks\\Custom Display Logic.ipynb\n",
      "D:\\Documents\\Python\\Notebook\\Examples_ipython-1.x\\notebooks\\Cython Magics.ipynb\n",
      "D:\\Documents\\Python\\Notebook\\Examples_ipython-1.x\\notebooks\\Data Publication API.ipynb\n",
      "D:\\Documents\\Python\\Notebook\\Examples_ipython-1.x\\notebooks\\Frontend-Kernel Model.ipynb\n",
      "D:\\Documents\\Python\\Notebook\\Examples_ipython-1.x\\notebooks\\Importing Notebooks.ipynb\n",
      "D:\\Documents\\Python\\Notebook\\Examples_ipython-1.x\\notebooks\\Octave Magic.ipynb\n",
      "D:\\Documents\\Python\\Notebook\\Examples_ipython-1.x\\notebooks\\Part 1 - Running Code.ipynb\n",
      "D:\\Documents\\Python\\Notebook\\Examples_ipython-1.x\\notebooks\\Part 2 - Basic Output.ipynb\n",
      "D:\\Documents\\Python\\Notebook\\Examples_ipython-1.x\\notebooks\\Part 3 - Plotting with Matplotlib.ipynb\n",
      "D:\\Documents\\Python\\Notebook\\Examples_ipython-1.x\\notebooks\\Part 4 - Markdown Cells.ipynb\n",
      "D:\\Documents\\Python\\Notebook\\Examples_ipython-1.x\\notebooks\\Part 5 - Rich Display System.ipynb\n",
      "D:\\Documents\\Python\\Notebook\\Examples_ipython-1.x\\notebooks\\Progress Bars.ipynb\n",
      "D:\\Documents\\Python\\Notebook\\Examples_ipython-1.x\\notebooks\\python-logo.svg\n",
      "D:\\Documents\\Python\\Notebook\\Examples_ipython-1.x\\notebooks\\R Magics.ipynb\n",
      "D:\\Documents\\Python\\Notebook\\Examples_ipython-1.x\\notebooks\\README.md\n",
      "D:\\Documents\\Python\\Notebook\\Examples_ipython-1.x\\notebooks\\Script Magics.ipynb\n",
      "D:\\Documents\\Python\\Notebook\\Examples_ipython-1.x\\notebooks\\SymPy Examples.ipynb\n",
      "D:\\Documents\\Python\\Notebook\\Examples_ipython-1.x\\notebooks\\Trapezoid Rule.ipynb\n",
      "D:\\Documents\\Python\\Notebook\\Examples_ipython-1.x\\notebooks\\Typesetting Math Using MathJax.ipynb\n",
      "D:\\Documents\\Python\\Notebook\\Examples_ipython-1.x\\notebooks\\.ipynb_checkpoints\\Cell Magics-checkpoint.ipynb\n",
      "D:\\Documents\\Python\\Notebook\\Examples_ipython-1.x\\notebooks\\.ipynb_checkpoints\\Part 1 - Running Code-checkpoint.ipynb\n",
      "D:\\Documents\\Python\\Notebook\\Examples_ipython-1.x\\notebooks\\.ipynb_checkpoints\\Part 2 - Basic Output-checkpoint.ipynb\n",
      "D:\\Documents\\Python\\Notebook\\Examples_ipython-1.x\\notebooks\\.ipynb_checkpoints\\Part 3 - Plotting with Matplotlib-checkpoint.ipynb\n",
      "D:\\Documents\\Python\\Notebook\\Examples_ipython-1.x\\notebooks\\.ipynb_checkpoints\\Part 4 - Markdown Cells-checkpoint.ipynb\n",
      "D:\\Documents\\Python\\Notebook\\Examples_ipython-1.x\\notebooks\\.ipynb_checkpoints\\Progress Bars-checkpoint.ipynb\n",
      "D:\\Documents\\Python\\Notebook\\Examples_ipython-1.x\\notebooks\\.ipynb_checkpoints\\SymPy Examples-checkpoint.ipynb\n",
      "D:\\Documents\\Python\\Notebook\\Examples_ipython-1.x\\notebooks\\logo\\logo.png\n",
      "D:\\Documents\\Python\\Notebook\\Examples_ipython-1.x\\notebooks\\nbimp\\mynotebook.ipynb\n",
      "D:\\Documents\\Python\\Notebook\\Examples_ipython-1.x\\notebooks\\nbimp\\__init__.py\n",
      "D:\\Documents\\Python\\Notebook\\Examples_ipython-1.x\\notebooks\\nbimp\\nbs\\other.ipynb\n",
      "D:\\Documents\\Python\\Notebook\\Examples_ipython-1.x\\notebooks\\nbimp\\nbs\\__init__.py\n",
      "D:\\Documents\\Python\\Notebook\\Examples_ipython-1.x\\parallel\\customresults.py\n",
      "D:\\Documents\\Python\\Notebook\\Examples_ipython-1.x\\parallel\\dagdeps.py\n",
      "D:\\Documents\\Python\\Notebook\\Examples_ipython-1.x\\parallel\\fetchparse.py\n",
      "D:\\Documents\\Python\\Notebook\\Examples_ipython-1.x\\parallel\\helloworld.ipynb\n",
      "D:\\Documents\\Python\\Notebook\\Examples_ipython-1.x\\parallel\\helloworld.py\n",
      "D:\\Documents\\Python\\Notebook\\Examples_ipython-1.x\\parallel\\InteractiveMPI-publish-data.ipynb\n",
      "D:\\Documents\\Python\\Notebook\\Examples_ipython-1.x\\parallel\\InteractiveMPI.ipynb\n",
      "D:\\Documents\\Python\\Notebook\\Examples_ipython-1.x\\parallel\\iopubwatcher.py\n",
      "D:\\Documents\\Python\\Notebook\\Examples_ipython-1.x\\parallel\\itermapresult.py\n",
      "D:\\Documents\\Python\\Notebook\\Examples_ipython-1.x\\parallel\\multiengine1.ipy\n",
      "D:\\Documents\\Python\\Notebook\\Examples_ipython-1.x\\parallel\\multiengine2.py\n",
      "D:\\Documents\\Python\\Notebook\\Examples_ipython-1.x\\parallel\\multienginemap.py\n",
      "D:\\Documents\\Python\\Notebook\\Examples_ipython-1.x\\parallel\\nwmerge.py\n",
      "D:\\Documents\\Python\\Notebook\\Examples_ipython-1.x\\parallel\\Parallel Magics.ipynb\n",
      "D:\\Documents\\Python\\Notebook\\Examples_ipython-1.x\\parallel\\parallel_mpi.ipynb\n",
      "D:\\Documents\\Python\\Notebook\\Examples_ipython-1.x\\parallel\\parallel_pylab.ipy\n",
      "D:\\Documents\\Python\\Notebook\\Examples_ipython-1.x\\parallel\\phistogram.py\n",
      "D:\\Documents\\Python\\Notebook\\Examples_ipython-1.x\\parallel\\task1.ipynb\n",
      "D:\\Documents\\Python\\Notebook\\Examples_ipython-1.x\\parallel\\task1.py\n",
      "D:\\Documents\\Python\\Notebook\\Examples_ipython-1.x\\parallel\\task2.py\n",
      "D:\\Documents\\Python\\Notebook\\Examples_ipython-1.x\\parallel\\taskmap.ipynb\n",
      "D:\\Documents\\Python\\Notebook\\Examples_ipython-1.x\\parallel\\taskmap.py\n",
      "D:\\Documents\\Python\\Notebook\\Examples_ipython-1.x\\parallel\\task_profiler.py\n",
      "D:\\Documents\\Python\\Notebook\\Examples_ipython-1.x\\parallel\\davinci\\pwordfreq.py\n",
      "D:\\Documents\\Python\\Notebook\\Examples_ipython-1.x\\parallel\\davinci\\wordfreq.py\n",
      "D:\\Documents\\Python\\Notebook\\Examples_ipython-1.x\\parallel\\demo\\dependencies.py\n",
      "D:\\Documents\\Python\\Notebook\\Examples_ipython-1.x\\parallel\\demo\\map.py\n",
      "D:\\Documents\\Python\\Notebook\\Examples_ipython-1.x\\parallel\\demo\\noncopying.py\n",
      "D:\\Documents\\Python\\Notebook\\Examples_ipython-1.x\\parallel\\demo\\throughput.py\n",
      "D:\\Documents\\Python\\Notebook\\Examples_ipython-1.x\\parallel\\demo\\views.py\n",
      "D:\\Documents\\Python\\Notebook\\Examples_ipython-1.x\\parallel\\interengine\\bintree.py\n",
      "D:\\Documents\\Python\\Notebook\\Examples_ipython-1.x\\parallel\\interengine\\bintree_script.py\n",
      "D:\\Documents\\Python\\Notebook\\Examples_ipython-1.x\\parallel\\interengine\\communicator.py\n",
      "D:\\Documents\\Python\\Notebook\\Examples_ipython-1.x\\parallel\\interengine\\interengine.py\n",
      "D:\\Documents\\Python\\Notebook\\Examples_ipython-1.x\\parallel\\options\\Parallel MC Options.ipynb\n",
      "D:\\Documents\\Python\\Notebook\\Examples_ipython-1.x\\parallel\\pi\\parallelpi.py\n",
      "D:\\Documents\\Python\\Notebook\\Examples_ipython-1.x\\parallel\\pi\\pidigits.py\n",
      "D:\\Documents\\Python\\Notebook\\Examples_ipython-1.x\\parallel\\plotting\\plotting_backend.py\n",
      "D:\\Documents\\Python\\Notebook\\Examples_ipython-1.x\\parallel\\plotting\\plotting_frontend.py\n",
      "D:\\Documents\\Python\\Notebook\\Examples_ipython-1.x\\parallel\\rmt\\rmt.ipy\n",
      "D:\\Documents\\Python\\Notebook\\Examples_ipython-1.x\\parallel\\rmt\\rmt.ipynb\n",
      "D:\\Documents\\Python\\Notebook\\Examples_ipython-1.x\\parallel\\rmt\\rmtkernel.py\n",
      "D:\\Documents\\Python\\Notebook\\Examples_ipython-1.x\\parallel\\wave2D\\communicator.py\n",
      "D:\\Documents\\Python\\Notebook\\Examples_ipython-1.x\\parallel\\wave2D\\parallelwave-mpi.py\n",
      "D:\\Documents\\Python\\Notebook\\Examples_ipython-1.x\\parallel\\wave2D\\parallelwave.py\n",
      "D:\\Documents\\Python\\Notebook\\Examples_ipython-1.x\\parallel\\wave2D\\RectPartitioner.py\n",
      "D:\\Documents\\Python\\Notebook\\Examples_ipython-1.x\\parallel\\wave2D\\wavesolver.py\n",
      "D:\\Documents\\Python\\Notebook\\Examples_ipython-1.x\\parallel\\workflow\\client.py\n",
      "D:\\Documents\\Python\\Notebook\\Examples_ipython-1.x\\parallel\\workflow\\job_wrapper.py\n",
      "D:\\Documents\\Python\\Notebook\\Examples_ipython-1.x\\parallel\\workflow\\wmanager.py\n",
      "D:\\Documents\\Python\\Notebook\\Examples_ipython-1.x\\tests\\ANSI Test.ipynb\n",
      "D:\\Documents\\Python\\Notebook\\Examples_ipython-1.x\\tests\\CSS Reference.ipynb\n",
      "D:\\Documents\\Python\\Notebook\\Examples_ipython-1.x\\tests\\pylab_figshow.py\n",
      "D:\\Documents\\Python\\Notebook\\Examples_ipython-1.x\\tests\\embed\\embed1.py\n",
      "D:\\Documents\\Python\\Notebook\\Examples_ipython-1.x\\tests\\embed\\embed2.py\n",
      "D:\\Documents\\Python\\Notebook\\Examples_ipython-1.x\\tests\\embed\\embed3.py\n",
      "D:\\Documents\\Python\\Notebook\\Examples_ipython-1.x\\tests\\embed\\embed_division.py\n",
      "D:\\Documents\\Python\\Notebook\\Examples_ipython-1.x\\tests\\embed\\embed_no_division.py\n",
      "D:\\Documents\\Python\\Notebook\\Examples_ipython-1.x\\tests\\heartbeat\\gilsleep.ipynb\n",
      "D:\\Documents\\Python\\Notebook\\Examples_ipython-1.x\\tests\\heartbeat\\hb_gil.py\n",
      "D:\\Documents\\Python\\Notebook\\Examples_ipython-1.x\\tests\\pylab-switch\\Pylab Switching.ipynb\n",
      "D:\\Documents\\Python\\Notebook\\Examples_ipython-1.x\\widgets\\directview\\directview.ipynb\n",
      "D:\\Documents\\Python\\Notebook\\Examples_ipython-1.x\\widgets\\directview\\directview.js\n",
      "D:\\Documents\\Python\\Notebook\\Examples_ipython-1.x\\widgets\\directview\\directview.py\n",
      "D:\\Documents\\Python\\Notebook\\Examples_ipython-1.x\\widgets\\directview\\widget.py\n"
     ]
    }
   ],
   "source": [
    "for d, s, f in os.walk(currentPath):\n",
    "    if len(f) > 0:\n",
    "        for fi in f:\n",
    "            print(os.path.join(d, fi))"
   ]
  },
  {
   "cell_type": "code",
   "execution_count": 109,
   "metadata": {},
   "outputs": [
    {
     "name": "stdout",
     "output_type": "stream",
     "text": [
      "D:\\Documents\\Python\\Notebook\\Temp\n",
      "listdir:\n",
      "  .ipynb_checkpoints\n",
      "  Examples_Anaconda3\n",
      "  Examples_ipython-1.x\n",
      "  ML_ABBYY_01_DemoSpamFiltering.ipynb\n",
      "  ML_ABBYY_01_Hometask_BasicPython.ipynb\n",
      "  ML_ABBYY_02_Hometask_SkinSegmentation.ipynb\n",
      "  Part 4 - Markdown Cells.ipynb\n",
      "  Summary 1. Notebook.ipynb\n",
      "  Summary 2. Python basics.ipynb\n",
      "  Summary 3.1. Strings.ipynb\n",
      "  Summary 3.2. File system.ipynb\n",
      "  Summary 3.3. Files.ipynb\n",
      "  Temp\n",
      "  Temp2\n",
      "  Test2.ipynb\n",
      "EEXIST\n",
      "True\n",
      "[WinError 183] Cannot create a file when that file already exists: 'D:\\\\Documents\\\\Python\\\\Notebook\\\\Temp' -> 'Temp2'\n"
     ]
    }
   ],
   "source": [
    "tempDir = os.path.abspath('Temp')\n",
    "if not os.path.exists(tempDir):\n",
    "    # Наверное лучше os.mkdirs - он создаёт всю ветку\n",
    "    os.mkdir(tempDir)\n",
    "os.chdir(tempDir)\n",
    "print(os.getcwd())\n",
    "os.chdir(currentPath)\n",
    "print('listdir:', *os.listdir(currentPath), sep='\\n  ')\n",
    "\n",
    "import errno\n",
    "try:\n",
    "    os.rename(tempDir, 'Temp2')\n",
    "    tempDir2 = os.path.abspath('Temp2')\n",
    "    os.rename(tempDir2, 'Temp')\n",
    "except IOError as e:\n",
    "    print(errno.errorcode[e.errno])\n",
    "    print(e.errno == errno.EEXIST)\n",
    "    print(e)"
   ]
  },
  {
   "cell_type": "markdown",
   "metadata": {},
   "source": [
    "## Модуль shutil"
   ]
  },
  {
   "cell_type": "markdown",
   "metadata": {},
   "source": [
    "Источник (раздел 10.9): https://docs.python.org/3.1/library/shutil.html#module-shutil"
   ]
  },
  {
   "cell_type": "markdown",
   "metadata": {},
   "source": [
    "Удалять папки лучше не средствами модуля os (методы os.remove, os.rmdir), а с помощью более высокоуровневого shutil."
   ]
  },
  {
   "cell_type": "code",
   "execution_count": 111,
   "metadata": {},
   "outputs": [],
   "source": [
    "import shutil\n",
    "shutil.rmtree(tempDir)"
   ]
  },
  {
   "cell_type": "markdown",
   "metadata": {},
   "source": [
    "В этом модуле есть ещё несколько полезных функций. Например, переименование или копирование файлов или папок."
   ]
  }
 ],
 "metadata": {
  "kernelspec": {
   "display_name": "Python 3",
   "language": "python",
   "name": "python3"
  },
  "language_info": {
   "codemirror_mode": {
    "name": "ipython",
    "version": 3
   },
   "file_extension": ".py",
   "mimetype": "text/x-python",
   "name": "python",
   "nbconvert_exporter": "python",
   "pygments_lexer": "ipython3",
   "version": "3.6.1"
  }
 },
 "nbformat": 4,
 "nbformat_minor": 1
}
