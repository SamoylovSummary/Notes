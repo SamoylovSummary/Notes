{
 "cells": [
  {
   "cell_type": "code",
   "execution_count": 1,
   "metadata": {
    "collapsed": true
   },
   "outputs": [],
   "source": [
    "import pickle\n",
    "import os\n",
    "import numpy as np\n",
    "\n",
    "%matplotlib inline\n",
    "import matplotlib.pyplot as plt\n",
    "from ipywidgets import *\n",
    "from IPython.display import display\n",
    "\n",
    "plt.rcParams[\"figure.figsize\"] = (10, 6)"
   ]
  },
  {
   "cell_type": "code",
   "execution_count": 2,
   "metadata": {},
   "outputs": [
    {
     "name": "stdout",
     "output_type": "stream",
     "text": [
      "['airplane', 'automobile', 'bird', 'cat', 'deer', 'dog', 'frog', 'horse', 'ship', 'truck']\n",
      "b'training batch 1 of 5'\n",
      "b'training batch 2 of 5'\n",
      "b'training batch 3 of 5'\n",
      "b'training batch 4 of 5'\n",
      "b'training batch 5 of 5'\n",
      "b'testing batch 1 of 1'\n",
      "(50000, 3072) (50000,) (10000, 3072) (10000,)\n"
     ]
    }
   ],
   "source": [
    "cifar_folder = 'cifar-10-batches-py'\n",
    "\n",
    "labels_names = ['airplane', 'automobile', 'bird', 'cat', 'deer', 'dog', \n",
    "    'frog', 'horse', 'ship', 'truck']\n",
    "label_count = len(labels_names)\n",
    "print(labels_names)\n",
    "\n",
    "def load_cifar_batch(folder, file):\n",
    "    with open(os.path.join(folder, file), 'rb') as f:\n",
    "        dict = pickle.load(f, encoding='bytes')\n",
    "    print(dict[b'batch_label'])\n",
    "    return dict[b'data'], np.array(dict[b'labels'])\n",
    "\n",
    "def load_cifar(folder):\n",
    "    x_tr = list()\n",
    "    y_tr = list()\n",
    "    for i in range(1, 6):\n",
    "        x, y = load_cifar_batch(folder, 'data_batch_' + str(i))\n",
    "        x_tr.append(x)\n",
    "        y_tr.append(y)\n",
    "    x_tr = np.concatenate(x_tr)\n",
    "    y_tr = np.concatenate(y_tr)\n",
    "    x_te, y_te = load_cifar_batch(folder, 'test_batch')\n",
    "    return x_tr, y_tr, x_te, y_te\n",
    "\n",
    "x_tr, y_tr, x_te, y_te = load_cifar(cifar_folder)\n",
    "print(x_tr.shape, y_tr.shape, x_te.shape, y_te.shape)"
   ]
  },
  {
   "cell_type": "code",
   "execution_count": 3,
   "metadata": {},
   "outputs": [
    {
     "data": {
      "image/png": "[encoded data removed]",
      "text/plain": [
       "<matplotlib.figure.Figure at 0x22060d17eb8>"
      ]
     },
     "metadata": {},
     "output_type": "display_data"
    }
   ],
   "source": [
    "def plot_image(x, y):\n",
    "    plt.imshow(x.reshape(3, 32, 32).transpose(1, 2, 0) / 256)\n",
    "    plt.title(labels_names[y])\n",
    "    plt.axis('off')\n",
    "\n",
    "def show_image(x, y):\n",
    "    plot_image(x, y)\n",
    "    plt.show()\n",
    "\n",
    "def show_images(xs, ys):\n",
    "    n = len(xs)\n",
    "    for i in range(n):\n",
    "        plt.subplot(1, n, i + 1)\n",
    "        plot_image(xs[i], ys[i])\n",
    "    plt.show()\n",
    "    \n",
    "show_images(x_tr[:5], y_tr[:5])"
   ]
  },
  {
   "cell_type": "code",
   "execution_count": 5,
   "metadata": {},
   "outputs": [
    {
     "data": {
      "application/vnd.jupyter.widget-view+json": {
       "model_id": "aa7e5cdf245b4771a72adbfe03de5c50",
       "version_major": 2,
       "version_minor": 0
      },
      "text/plain": [
       "A Jupyter Widget"
      ]
     },
     "metadata": {},
     "output_type": "display_data"
    }
   ],
   "source": [
    "def show_train_images(index):\n",
    "    show_images(x_tr[index:index+5], y_tr[index:index+5])\n",
    "\n",
    "silence = interact(show_train_images, index=widgets.IntSlider(min=0, max=100, step=5, value=0))"
   ]
  },
  {
   "cell_type": "code",
   "execution_count": 6,
   "metadata": {},
   "outputs": [
    {
     "data": {
      "application/vnd.jupyter.widget-view+json": {
       "model_id": "543ecf1521dd4fc49daa2d29dbd76aaa",
       "version_major": 2,
       "version_minor": 0
      },
      "text/plain": [
       "A Jupyter Widget"
      ]
     },
     "metadata": {},
     "output_type": "display_data"
    }
   ],
   "source": [
    "def show_train_images(index):\n",
    "    show_images(x_tr[index:index+5], y_tr[index:index+5])\n",
    "\n",
    "silence = interact(show_train_images, \n",
    "        index=widgets.BoundedIntText(min=0, max=49999, step=5, value=0, description='Range start:'))"
   ]
  },
  {
   "cell_type": "code",
   "execution_count": 12,
   "metadata": {},
   "outputs": [
    {
     "data": {
      "application/vnd.jupyter.widget-view+json": {
       "model_id": "27d4558866c04cd5a0f7c13d7f0e2ee6",
       "version_major": 2,
       "version_minor": 0
      },
      "text/plain": [
       "A Jupyter Widget"
      ]
     },
     "metadata": {},
     "output_type": "display_data"
    }
   ],
   "source": [
    "edit_range_start = widgets.BoundedIntText(\n",
    "        value=0, min=0, max=49999, step=5, description='Range start:')\n",
    "button_prev = widgets.Button(description=\"<\")\n",
    "button_next = widgets.Button(description=\">\")\n",
    "output = widgets.Output()\n",
    "output.layout.height = '170px'\n",
    "\n",
    "def on_prev_clicked(b):\n",
    "    global edit_range_start\n",
    "    edit_range_start.value -= 5\n",
    "    \n",
    "def on_next_clicked(b):\n",
    "    global range_start\n",
    "    edit_range_start.value += 5\n",
    "\n",
    "def on_range_start_change(change):\n",
    "    output.clear_output()\n",
    "    with(output):\n",
    "        show_train_images(change['new'])\n",
    "\n",
    "button_prev.on_click(on_prev_clicked)\n",
    "button_next.on_click(on_next_clicked)\n",
    "edit_range_start.observe(on_range_start_change, names='value')\n",
    "display(widgets.VBox([edit_range_start, widgets.HBox([button_prev, button_next]), output]))"
   ]
  },
  {
   "cell_type": "code",
   "execution_count": 13,
   "metadata": {},
   "outputs": [
    {
     "data": {
      "application/vnd.jupyter.widget-view+json": {
       "model_id": "0941c861a8594dce91dff7e800a409eb",
       "version_major": 2,
       "version_minor": 0
      },
      "text/plain": [
       "A Jupyter Widget"
      ]
     },
     "metadata": {},
     "output_type": "display_data"
    },
    {
     "data": {
      "application/vnd.jupyter.widget-view+json": {
       "model_id": "df0b3feca24441339ccce750f80d765b",
       "version_major": 2,
       "version_minor": 0
      },
      "text/plain": [
       "A Jupyter Widget"
      ]
     },
     "metadata": {},
     "output_type": "display_data"
    }
   ],
   "source": [
    "class IntSliderWithButtons(widgets.HBox):\n",
    "    \n",
    "    def on_prev_clicked(self, b):\n",
    "        self.slider.value = self.slider.value - self.slider.step\n",
    "        \n",
    "    def on_next_clicked(self, b):\n",
    "        self.slider.value = self.slider.value + self.slider.step\n",
    "        \n",
    "    def __init__(self, value=None, min=None, max=None, step=None):\n",
    "        self.on_value_change_callback = None\n",
    "        self.button_prev = widgets.Button(description=\"<\")\n",
    "        self.button_prev.on_click(self.on_prev_clicked)\n",
    "        self.button_next = widgets.Button(description=\">\")\n",
    "        self.button_next.on_click(self.on_next_clicked)\n",
    "        self.slider = widgets.IntSlider(value=value, min=min, max=max, step=step)\n",
    "        widgets.HBox.__init__(self, [self.button_prev, self.button_next, self.slider])\n",
    "\n",
    "slider = IntSliderWithButtons(min=0, max=100, step=5, value=0)\n",
    "display(slider, widgets.interactive_output(show_train_images, {'index': slider.slider}))"
   ]
  },
  {
   "cell_type": "code",
   "execution_count": null,
   "metadata": {
    "collapsed": true
   },
   "outputs": [],
   "source": []
  }
 ],
 "metadata": {
  "kernelspec": {
   "display_name": "Python 3",
   "language": "python",
   "name": "python3"
  },
  "language_info": {
   "codemirror_mode": {
    "name": "ipython",
    "version": 3
   },
   "file_extension": ".py",
   "mimetype": "text/x-python",
   "name": "python",
   "nbconvert_exporter": "python",
   "pygments_lexer": "ipython3",
   "version": "3.6.3"
  }
 },
 "nbformat": 4,
 "nbformat_minor": 2
}
