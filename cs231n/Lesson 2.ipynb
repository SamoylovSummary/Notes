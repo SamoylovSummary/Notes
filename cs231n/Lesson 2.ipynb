{
 "cells": [
  {
   "cell_type": "code",
   "execution_count": 10,
   "metadata": {},
   "outputs": [
    {
     "name": "stdout",
     "output_type": "stream",
     "text": [
      "['airplane', 'automobile', 'bird', 'cat', 'deer', 'dog', 'frog', 'horse', 'ship', 'truck']\n",
      "b'training batch 1 of 5'\n",
      "b'training batch 2 of 5'\n",
      "b'training batch 3 of 5'\n",
      "b'training batch 4 of 5'\n",
      "b'training batch 5 of 5'\n",
      "b'testing batch 1 of 1'\n",
      "(50000, 3072) (50000,) (10000, 3072) (10000,)\n"
     ]
    }
   ],
   "source": [
    "import pickle\n",
    "import os\n",
    "import numpy as np\n",
    "\n",
    "cifar_folder = 'cifar-10-batches-py'\n",
    "\n",
    "labels_names = ['airplane', 'automobile', 'bird', 'cat', 'deer', 'dog', \n",
    "    'frog', 'horse', 'ship', 'truck']\n",
    "print(labels_names)\n",
    "\n",
    "def load_cifar_batch(folder, file):\n",
    "    with open(os.path.join(folder, file), 'rb') as f:\n",
    "        dict = pickle.load(f, encoding='bytes')\n",
    "    print(dict[b'batch_label'])\n",
    "    return dict[b'data'], np.array(dict[b'labels'])\n",
    "\n",
    "def load_cifar(folder):\n",
    "    x_tr = list()\n",
    "    y_tr = list()\n",
    "    for i in range(1, 6):\n",
    "        x, y = load_cifar_batch(folder, 'data_batch_' + str(i))\n",
    "        x_tr.append(x)\n",
    "        y_tr.append(y)\n",
    "    x_tr = np.concatenate(x_tr)\n",
    "    y_tr = np.concatenate(y_tr)\n",
    "    x_te, y_te = load_cifar_batch(folder, 'test_batch')\n",
    "    return x_tr, y_tr, x_te, y_te\n",
    "\n",
    "x_tr, y_tr, x_te, y_te = load_cifar(cifar_folder)\n",
    "print(x_tr.shape, y_tr.shape, x_te.shape, y_te.shape)"
   ]
  },
  {
   "cell_type": "code",
   "execution_count": 7,
   "metadata": {},
   "outputs": [
    {
     "data": {
      "application/vnd.jupyter.widget-view+json": {
       "model_id": "a9b92704ae8b492bb8e141865fc2be83",
       "version_major": 2,
       "version_minor": 0
      },
      "text/plain": [
       "A Jupyter Widget"
      ]
     },
     "metadata": {},
     "output_type": "display_data"
    }
   ],
   "source": [
    "%matplotlib inline\n",
    "import matplotlib.pyplot as plt\n",
    "from ipywidgets import *\n",
    "from IPython.display import display\n",
    "\n",
    "def plot_image(x, y):\n",
    "    plt.imshow(x.reshape(3, 32, 32).transpose(1, 2, 0) / 256)\n",
    "    plt.title(labels_names[y])\n",
    "    plt.axis('off')\n",
    "\n",
    "def show_image(x, y):\n",
    "    plot_image(x, y)\n",
    "    plt.show()\n",
    "\n",
    "def show_train_image(index):\n",
    "    show_image(x_tr[index], y_tr[index])\n",
    "\n",
    "silence = interact(show_train_image, index=widgets.IntSlider(min=0, max=20, step=1, value=0))"
   ]
  },
  {
   "cell_type": "code",
   "execution_count": 8,
   "metadata": {},
   "outputs": [
    {
     "data": {
      "image/png": "[encoded data removed]",
      "text/plain": [
       "<matplotlib.figure.Figure at 0x1c4c63cda90>"
      ]
     },
     "metadata": {},
     "output_type": "display_data"
    }
   ],
   "source": [
    "def show_stacked(xs, ys):\n",
    "    n = len(xs)\n",
    "    for i in range(n):\n",
    "        plt.subplot(1, n, i + 1)\n",
    "        plot_image(xs[i], ys[i])\n",
    "    plt.show()\n",
    "    \n",
    "show_stacked(x_tr[:5], y_tr[:5])"
   ]
  },
  {
   "cell_type": "code",
   "execution_count": 12,
   "metadata": {},
   "outputs": [
    {
     "data": {
      "application/vnd.jupyter.widget-view+json": {
       "model_id": "b7448e626676446ca35567ccab8a3a35",
       "version_major": 2,
       "version_minor": 0
      },
      "text/plain": [
       "A Jupyter Widget"
      ]
     },
     "metadata": {},
     "output_type": "display_data"
    }
   ],
   "source": [
    "from collections import Counter\n",
    "\n",
    "def show_k_neighbours(index):\n",
    "    x_curr = x_te[index]\n",
    "    y_curr = y_te[index]\n",
    "    show(x_curr, y_curr)\n",
    "    distances = np.sum(np.abs(x_tr - x_curr), axis = 1)\n",
    "    top = distances.argsort()[:5]\n",
    "    x_top = x_tr[top]\n",
    "    y_top = y_tr[top]\n",
    "    show_stacked(x_top, y_top)\n",
    "    y_pred = max(Counter(y_top).items(), key=lambda x: x[1])[0]\n",
    "    print(labels_names[y_pred])\n",
    "\n",
    "silence = interact(show_k_neighbours, index=widgets.IntSlider(min=0, max=20, step=1, value=0))"
   ]
  },
  {
   "cell_type": "code",
   "execution_count": 235,
   "metadata": {},
   "outputs": [
    {
     "name": "stdout",
     "output_type": "stream",
     "text": [
      "Process: 999 of 1000. Complete.\n",
      "0.253\n"
     ]
    }
   ],
   "source": [
    "import sys\n",
    "\n",
    "def predict_by_nearest(n):\n",
    "    y_pred = np.zeros(n, dtype = y_tr.dtype)\n",
    "    for i in range(n):\n",
    "        distances = np.sum(np.abs(x_tr - x_te[i,:]), axis = 1)\n",
    "        min_index = np.argmin(distances) # get the index with smallest distance\n",
    "        y_pred[i] = y_tr[min_index] # predict the label of the nearest example\n",
    "        sys.stdout.write('\\rProcess: %d of %d' % (i, n))\n",
    "        sys.stdout.flush()\n",
    "    print('. Complete.')\n",
    "    return y_pred\n",
    "\n",
    "y_pred = predict_by_nearest(1000)\n",
    "print(np.mean(y_pred == y_te[:1000]))"
   ]
  },
  {
   "cell_type": "code",
   "execution_count": 233,
   "metadata": {},
   "outputs": [
    {
     "name": "stdout",
     "output_type": "stream",
     "text": [
      "0.315\n"
     ]
    }
   ],
   "source": [
    "def predict_k_neighbours(n, k):\n",
    "    y_pred = np.zeros(n, dtype = y_tr.dtype)\n",
    "    for i in range(n):\n",
    "        distances = np.sum(np.abs(x_tr - x_te[i,:]), axis = 1)\n",
    "        top = distances.argsort()[:k]\n",
    "        y_top = y_tr[top]\n",
    "        y_pred[i] = max(Counter(y_top).items(), key=lambda x: x[1])[0]\n",
    "        sys.stdout.write('\\rProcess: %d of %d' % (i, n))\n",
    "        sys.stdout.flush()\n",
    "    print('. Complete.')\n",
    "    return y_pred\n",
    "\n",
    "y_pred = predict_k_neighbours(1000, 5)\n",
    "print(np.mean(y_pred == y_te[:1000]))"
   ]
  },
  {
   "cell_type": "code",
   "execution_count": null,
   "metadata": {
    "collapsed": true
   },
   "outputs": [],
   "source": []
  }
 ],
 "metadata": {
  "kernelspec": {
   "display_name": "Python 3",
   "language": "python",
   "name": "python3"
  },
  "language_info": {
   "codemirror_mode": {
    "name": "ipython",
    "version": 3
   },
   "file_extension": ".py",
   "mimetype": "text/x-python",
   "name": "python",
   "nbconvert_exporter": "python",
   "pygments_lexer": "ipython3",
   "version": "3.6.3"
  }
 },
 "nbformat": 4,
 "nbformat_minor": 2
}
