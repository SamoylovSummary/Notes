{
 "cells": [
  {
   "cell_type": "code",
   "execution_count": 1,
   "metadata": {
    "collapsed": true
   },
   "outputs": [],
   "source": [
    "import pickle\n",
    "import os\n",
    "import numpy as np\n",
    "from sklearn.preprocessing import OneHotEncoder\n",
    "\n",
    "%matplotlib inline\n",
    "import matplotlib.pyplot as plt\n",
    "from ipywidgets import *\n",
    "from IPython.display import display\n",
    "\n",
    "plt.rcParams[\"figure.figsize\"] = (10, 6)"
   ]
  },
  {
   "cell_type": "code",
   "execution_count": 2,
   "metadata": {},
   "outputs": [
    {
     "name": "stdout",
     "output_type": "stream",
     "text": [
      "['airplane', 'automobile', 'bird', 'cat', 'deer', 'dog', 'frog', 'horse', 'ship', 'truck']\n",
      "b'training batch 1 of 5'\n",
      "b'training batch 2 of 5'\n",
      "b'training batch 3 of 5'\n",
      "b'training batch 4 of 5'\n",
      "b'training batch 5 of 5'\n",
      "b'testing batch 1 of 1'\n",
      "(50000, 3072) (50000,) (10000, 3072) (10000,)\n"
     ]
    }
   ],
   "source": [
    "cifar_folder = 'data/cifar-10-batches-py'\n",
    "\n",
    "labels_names = ['airplane', 'automobile', 'bird', 'cat', 'deer', 'dog', \n",
    "    'frog', 'horse', 'ship', 'truck']\n",
    "label_count = len(labels_names)\n",
    "print(labels_names)\n",
    "\n",
    "def load_cifar_batch(folder, file):\n",
    "    with open(os.path.join(folder, file), 'rb') as f:\n",
    "        dict = pickle.load(f, encoding='bytes')\n",
    "    print(dict[b'batch_label'])\n",
    "    return dict[b'data'], np.array(dict[b'labels'])\n",
    "\n",
    "def load_cifar(folder):\n",
    "    x_tr = list()\n",
    "    y_tr = list()\n",
    "    for i in range(1, 6):\n",
    "        x, y = load_cifar_batch(folder, 'data_batch_' + str(i))\n",
    "        x_tr.append(x)\n",
    "        y_tr.append(y)\n",
    "    x_tr = np.concatenate(x_tr)\n",
    "    y_tr = np.concatenate(y_tr)\n",
    "    x_te, y_te = load_cifar_batch(folder, 'test_batch')\n",
    "    return x_tr, y_tr, x_te, y_te\n",
    "\n",
    "x_tr, y_tr, x_te, y_te = load_cifar(cifar_folder)\n",
    "print(x_tr.shape, y_tr.shape, x_te.shape, y_te.shape)"
   ]
  },
  {
   "cell_type": "code",
   "execution_count": 3,
   "metadata": {},
   "outputs": [
    {
     "data": {
      "application/vnd.jupyter.widget-view+json": {
       "model_id": "d4f9041533404978bebff818bf08c206",
       "version_major": 2,
       "version_minor": 0
      },
      "text/plain": [
       "A Jupyter Widget"
      ]
     },
     "metadata": {},
     "output_type": "display_data"
    }
   ],
   "source": [
    "def plot_image(x, y):\n",
    "    plt.imshow(x.reshape(3, 32, 32).transpose(1, 2, 0) / 256)\n",
    "    plt.title(labels_names[y])\n",
    "    plt.axis('off')\n",
    "\n",
    "def show_image(x, y):\n",
    "    plot_image(x, y)\n",
    "    plt.show()\n",
    "\n",
    "def show_images(xs, ys):\n",
    "    n = len(xs)\n",
    "    for i in range(n):\n",
    "        plt.subplot(1, n, i + 1)\n",
    "        plot_image(xs[i], ys[i])\n",
    "    plt.show()\n",
    "\n",
    "def show_train_images(pos):\n",
    "    show_images(x_tr[pos:pos+5], y_tr[pos:pos+5])\n",
    "\n",
    "silence = interact(show_train_images, \n",
    "        pos=widgets.BoundedIntText(min=0, max=49999, step=5, value=0, description='Range start:'))"
   ]
  },
  {
   "cell_type": "code",
   "execution_count": 4,
   "metadata": {},
   "outputs": [
    {
     "data": {
      "image/png": "[encoded data removed]",
      "text/plain": [
       "<matplotlib.figure.Figure at 0x240b7859748>"
      ]
     },
     "metadata": {},
     "output_type": "display_data"
    }
   ],
   "source": [
    "y_mean = range(10)\n",
    "x_mean = [x_tr[y_tr == y].mean(axis=0) for y in y_mean]\n",
    "show_images(x_mean, y_mean)"
   ]
  },
  {
   "cell_type": "code",
   "execution_count": 5,
   "metadata": {},
   "outputs": [
    {
     "name": "stdout",
     "output_type": "stream",
     "text": [
      "(50000, 10)\n",
      "(10000, 10)\n"
     ]
    }
   ],
   "source": [
    "# Perform one hot encoding\n",
    "y_tr_n = np.eye(label_count)[y_tr]\n",
    "y_te_n = np.eye(label_count)[y_te]\n",
    "\n",
    "print(y_tr_n.shape)\n",
    "print(y_te_n.shape)\n",
    "\n",
    "x_tr_n = x_tr / 256 - 0.5\n",
    "x_te_n = x_te / 256 - 0.5"
   ]
  },
  {
   "cell_type": "code",
   "execution_count": 48,
   "metadata": {},
   "outputs": [
    {
     "name": "stdout",
     "output_type": "stream",
     "text": [
      "(3072, 10)\n",
      "(10,)\n"
     ]
    }
   ],
   "source": [
    "np.random.seed(5)\n",
    "W = np.random.rand(x_tr_n.shape[1], label_count) * 0.001\n",
    "B = np.random.rand(label_count) * 0.001\n",
    "\n",
    "print(W.shape)\n",
    "print(B.shape)"
   ]
  },
  {
   "cell_type": "code",
   "execution_count": 49,
   "metadata": {},
   "outputs": [
    {
     "data": {
      "application/vnd.jupyter.widget-view+json": {
       "model_id": "20743b1b5a614c1ab144e30e279fdb2f",
       "version_major": 2,
       "version_minor": 0
      },
      "text/plain": [
       "A Jupyter Widget"
      ]
     },
     "metadata": {},
     "output_type": "display_data"
    },
    {
     "name": "stdout",
     "output_type": "stream",
     "text": [
      "y_pred[0] [-0.14542592 -0.14900587 -0.14290312 -0.15059157 -0.13999799 -0.14062116\n",
      " -0.14606482 -0.15039951 -0.15012349 -0.15471467]\n",
      "y_exp[0] [ 0.86465394  0.86156406  0.86683805  0.86019896  0.86935998  0.86881839\n",
      "  0.86410169  0.86036419  0.8606017   0.85665957]\n",
      "sm[0] [ 0.10015497  0.09979706  0.10040796  0.09963894  0.10070008  0.10063735\n",
      "  0.100091    0.09965808  0.09968559  0.09922896]\n",
      "result [ 0.100091    0.10037818  0.10035592 ...,  0.10008494  0.09990926\n",
      "  0.09984606]\n",
      "result 2.30251112546\n",
      "Loss before: 115125.556273\n",
      "y_pred[0] [-0.14542592 -0.14900587 -0.14290312 -0.15059157 -0.13999799 -0.14062116\n",
      " -0.14606482 -0.15039951 -0.15012349 -0.15471467]\n",
      "y_exp[0] [ 0.86465394  0.86156406  0.86683805  0.86019896  0.86935998  0.86881839\n",
      "  0.86410169  0.86036419  0.8606017   0.85665957]\n",
      "sm[0] [ 0.10015497  0.09979706  0.10040796  0.09963894  0.10070008  0.10063735\n",
      "  0.100091    0.09965808  0.09968559  0.09922896]\n",
      "result [ 0.100091    0.10037818  0.10035592 ...,  0.10008494  0.09990926\n",
      "  0.09984606]\n",
      "result 2.30251112546\n",
      "  current loss: 115125.556273\n",
      "y_pred[0] [ 3211.53635851  5834.67330599  5836.51108804  6518.2290448   6691.48867806\n",
      "  6523.35514101  7451.76917652  6006.02495265  3971.11261756  4816.14616894]\n",
      "y_exp[0] [ inf  inf  inf  inf  inf  inf  inf  inf  inf  inf]\n",
      "sm[0] [ nan  nan  nan  nan  nan  nan  nan  nan  nan  nan]\n",
      "result [ nan  nan  nan ...,  nan  nan   0.]\n",
      "result nan\n",
      "Loss after: nan\n",
      "Loss change: nan\n",
      "Accuracy tr: 0.2349\n",
      "Accuracy te: 0.2416\n"
     ]
    },
    {
     "name": "stderr",
     "output_type": "stream",
     "text": [
      "C:\\Anaconda3\\lib\\site-packages\\ipykernel_launcher.py:22: RuntimeWarning: overflow encountered in exp\n",
      "C:\\Anaconda3\\lib\\site-packages\\ipykernel_launcher.py:24: RuntimeWarning: invalid value encountered in true_divide\n",
      "C:\\Anaconda3\\lib\\site-packages\\ipykernel_launcher.py:28: RuntimeWarning: invalid value encountered in maximum\n",
      "C:\\Anaconda3\\lib\\site-packages\\ipykernel_launcher.py:30: RuntimeWarning: invalid value encountered in maximum\n"
     ]
    }
   ],
   "source": [
    "speed = 0.1\n",
    "\n",
    "def calculate_soft_max(x):\n",
    "    x_exp = np.exp(x)\n",
    "    return x_exp / np.sum(x_exp, axis=1).reshape(-1, 1)\n",
    "\n",
    "def predict(x):\n",
    "    global W\n",
    "    global B\n",
    "    W_in = x\n",
    "    W_out = np.dot(W_in, W)\n",
    "    B_in = W_out\n",
    "    B_out = B_in + B\n",
    "    y_pred = B_out\n",
    "    return y_pred\n",
    "\n",
    "def calculate_accuracy(y_pred, y):\n",
    "    return np.mean(np.argmax(y_pred, axis=1) == np.argmax(y, axis=1))\n",
    "\n",
    "def calculate_loss(y_pred, y):\n",
    "    print(\"y_pred[0]\", y_pred[0])\n",
    "    y_exp = np.exp(y_pred)\n",
    "    print(\"y_exp[0]\", y_exp[0])\n",
    "    sm = y_exp / np.sum(y_exp, axis=1).reshape(-1, 1)\n",
    "    print(\"sm[0]\", sm[0])\n",
    "    result = np.sum(sm * y, axis=1)\n",
    "    print(\"result\", result)\n",
    "    result = -np.mean(np.log(np.maximum(result, 0.0001)))\n",
    "    print(\"result\", result)\n",
    "    return result\n",
    "\n",
    "def calculate_grad(y_pred, y):\n",
    "    return y_pred - y\n",
    "\n",
    "def perform_step():\n",
    "    global x_tr_n\n",
    "    global y_tr_n\n",
    "    global W\n",
    "    global B\n",
    "    W_in = x_tr_n\n",
    "    W_out = np.dot(W_in, W)\n",
    "    B_in = W_out\n",
    "    B_out = B_in + B\n",
    "    y_pred = B_out\n",
    "    \n",
    "    print('  current loss:', calculate_loss(y_pred, y_tr_n))\n",
    "\n",
    "    grad = calculate_grad(y_pred, y_tr_n)\n",
    "    \n",
    "    B = B - speed * np.sum(grad, axis=0)\n",
    "    W = W - speed * np.dot(W_in.transpose(), grad)\n",
    "    #W_dif_1 = W - np.roll(W, 1, axis=0)\n",
    "    #W_dif_2 = W - np.roll(W, 32, axis=0)\n",
    "    #W_dif_3 = W - np.roll(W, 32 * 32, axis=0)\n",
    "    #W = W - speed * W_dif_1 # * np.abs(W_dif)\n",
    "    #W = W - speed * W_dif_2 # * np.abs(W_dif)\n",
    "    #W = W - speed * W_dif_3 # * np.abs(W_dif)\n",
    "    W = W - speed * W # * np.abs(W)\n",
    "    B = B - speed * B # * np.abs(B)\n",
    "\n",
    "output = widgets.Output()\n",
    "output.layout.height = '110px'\n",
    "display(output)\n",
    "    \n",
    "loss_before = calculate_loss(predict(x_tr_n), y_tr_n)\n",
    "print('Loss before:', loss_before)\n",
    "\n",
    "speed = 0.01\n",
    "\n",
    "for i in range(1):\n",
    "    perform_step()\n",
    "    if i < 10 or i % 5 == 0:\n",
    "    #if i % 10 == 0:\n",
    "        images = W.transpose()*5000 + 128\n",
    "        images = np.minimum(255, np.maximum(0, images))\n",
    "        output.clear_output()\n",
    "        with(output):\n",
    "            show_images(images, range(10))\n",
    "\n",
    "loss_after = calculate_loss(predict(x_tr_n), y_tr_n)\n",
    "print('Loss after:', loss_after)\n",
    "\n",
    "print('Loss change:', loss_after - loss_before)\n",
    "\n",
    "print('Accuracy tr:', calculate_accuracy(predict(x_tr_n), y_tr_n))\n",
    "print('Accuracy te:', calculate_accuracy(predict(x_te_n), y_te_n))"
   ]
  },
  {
   "cell_type": "code",
   "execution_count": 20,
   "metadata": {},
   "outputs": [
    {
     "name": "stdout",
     "output_type": "stream",
     "text": [
      "[[   2.71828183    7.3890561    20.08553692]\n",
      " [  54.59815003  148.4131591   403.42879349]]\n",
      "[[ 0.09003057  0.24472847  0.66524096]\n",
      " [ 0.09003057  0.24472847  0.66524096]]\n"
     ]
    }
   ],
   "source": [
    "speed = 0.1\n",
    "\n",
    "def calculate_soft_max(x):\n",
    "    x_exp = np.exp(x)\n",
    "    return x_exp / np.sum(x_exp, axis=1).reshape(-1, 1)\n",
    "\n",
    "def predict(x):\n",
    "    global W\n",
    "    global B\n",
    "    W_in = x\n",
    "    W_out = np.dot(W_in, W)\n",
    "    B_in = W_out\n",
    "    B_out = B_in + B\n",
    "    SM_in = B_out\n",
    "    SM_out = calculate_soft_max(SM_in)\n",
    "    y_pred = SM_out\n",
    "    return y_pred\n",
    "\n",
    "def calculate_accuracy(y_pred, y):\n",
    "    return np.mean(np.argmax(y_pred, axis=1) == np.argmax(y, axis=1))\n",
    "\n",
    "def calculate_loss(y_pred, y):\n",
    "    return np.sum(-np.log(np.maximum(np.sum(y_pred * y, axis=1), 0.0001)))\n",
    "\n",
    "def calculate_grad(y_pred, y):\n",
    "    return y_pred - y\n",
    "\n",
    "def perform_step():\n",
    "    global x_tr_n\n",
    "    global y_tr_n\n",
    "    global W\n",
    "    global B\n",
    "    W_in = x_tr_n\n",
    "    W_out = np.dot(W_in, W)\n",
    "    B_in = W_out\n",
    "    B_out = B_in + B\n",
    "    y_pred = B_out\n",
    "    \n",
    "    print('  current loss:', calculate_loss(y_pred, y_tr_n))\n",
    "\n",
    "    grad = calculate_grad(y_pred, y_tr_n)\n",
    "    \n",
    "    B = B - speed * np.sum(grad, axis=0)\n",
    "    W = W - speed * np.dot(W_in.transpose(), grad)\n",
    "    #W_dif_1 = W - np.roll(W, 1, axis=0)\n",
    "    #W_dif_2 = W - np.roll(W, 32, axis=0)\n",
    "    #W_dif_3 = W - np.roll(W, 32 * 32, axis=0)\n",
    "    #W = W - speed * W_dif_1 # * np.abs(W_dif)\n",
    "    #W = W - speed * W_dif_2 # * np.abs(W_dif)\n",
    "    #W = W - speed * W_dif_3 # * np.abs(W_dif)\n",
    "    W = W - speed * W # * np.abs(W)\n",
    "    B = B - speed * B # * np.abs(B)\n"
   ]
  },
  {
   "cell_type": "code",
   "execution_count": null,
   "metadata": {
    "collapsed": true
   },
   "outputs": [],
   "source": []
  },
  {
   "cell_type": "code",
   "execution_count": 17,
   "metadata": {},
   "outputs": [
    {
     "data": {
      "text/plain": [
       "array([[ 0.16666667,  0.33333333,  0.5       ],\n",
       "       [ 0.26666667,  0.33333333,  0.4       ]])"
      ]
     },
     "execution_count": 17,
     "metadata": {},
     "output_type": "execute_result"
    }
   ],
   "source": [
    "x = np.array([[1, 2, 3], [4, 5, 6]])\n",
    "x_sum = np.sum(x, axis=1).reshape(-1, 1)\n",
    "x / x_sum"
   ]
  },
  {
   "cell_type": "code",
   "execution_count": 11,
   "metadata": {},
   "outputs": [
    {
     "data": {
      "application/vnd.jupyter.widget-view+json": {
       "model_id": "e3599890fc21400987ee06e6ad8e9ec4",
       "version_major": 2,
       "version_minor": 0
      },
      "text/plain": [
       "A Jupyter Widget"
      ]
     },
     "metadata": {},
     "output_type": "display_data"
    },
    {
     "data": {
      "text/plain": [
       "<function __main__.show_image_w>"
      ]
     },
     "execution_count": 11,
     "metadata": {},
     "output_type": "execute_result"
    }
   ],
   "source": [
    "images = W.transpose()*5000 + 128\n",
    "images = np.minimum(255, np.maximum(0, images))\n",
    "\n",
    "def show_image_w(index):\n",
    "    show_image(images[index], index)\n",
    "\n",
    "interact(show_image_w, index=widgets.BoundedIntText(min=0, max=9, step=1, value=0))"
   ]
  },
  {
   "cell_type": "code",
   "execution_count": 12,
   "metadata": {},
   "outputs": [
    {
     "data": {
      "text/plain": [
       "array([[1, 4, 7],\n",
       "       [2, 5, 8],\n",
       "       [3, 6, 9]])"
      ]
     },
     "execution_count": 12,
     "metadata": {},
     "output_type": "execute_result"
    }
   ],
   "source": [
    "x = np.array([[1, 2, 3], [4, 5, 6], [7, 8, 9]])\n",
    "g = np.array([[0, 10], [100, 0], [1000, 0]])\n",
    "x.transpose()\n",
    "#np.dot(x.transpose(), g)\n",
    "#np.dot(x.reshape(-1, 1), g.reshape(1, -1))\n",
    "#g = np.array([[0, 0, 1, 0], [0, -1, 0, 0]])\n",
    "#np.dot(x.reshape(-1, 1), g.reshape(1, -1))"
   ]
  },
  {
   "cell_type": "code",
   "execution_count": 13,
   "metadata": {},
   "outputs": [
    {
     "name": "stdout",
     "output_type": "stream",
     "text": [
      "[0 1 2]\n",
      "[[ 0  1  2]\n",
      " [10 20 30]]\n",
      "[[ 0  1  2  3]\n",
      " [ 4  5  6  7]\n",
      " [ 8  9 10 11]]\n",
      "[[ 20  23  26  29]\n",
      " [320 380 440 500]]\n"
     ]
    }
   ],
   "source": [
    "x_tmp1 = np.array([0, 1, 2])\n",
    "x_tmp = np.array([[0, 1, 2], [10, 20, 30]])\n",
    "w_tmp = np.array([[0, 1, 2, 3], [4, 5, 6, 7], [8, 9, 10, 11]])\n",
    "print(x_tmp1)\n",
    "print(x_tmp)\n",
    "print(w_tmp)\n",
    "print(np.dot(x_tmp, w_tmp))\n"
   ]
  },
  {
   "cell_type": "code",
   "execution_count": null,
   "metadata": {
    "collapsed": true
   },
   "outputs": [],
   "source": []
  }
 ],
 "metadata": {
  "kernelspec": {
   "display_name": "Python 3",
   "language": "python",
   "name": "python3"
  },
  "language_info": {
   "codemirror_mode": {
    "name": "ipython",
    "version": 3
   },
   "file_extension": ".py",
   "mimetype": "text/x-python",
   "name": "python",
   "nbconvert_exporter": "python",
   "pygments_lexer": "ipython3",
   "version": "3.6.3"
  }
 },
 "nbformat": 4,
 "nbformat_minor": 2
}
