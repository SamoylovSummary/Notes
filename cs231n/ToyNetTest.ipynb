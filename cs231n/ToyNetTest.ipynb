{
 "cells": [
  {
   "cell_type": "code",
   "execution_count": 1,
   "metadata": {},
   "outputs": [
    {
     "name": "stdout",
     "output_type": "stream",
     "text": [
      "toy_net reload\n"
     ]
    }
   ],
   "source": [
    "import numpy as np\n",
    "\n",
    "# Магия, чтобы модуль experimental_net импортировался заново при изменениях в нём.\n",
    "%reload_ext autoreload\n",
    "%aimport toy_net\n",
    "%autoreload 1\n",
    "\n",
    "import toy_net as nn"
   ]
  },
  {
   "cell_type": "code",
   "execution_count": 2,
   "metadata": {},
   "outputs": [
    {
     "name": "stdout",
     "output_type": "stream",
     "text": [
      "  aaa\n",
      "  bbb\n",
      "  ccc\n"
     ]
    }
   ],
   "source": [
    "print(nn.indent('aaa\\nbbb\\nccc'))"
   ]
  },
  {
   "cell_type": "code",
   "execution_count": 7,
   "metadata": {},
   "outputs": [
    {
     "name": "stdout",
     "output_type": "stream",
     "text": [
      "toy_net reload\n",
      "data:\n",
      "  x:\n",
      "    None\n",
      "  y:\n",
      "    None\n",
      "  gx:\n",
      "    None\n",
      "  gy:\n",
      "    None\n",
      "  gw:\n",
      "    None\n",
      "func:\n",
      "  w:\n",
      "    [[ 0.61489477 -0.12183261  0.77344118]\n",
      "     [ 0.22233197 -0.05772909  0.11564112]\n",
      "     [ 1.00711943  0.11673037  0.53521483]\n",
      "     [-0.18734993 -0.28979582 -0.3005599 ]]\n",
      "  reg2:\n",
      "    None\n",
      "  reg2_constrain:\n",
      "    None\n",
      "  reg3:\n",
      "    None\n",
      "data:\n",
      "  x:\n",
      "    None\n",
      "  y:\n",
      "    None\n",
      "  gx:\n",
      "    None\n",
      "  gy:\n",
      "    None\n",
      "  gw:\n",
      "    None\n",
      "func:\n",
      "  w:\n",
      "    [[ 1  2  3]\n",
      "     [ 4  5  6]\n",
      "     [ 7  8  9]\n",
      "     [10 11 12]]\n",
      "  reg2:\n",
      "    None\n",
      "  reg2_constrain:\n",
      "    None\n",
      "  reg3:\n",
      "    None\n",
      "data:\n",
      "  x:\n",
      "    [[100 200 300 400]\n",
      "     [500 600 700 800]]\n",
      "  y:\n",
      "    [[ 7000  8000  9000]\n",
      "     [15800 18400 21000]]\n",
      "  gx:\n",
      "    [[-2 -2 -2 -2]\n",
      "     [14 32 50 68]]\n",
      "  gy:\n",
      "    [[ 1  0 -1]\n",
      "     [ 1  2  3]]\n",
      "  gw:\n",
      "    [[ 600 1000 1400]\n",
      "     [ 800 1200 1600]\n",
      "     [1000 1400 1800]\n",
      "     [1200 1600 2000]]\n",
      "func:\n",
      "  w:\n",
      "    [[  0.4   1.    1.6]\n",
      "     [  3.2   3.8   4.4]\n",
      "     [  6.    6.6   7.2]\n",
      "     [  8.8   9.4  10. ]]\n",
      "  reg2:\n",
      "    None\n",
      "  reg2_constrain:\n",
      "    None\n",
      "  reg3:\n",
      "    None\n",
      "data:\n",
      "  x:\n",
      "    None\n",
      "  y:\n",
      "    None\n",
      "  gx:\n",
      "    None\n",
      "  gy:\n",
      "    None\n",
      "  gw:\n",
      "    None\n",
      "func:\n",
      "  w:\n",
      "    [[  0.4   1.    1.6]\n",
      "     [  3.2   3.8   4.4]\n",
      "     [  6.    6.6   7.2]\n",
      "     [  8.8   9.4  10. ]]\n",
      "  reg2:\n",
      "    None\n",
      "  reg2_constrain:\n",
      "    None\n",
      "  reg3:\n",
      "    None\n"
     ]
    }
   ],
   "source": [
    "# Matrix\n",
    "\n",
    "test = nn.Layer(nn.Matrix(4, 3))\n",
    "print(test)\n",
    "test.func.w = np.array([\n",
    "    [1, 2, 3],\n",
    "    [4, 5, 6],\n",
    "    [7, 8, 9],\n",
    "    [10, 11, 12]\n",
    "])\n",
    "print(test)\n",
    "test.data.x = np.array([[100, 200, 300, 400], [500, 600, 700, 800]])\n",
    "test.forward()\n",
    "test.backward(np.array([[1, 0, -1], [1, 2, 3]]))\n",
    "test.update(0.001)\n",
    "print(test)\n",
    "test.reset_batch_data()\n",
    "print(test)"
   ]
  },
  {
   "cell_type": "code",
   "execution_count": 8,
   "metadata": {},
   "outputs": [
    {
     "name": "stdout",
     "output_type": "stream",
     "text": [
      "data:\n",
      "  x:\n",
      "    [[ -1   1   2   4]\n",
      "     [  3   4 -10   5]]\n",
      "  y:\n",
      "    [[-2.  -1.5  6.  -0.5]\n",
      "     [ 2.   1.5 -6.   0.5]]\n",
      "  gx:\n",
      "    [[ 10  10  10  10]\n",
      "     [100 100 100 100]]\n",
      "  gy:\n",
      "    [[ 10  10  10  10]\n",
      "     [100 100 100 100]]\n",
      "  gw:\n",
      "    None\n",
      "func:\n",
      "  <toy_net.MeanNorm object at 0x0000020896855630>\n"
     ]
    }
   ],
   "source": [
    "# NormalizeMean\n",
    "\n",
    "test = nn.Layer(nn.MeanNorm())\n",
    "test.data.x = np.array([[-1, 1, 2, 4], [3, 4, -10, 5]])\n",
    "test.forward()\n",
    "test.backward(np.array([[10, 10, 10, 10], [100, 100, 100, 100]]))\n",
    "print(test)"
   ]
  },
  {
   "cell_type": "code",
   "execution_count": 9,
   "metadata": {},
   "outputs": [
    {
     "name": "stdout",
     "output_type": "stream",
     "text": [
      "data:\n",
      "  x:\n",
      "    [[ 0  1  2  3  4  5]\n",
      "     [ 6  7  8  9 10 11]]\n",
      "  y:\n",
      "    [[[ 0  1  2]\n",
      "      [ 3  4  5]]\n",
      "    \n",
      "     [[ 6  7  8]\n",
      "      [ 9 10 11]]]\n",
      "  gx:\n",
      "    [[ 0  1  2  3  4  5]\n",
      "     [ 6  7  8  9 10 11]]\n",
      "  gy:\n",
      "    [[[ 0  1  2]\n",
      "      [ 3  4  5]]\n",
      "    \n",
      "     [[ 6  7  8]\n",
      "      [ 9 10 11]]]\n",
      "  gw:\n",
      "    None\n",
      "func:\n",
      "  <toy_net.Reshape object at 0x00000208967F8898>\n"
     ]
    }
   ],
   "source": [
    "# Reshape\n",
    "\n",
    "test = nn.Layer(nn.Reshape([2, 3]))\n",
    "test.data.x = np.arange(0, 12).reshape(2, 6)\n",
    "test.forward()\n",
    "test.backward(np.arange(0, 12).reshape(2, 2, 3))\n",
    "print(test)"
   ]
  },
  {
   "cell_type": "code",
   "execution_count": 10,
   "metadata": {},
   "outputs": [
    {
     "name": "stdout",
     "output_type": "stream",
     "text": [
      "data:\n",
      "  x:\n",
      "    [[ -1   1   2]\n",
      "     [  3   4 -10]]\n",
      "  y:\n",
      "    [[0 1 2]\n",
      "     [3 4 0]]\n",
      "  gx:\n",
      "    [[   0.   10.   10.]\n",
      "     [ 100.  100.    0.]]\n",
      "  gy:\n",
      "    [[ 10  10  10]\n",
      "     [100 100 100]]\n",
      "  gw:\n",
      "    None\n",
      "func:\n",
      "  <toy_net.Relu object at 0x00000208968559E8>\n"
     ]
    }
   ],
   "source": [
    "# Relu\n",
    "\n",
    "test = nn.Layer(nn.Relu())\n",
    "test.data.x = np.array([[-1, 1, 2], [3, 4, -10]])\n",
    "test.forward()\n",
    "test.backward(np.array([[10, 10, 10], [100, 100, 100]]))\n",
    "print(test)"
   ]
  },
  {
   "cell_type": "code",
   "execution_count": 11,
   "metadata": {},
   "outputs": [
    {
     "name": "stdout",
     "output_type": "stream",
     "text": [
      "data:\n",
      "  x:\n",
      "    [[ -1   1   2]\n",
      "     [  3   4 -10]]\n",
      "  y:\n",
      "    [[-0.  0.  2.]\n",
      "     [ 0.  4. -0.]]\n",
      "  gx:\n",
      "    [[   0.    0.   10.]\n",
      "     [   0.  100.    0.]]\n",
      "  gy:\n",
      "    [[ 10  10  10]\n",
      "     [100 100 100]]\n",
      "  gw:\n",
      "    None\n",
      "func:\n",
      "  <toy_net.MaxPool object at 0x00000208967F8400>\n"
     ]
    }
   ],
   "source": [
    "# MaxPool\n",
    "\n",
    "test = nn.Layer(nn.MaxPool())\n",
    "test.data.x = np.array([[-1, 1, 2], [3, 4, -10]])\n",
    "test.forward()\n",
    "test.backward(np.array([[10, 10, 10], [100, 100, 100]]))\n",
    "print(test)"
   ]
  },
  {
   "cell_type": "code",
   "execution_count": 12,
   "metadata": {},
   "outputs": [
    {
     "name": "stdout",
     "output_type": "stream",
     "text": [
      "data:\n",
      "  x:\n",
      "    [[ 0  1  2  3  4  5  6  7  8  9]\n",
      "     [10 11 12 13 14 15 16 17 18 19]]\n",
      "  y:\n",
      "    [[  0.     1.25   2.5    0.     5.     6.25   7.5    8.75  10.     0.  ]\n",
      "     [ 12.5   13.75  15.     0.    17.5   18.75  20.    21.25  22.5    0.  ]]\n",
      "  gx:\n",
      "    [[ 1.25  1.25  1.25  0.    1.25  1.25  1.25  1.25  1.25  0.  ]\n",
      "     [ 1.25  1.25  1.25  0.    1.25  1.25  1.25  1.25  1.25  0.  ]]\n",
      "  gy:\n",
      "    [[1 1 1 1 1 1 1 1 1 1]\n",
      "     [1 1 1 1 1 1 1 1 1 1]]\n",
      "  gw:\n",
      "    None\n",
      "func:\n",
      "  <toy_net.Dropout object at 0x00000208967F8828>\n"
     ]
    }
   ],
   "source": [
    "test = nn.Layer(nn.Dropout(0.2))\n",
    "test.data.x = np.array([np.arange(10), np.arange(10, 20)])\n",
    "test.forward()\n",
    "test.backward(np.full((2, 10), 1))\n",
    "print(test)"
   ]
  },
  {
   "cell_type": "code",
   "execution_count": 13,
   "metadata": {},
   "outputs": [
    {
     "name": "stdout",
     "output_type": "stream",
     "text": [
      "data:\n",
      "  x:\n",
      "    [[ 0  1  2  3  4  5  6  7  8  9]\n",
      "     [10 11 12 13 14 15 16 17 18 19]]\n",
      "  y:\n",
      "    [[ 0  1  2  3  4  5  6  7  8  9]\n",
      "     [10 11 12 13 14 15 16 17 18 19]]\n",
      "  gx:\n",
      "    [[ 0.00999001  0.00999001  0.00999001  0.00999001  0.00999001  0.00999001\n",
      "       0.00999001  0.00999001  0.00999001  0.00999001]\n",
      "     [ 0.00999001  0.00999001  0.00999001  0.00999001  0.00999001  0.00999001\n",
      "       0.00999001  0.00999001  0.00999001  0.00999001]]\n",
      "  gy:\n",
      "    [[1 1 1 1 1 1 1 1 1 1]\n",
      "     [1 1 1 1 1 1 1 1 1 1]]\n",
      "  gw:\n",
      "    None\n",
      "func:\n",
      "  <toy_net.GradNorm object at 0x00000208967F8CF8>\n"
     ]
    }
   ],
   "source": [
    "test = nn.Layer(nn.GradNorm(0.1))\n",
    "test.data.x = np.array([np.arange(10), np.arange(10, 20)])\n",
    "test.forward()\n",
    "test.backward(np.full((2, 10), 1))\n",
    "print(test)\n"
   ]
  },
  {
   "cell_type": "code",
   "execution_count": 14,
   "metadata": {},
   "outputs": [
    {
     "name": "stdout",
     "output_type": "stream",
     "text": [
      "data:\n",
      "  x:\n",
      "    [[-1  1  2]\n",
      "     [ 3  4  2]]\n",
      "  y:\n",
      "    [[ 0.03511903  0.25949646  0.70538451]\n",
      "     [ 0.24472847  0.66524096  0.09003057]]\n",
      "  gx:\n",
      "    [[-0.00247724 -0.01830448  0.02078172]\n",
      "     [-0.01934085  0.0804743  -0.06113345]]\n",
      "  gy:\n",
      "    [[ 0.   0.   0.1]\n",
      "     [ 0.1  0.3 -0.5]]\n",
      "  gw:\n",
      "    None\n",
      "func:\n",
      "  <toy_net.SoftMax object at 0x00000208967F8828>\n"
     ]
    }
   ],
   "source": [
    "test = nn.Layer(nn.SoftMax())\n",
    "test.data.x = np.array([[-1, 1, 2], [3, 4, 2]])\n",
    "test.forward()\n",
    "test.backward(np.array([[0, 0, 0.1], [0.1, 0.3, -0.5]]))\n",
    "print(test)\n"
   ]
  },
  {
   "cell_type": "code",
   "execution_count": 16,
   "metadata": {},
   "outputs": [
    {
     "name": "stdout",
     "output_type": "stream",
     "text": [
      "data:\n",
      "  x:\n",
      "    [[ 2.   3.   4. ]\n",
      "     [ 0.5  1.  -2. ]]\n",
      "  y:\n",
      "    [ 2.5   0.25]\n",
      "  gx:\n",
      "    [[-1.   0.5  0.5]\n",
      "     [ 0.5 -0.5  0. ]]\n",
      "  gy:\n",
      "    None\n",
      "  gw:\n",
      "    None\n",
      "func:\n",
      "  <toy_net.SvmLoss object at 0x000002089686B4A8>\n"
     ]
    }
   ],
   "source": [
    "test = nn.Layer(nn.SvmLoss())\n",
    "test.func.set_ground(np.array([[1, 0, 0], [0, 1, 0]]))\n",
    "test.data.x = np.array([[2, 3, 4], [0.5, 1, -2]])\n",
    "test.forward()\n",
    "test.backward(None)\n",
    "print(test)\n"
   ]
  },
  {
   "cell_type": "code",
   "execution_count": 17,
   "metadata": {},
   "outputs": [
    {
     "name": "stdout",
     "output_type": "stream",
     "text": [
      "data:\n",
      "  x:\n",
      "    [[ 2.   3.   4. ]\n",
      "     [ 0.5  1.  -2. ]]\n",
      "  y:\n",
      "    [-0.34657359 -0.        ]\n",
      "  gx:\n",
      "    [[-0.25  0.    0.  ]\n",
      "     [ 0.   -0.5   0.  ]]\n",
      "  gy:\n",
      "    None\n",
      "  gw:\n",
      "    None\n",
      "func:\n",
      "  <toy_net.EntropyLoss object at 0x000002089686B3C8>\n"
     ]
    }
   ],
   "source": [
    "test = nn.Layer(nn.EntropyLoss())\n",
    "test.func.set_ground(np.array([[1, 0, 0], [0, 1, 0]]))\n",
    "test.data.x = np.array([[2, 3, 4], [0.5, 1, -2]])\n",
    "test.forward()\n",
    "test.backward(None)\n",
    "print(test)\n"
   ]
  },
  {
   "cell_type": "code",
   "execution_count": 18,
   "metadata": {},
   "outputs": [
    {
     "name": "stdout",
     "output_type": "stream",
     "text": [
      "data:\n",
      "  x:\n",
      "    [[ 1.   2.   3. ]\n",
      "     [ 0.5  1.  -2. ]]\n",
      "  y:\n",
      "    [[ 100.1   100.2   100.3 ]\n",
      "     [ 100.05  100.1    99.8 ]]\n",
      "  gx:\n",
      "    [[ 10.   0.   0.]\n",
      "     [  0.  10.   0.]]\n",
      "  gy:\n",
      "    [[1 0 0]\n",
      "     [0 1 0]]\n",
      "  gw:\n",
      "    None\n",
      "func:\n",
      "  a:\n",
      "    0.1\n",
      "  b:\n",
      "    100\n"
     ]
    }
   ],
   "source": [
    "test = nn.Layer(nn.FixedLinear(0.1, 100))\n",
    "test.data.x = np.array([[1, 2, 3], [0.5, 1, -2]])\n",
    "test.forward()\n",
    "test.backward(np.array([[1, 0, 0], [0, 1, 0]]))\n",
    "print(test)"
   ]
  },
  {
   "cell_type": "code",
   "execution_count": 19,
   "metadata": {},
   "outputs": [
    {
     "name": "stdout",
     "output_type": "stream",
     "text": [
      "data:\n",
      "  x:\n",
      "    [[1 2 3]\n",
      "     [7 6 5]]\n",
      "  y:\n",
      "    [[-1. -1. -1.]\n",
      "     [ 1.  1.  1.]]\n",
      "  gx:\n",
      "    None\n",
      "  gy:\n",
      "    None\n",
      "  gw:\n",
      "    None\n",
      "func:\n",
      "  sigma:\n",
      "    [[ 3.  2.  1.]]\n"
     ]
    }
   ],
   "source": [
    "test = nn.Layer(nn.BatchNorm())\n",
    "test.data.x = np.array([[1, 2, 3], [7, 6, 5]])\n",
    "test.forward()\n",
    "print(test)"
   ]
  },
  {
   "cell_type": "code",
   "execution_count": null,
   "metadata": {
    "collapsed": true
   },
   "outputs": [],
   "source": []
  },
  {
   "cell_type": "code",
   "execution_count": null,
   "metadata": {
    "collapsed": true
   },
   "outputs": [],
   "source": []
  }
 ],
 "metadata": {
  "kernelspec": {
   "display_name": "Python 3",
   "language": "python",
   "name": "python3"
  },
  "language_info": {
   "codemirror_mode": {
    "name": "ipython",
    "version": 3
   },
   "file_extension": ".py",
   "mimetype": "text/x-python",
   "name": "python",
   "nbconvert_exporter": "python",
   "pygments_lexer": "ipython3",
   "version": "3.6.3"
  }
 },
 "nbformat": 4,
 "nbformat_minor": 2
}
