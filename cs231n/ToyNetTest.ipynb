{
 "cells": [
  {
   "cell_type": "code",
   "execution_count": 3,
   "metadata": {},
   "outputs": [],
   "source": [
    "import numpy as np\n",
    "\n",
    "# Магия, чтобы модуль experimental_net импортировался заново при изменениях в нём.\n",
    "%reload_ext autoreload\n",
    "%aimport toy_net\n",
    "%autoreload 1\n",
    "\n",
    "import toy_net as nn"
   ]
  },
  {
   "cell_type": "code",
   "execution_count": 4,
   "metadata": {},
   "outputs": [
    {
     "name": "stdout",
     "output_type": "stream",
     "text": [
      "  aaa\n",
      "  bbb\n",
      "  ccc\n"
     ]
    }
   ],
   "source": [
    "print(nn.indent('aaa\\nbbb\\nccc'))"
   ]
  },
  {
   "cell_type": "code",
   "execution_count": 5,
   "metadata": {},
   "outputs": [
    {
     "name": "stdout",
     "output_type": "stream",
     "text": [
      "data:\n",
      "  x:\n",
      "    None\n",
      "  y:\n",
      "    None\n",
      "  gx:\n",
      "    None\n",
      "  gy:\n",
      "    None\n",
      "  gw:\n",
      "    None\n",
      "function:\n",
      "  w:\n",
      "    [[-0.0394095  -0.04893701  0.04407115]\n",
      "     [ 0.01965815  0.03681278  0.00319557]\n",
      "     [-0.00348669  0.06385567 -0.043835  ]\n",
      "     [-0.05701279  0.01589741 -0.05102022]]\n",
      "data:\n",
      "  x:\n",
      "    None\n",
      "  y:\n",
      "    None\n",
      "  gx:\n",
      "    None\n",
      "  gy:\n",
      "    None\n",
      "  gw:\n",
      "    None\n",
      "function:\n",
      "  w:\n",
      "    [[ 1  2  3]\n",
      "     [ 4  5  6]\n",
      "     [ 7  8  9]\n",
      "     [10 11 12]]\n"
     ]
    },
    {
     "ename": "AttributeError",
     "evalue": "'Layer' object has no attribute 'update'",
     "output_type": "error",
     "traceback": [
      "\u001b[1;31m---------------------------------------------------------------------------\u001b[0m",
      "\u001b[1;31mAttributeError\u001b[0m                            Traceback (most recent call last)",
      "\u001b[1;32m<ipython-input-5-d68500deb645>\u001b[0m in \u001b[0;36m<module>\u001b[1;34m()\u001b[0m\n\u001b[0;32m     13\u001b[0m \u001b[0mtest\u001b[0m\u001b[1;33m.\u001b[0m\u001b[0mforward\u001b[0m\u001b[1;33m(\u001b[0m\u001b[1;33m)\u001b[0m\u001b[1;33m\u001b[0m\u001b[0m\n\u001b[0;32m     14\u001b[0m \u001b[0mtest\u001b[0m\u001b[1;33m.\u001b[0m\u001b[0mbackward\u001b[0m\u001b[1;33m(\u001b[0m\u001b[0mnp\u001b[0m\u001b[1;33m.\u001b[0m\u001b[0marray\u001b[0m\u001b[1;33m(\u001b[0m\u001b[1;33m[\u001b[0m\u001b[1;33m[\u001b[0m\u001b[1;36m1\u001b[0m\u001b[1;33m,\u001b[0m \u001b[1;36m0\u001b[0m\u001b[1;33m,\u001b[0m \u001b[1;33m-\u001b[0m\u001b[1;36m1\u001b[0m\u001b[1;33m]\u001b[0m\u001b[1;33m,\u001b[0m \u001b[1;33m[\u001b[0m\u001b[1;36m1\u001b[0m\u001b[1;33m,\u001b[0m \u001b[1;36m2\u001b[0m\u001b[1;33m,\u001b[0m \u001b[1;36m3\u001b[0m\u001b[1;33m]\u001b[0m\u001b[1;33m]\u001b[0m\u001b[1;33m)\u001b[0m\u001b[1;33m)\u001b[0m\u001b[1;33m\u001b[0m\u001b[0m\n\u001b[1;32m---> 15\u001b[1;33m \u001b[0mtest\u001b[0m\u001b[1;33m.\u001b[0m\u001b[0mupdate\u001b[0m\u001b[1;33m(\u001b[0m\u001b[1;36m0.001\u001b[0m\u001b[1;33m)\u001b[0m\u001b[1;33m\u001b[0m\u001b[0m\n\u001b[0m\u001b[0;32m     16\u001b[0m \u001b[0mprint\u001b[0m\u001b[1;33m(\u001b[0m\u001b[0mtest\u001b[0m\u001b[1;33m)\u001b[0m\u001b[1;33m\u001b[0m\u001b[0m\n\u001b[0;32m     17\u001b[0m \u001b[0mtest\u001b[0m\u001b[1;33m.\u001b[0m\u001b[0mreset_batch_data\u001b[0m\u001b[1;33m(\u001b[0m\u001b[1;33m)\u001b[0m\u001b[1;33m\u001b[0m\u001b[0m\n",
      "\u001b[1;31mAttributeError\u001b[0m: 'Layer' object has no attribute 'update'"
     ]
    }
   ],
   "source": [
    "# Matrix\n",
    "\n",
    "test = nn.Layer(nn.Matrix(4, 3))\n",
    "print(test)\n",
    "test.function.w = np.array([\n",
    "    [1, 2, 3],\n",
    "    [4, 5, 6],\n",
    "    [7, 8, 9],\n",
    "    [10, 11, 12]\n",
    "])\n",
    "print(test)\n",
    "test.data.x = np.array([[100, 200, 300, 400], [500, 600, 700, 800]])\n",
    "test.forward()\n",
    "test.backward(np.array([[1, 0, -1], [1, 2, 3]]))\n",
    "test.update(0.001)\n",
    "print(test)\n",
    "test.reset_batch_data()\n",
    "print(test)"
   ]
  },
  {
   "cell_type": "code",
   "execution_count": 8,
   "metadata": {},
   "outputs": [
    {
     "name": "stdout",
     "output_type": "stream",
     "text": [
      "toy_net reload\n",
      "toy_net reload\n",
      "data:\n",
      "  x:\n",
      "    [[ -1   1   2   4]\n",
      "     [  3   4 -10   5]]\n",
      "  y:\n",
      "    [[-2.  -1.5  6.  -0.5]\n",
      "     [ 2.   1.5 -6.   0.5]]\n",
      "  gx:\n",
      "    [[ 10  10  10  10]\n",
      "     [100 100 100 100]]\n",
      "  gy:\n",
      "    [[ 10  10  10  10]\n",
      "     [100 100 100 100]]\n",
      "  gw:\n",
      "    None\n",
      "function:\n",
      "  <toy_net.MeanNorm object at 0x00000000070FE550>\n"
     ]
    }
   ],
   "source": [
    "# NormalizeMean\n",
    "\n",
    "test = nn.Layer(nn.MeanNorm())\n",
    "test.data.x = np.array([[-1, 1, 2, 4], [3, 4, -10, 5]])\n",
    "test.forward()\n",
    "test.backward(np.array([[10, 10, 10, 10], [100, 100, 100, 100]]))\n",
    "print(test)"
   ]
  },
  {
   "cell_type": "code",
   "execution_count": 9,
   "metadata": {},
   "outputs": [
    {
     "name": "stdout",
     "output_type": "stream",
     "text": [
      "data:\n",
      "  x:\n",
      "    [[ 0  1  2  3  4  5]\n",
      "     [ 6  7  8  9 10 11]]\n",
      "  y:\n",
      "    [[[ 0  1  2]\n",
      "      [ 3  4  5]]\n",
      "    \n",
      "     [[ 6  7  8]\n",
      "      [ 9 10 11]]]\n",
      "  gx:\n",
      "    [[ 0  1  2  3  4  5]\n",
      "     [ 6  7  8  9 10 11]]\n",
      "  gy:\n",
      "    [[[ 0  1  2]\n",
      "      [ 3  4  5]]\n",
      "    \n",
      "     [[ 6  7  8]\n",
      "      [ 9 10 11]]]\n",
      "  gw:\n",
      "    None\n",
      "function:\n",
      "  <toy_net.Reshape object at 0x00000000070F7438>\n"
     ]
    }
   ],
   "source": [
    "# Reshape\n",
    "\n",
    "test = nn.Layer(nn.Reshape([2, 3]))\n",
    "test.data.x = np.arange(0, 12).reshape(2, 6)\n",
    "test.forward()\n",
    "test.backward(np.arange(0, 12).reshape(2, 2, 3))\n",
    "print(test)"
   ]
  },
  {
   "cell_type": "code",
   "execution_count": 10,
   "metadata": {},
   "outputs": [
    {
     "name": "stdout",
     "output_type": "stream",
     "text": [
      "data:\n",
      "  x:\n",
      "    [[ -1   1   2]\n",
      "     [  3   4 -10]]\n",
      "  y:\n",
      "    [[0 1 2]\n",
      "     [3 4 0]]\n",
      "  gx:\n",
      "    [[   0.   10.   10.]\n",
      "     [ 100.  100.    0.]]\n",
      "  gy:\n",
      "    [[ 10  10  10]\n",
      "     [100 100 100]]\n",
      "  gw:\n",
      "    None\n",
      "function:\n",
      "  <toy_net.Relu object at 0x00000000070FE630>\n"
     ]
    }
   ],
   "source": [
    "# Relu\n",
    "\n",
    "test = nn.Layer(nn.Relu())\n",
    "test.data.x = np.array([[-1, 1, 2], [3, 4, -10]])\n",
    "test.forward()\n",
    "test.backward(np.array([[10, 10, 10], [100, 100, 100]]))\n",
    "print(test)"
   ]
  },
  {
   "cell_type": "code",
   "execution_count": 11,
   "metadata": {},
   "outputs": [
    {
     "name": "stdout",
     "output_type": "stream",
     "text": [
      "data:\n",
      "  x:\n",
      "    [[ -1   1   2]\n",
      "     [  3   4 -10]]\n",
      "  y:\n",
      "    [[-0.  0.  2.]\n",
      "     [ 0.  4. -0.]]\n",
      "  gx:\n",
      "    [[   0.    0.   10.]\n",
      "     [   0.  100.    0.]]\n",
      "  gy:\n",
      "    [[ 10  10  10]\n",
      "     [100 100 100]]\n",
      "  gw:\n",
      "    None\n",
      "function:\n",
      "  <toy_net.MaxPool object at 0x00000000070FE978>\n"
     ]
    }
   ],
   "source": [
    "# MaxPool\n",
    "\n",
    "test = nn.Layer(nn.MaxPool())\n",
    "test.data.x = np.array([[-1, 1, 2], [3, 4, -10]])\n",
    "test.forward()\n",
    "test.backward(np.array([[10, 10, 10], [100, 100, 100]]))\n",
    "print(test)"
   ]
  },
  {
   "cell_type": "code",
   "execution_count": 12,
   "metadata": {},
   "outputs": [
    {
     "name": "stdout",
     "output_type": "stream",
     "text": [
      "data:\n",
      "  x:\n",
      "    [[ 0  1  2  3  4  5  6  7  8  9]\n",
      "     [10 11 12 13 14 15 16 17 18 19]]\n",
      "  y:\n",
      "    [[  0.   1.   0.   3.   4.   5.   6.   7.   8.   0.]\n",
      "     [ 10.   0.   0.  13.  14.  15.  16.  17.   0.  19.]]\n",
      "  gx:\n",
      "    [[ 1.  1.  0.  1.  1.  1.  1.  1.  1.  0.]\n",
      "     [ 1.  0.  0.  1.  1.  1.  1.  1.  0.  1.]]\n",
      "  gy:\n",
      "    [[1 1 1 1 1 1 1 1 1 1]\n",
      "     [1 1 1 1 1 1 1 1 1 1]]\n",
      "  gw:\n",
      "    None\n",
      "function:\n",
      "  <toy_net.Dropout object at 0x00000000070D0630>\n"
     ]
    }
   ],
   "source": [
    "test = nn.Layer(nn.Dropout(0.2))\n",
    "test.data.x = np.array([np.arange(10), np.arange(10, 20)])\n",
    "test.forward()\n",
    "test.backward(np.full((2, 10), 1))\n",
    "print(test)"
   ]
  },
  {
   "cell_type": "code",
   "execution_count": 13,
   "metadata": {},
   "outputs": [
    {
     "name": "stdout",
     "output_type": "stream",
     "text": [
      "data:\n",
      "  x:\n",
      "    [[ 0  1  2  3  4  5  6  7  8  9]\n",
      "     [10 11 12 13 14 15 16 17 18 19]]\n",
      "  y:\n",
      "    [[ 0  1  2  3  4  5  6  7  8  9]\n",
      "     [10 11 12 13 14 15 16 17 18 19]]\n",
      "  gx:\n",
      "    [[ 0.00999001  0.00999001  0.00999001  0.00999001  0.00999001  0.00999001\n",
      "       0.00999001  0.00999001  0.00999001  0.00999001]\n",
      "     [ 0.00999001  0.00999001  0.00999001  0.00999001  0.00999001  0.00999001\n",
      "       0.00999001  0.00999001  0.00999001  0.00999001]]\n",
      "  gy:\n",
      "    [[1 1 1 1 1 1 1 1 1 1]\n",
      "     [1 1 1 1 1 1 1 1 1 1]]\n",
      "  gw:\n",
      "    None\n",
      "function:\n",
      "  <toy_net.GradNorm object at 0x00000000070FE5C0>\n"
     ]
    }
   ],
   "source": [
    "test = nn.Layer(nn.GradNorm(0.1))\n",
    "test.data.x = np.array([np.arange(10), np.arange(10, 20)])\n",
    "test.forward()\n",
    "test.backward(np.full((2, 10), 1))\n",
    "print(test)\n"
   ]
  },
  {
   "cell_type": "code",
   "execution_count": 14,
   "metadata": {},
   "outputs": [
    {
     "name": "stdout",
     "output_type": "stream",
     "text": [
      "data:\n",
      "  x:\n",
      "    [[-1  1  2]\n",
      "     [ 3  4  2]]\n",
      "  y:\n",
      "    [[ 0.03511903  0.25949646  0.70538451]\n",
      "     [ 0.24472847  0.66524096  0.09003057]]\n",
      "  gx:\n",
      "    [[-0.00247724 -0.01830448  0.02078172]\n",
      "     [-0.01934085  0.0804743  -0.06113345]]\n",
      "  gy:\n",
      "    [[ 0.   0.   0.1]\n",
      "     [ 0.1  0.3 -0.5]]\n",
      "  gw:\n",
      "    None\n",
      "function:\n",
      "  <toy_net.SoftMax object at 0x00000000070FE7F0>\n"
     ]
    }
   ],
   "source": [
    "test = nn.Layer(nn.SoftMax())\n",
    "test.data.x = np.array([[-1, 1, 2], [3, 4, 2]])\n",
    "test.forward()\n",
    "test.backward(np.array([[0, 0, 0.1], [0.1, 0.3, -0.5]]))\n",
    "print(test)\n"
   ]
  },
  {
   "cell_type": "code",
   "execution_count": 15,
   "metadata": {},
   "outputs": [
    {
     "name": "stdout",
     "output_type": "stream",
     "text": [
      "data:\n",
      "  x:\n",
      "    [[ 2.   3.   4. ]\n",
      "     [ 0.5  1.  -2. ]]\n",
      "  y:\n",
      "    [ 2.5   0.25]\n",
      "  gx:\n",
      "    [[-1.   0.5  0.5]\n",
      "     [ 0.5 -0.5  0. ]]\n",
      "  gy:\n",
      "    None\n",
      "  gw:\n",
      "    None\n",
      "function:\n",
      "  <toy_net.SvmLoss object at 0x00000000070FE9B0>\n"
     ]
    }
   ],
   "source": [
    "test = nn.Layer(nn.SvmLoss())\n",
    "test.function.set_ground(np.array([[1, 0, 0], [0, 1, 0]]))\n",
    "test.data.x = np.array([[2, 3, 4], [0.5, 1, -2]])\n",
    "test.forward()\n",
    "test.backward(None)\n",
    "print(test)\n"
   ]
  },
  {
   "cell_type": "code",
   "execution_count": 16,
   "metadata": {},
   "outputs": [
    {
     "name": "stdout",
     "output_type": "stream",
     "text": [
      "data:\n",
      "  x:\n",
      "    [[ 2.   3.   4. ]\n",
      "     [ 0.5  1.  -2. ]]\n",
      "  y:\n",
      "    [-0.34657359 -0.        ]\n",
      "  gx:\n",
      "    [[-0.25  0.    0.  ]\n",
      "     [ 0.   -0.5   0.  ]]\n",
      "  gy:\n",
      "    None\n",
      "  gw:\n",
      "    None\n",
      "function:\n",
      "  <toy_net.EntropyLoss object at 0x00000000070FEAC8>\n"
     ]
    }
   ],
   "source": [
    "test = nn.Layer(nn.EntropyLoss())\n",
    "test.function.set_ground(np.array([[1, 0, 0], [0, 1, 0]]))\n",
    "test.data.x = np.array([[2, 3, 4], [0.5, 1, -2]])\n",
    "test.forward()\n",
    "test.backward(None)\n",
    "print(test)\n"
   ]
  },
  {
   "cell_type": "code",
   "execution_count": 17,
   "metadata": {},
   "outputs": [
    {
     "name": "stdout",
     "output_type": "stream",
     "text": [
      "data:\n",
      "  x:\n",
      "    [[ 1.   2.   3. ]\n",
      "     [ 0.5  1.  -2. ]]\n",
      "  y:\n",
      "    [[ 100.1   100.2   100.3 ]\n",
      "     [ 100.05  100.1    99.8 ]]\n",
      "  gx:\n",
      "    [[ 10.   0.   0.]\n",
      "     [  0.  10.   0.]]\n",
      "  gy:\n",
      "    [[1 0 0]\n",
      "     [0 1 0]]\n",
      "  gw:\n",
      "    None\n",
      "function:\n",
      "  a:\n",
      "    0.1\n",
      "  b:\n",
      "    100\n"
     ]
    }
   ],
   "source": [
    "test = nn.Layer(nn.FixedLinear(0.1, 100))\n",
    "test.data.x = np.array([[1, 2, 3], [0.5, 1, -2]])\n",
    "test.forward()\n",
    "test.backward(np.array([[1, 0, 0], [0, 1, 0]]))\n",
    "print(test)"
   ]
  },
  {
   "cell_type": "code",
   "execution_count": 18,
   "metadata": {},
   "outputs": [
    {
     "name": "stdout",
     "output_type": "stream",
     "text": [
      "toy_net reload\n",
      "toy_net reload\n",
      "data:\n",
      "  x:\n",
      "    [[1 2 3]\n",
      "     [7 6 5]]\n",
      "  y:\n",
      "    [[-1. -1. -1.]\n",
      "     [ 1.  1.  1.]]\n",
      "  gx:\n",
      "    None\n",
      "  gy:\n",
      "    None\n",
      "  gw:\n",
      "    None\n",
      "function:\n",
      "  sigma:\n",
      "    [[ 3.  2.  1.]]\n"
     ]
    }
   ],
   "source": [
    "test = nn.Layer(nn.BatchNorm())\n",
    "test.data.x = np.array([[1, 2, 3], [7, 6, 5]])\n",
    "test.forward()\n",
    "print(test)"
   ]
  }
 ],
 "metadata": {
  "kernelspec": {
   "display_name": "Python [default]",
   "language": "python",
   "name": "python3"
  },
  "language_info": {
   "codemirror_mode": {
    "name": "ipython",
    "version": 3
   },
   "file_extension": ".py",
   "mimetype": "text/x-python",
   "name": "python",
   "nbconvert_exporter": "python",
   "pygments_lexer": "ipython3",
   "version": "3.5.3"
  }
 },
 "nbformat": 4,
 "nbformat_minor": 2
}
