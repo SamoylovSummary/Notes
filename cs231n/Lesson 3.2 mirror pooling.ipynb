{
 "cells": [
  {
   "cell_type": "code",
   "execution_count": 1,
   "metadata": {
    "collapsed": true
   },
   "outputs": [],
   "source": [
    "import pickle\n",
    "import os\n",
    "import numpy as np\n",
    "from sklearn.preprocessing import OneHotEncoder\n",
    "\n",
    "%matplotlib inline\n",
    "import matplotlib.pyplot as plt\n",
    "from ipywidgets import *\n",
    "from IPython.display import display\n",
    "\n",
    "plt.rcParams[\"figure.figsize\"] = (10, 6)"
   ]
  },
  {
   "cell_type": "code",
   "execution_count": 2,
   "metadata": {},
   "outputs": [
    {
     "name": "stdout",
     "output_type": "stream",
     "text": [
      "['plane', 'car', 'bird', 'cat', 'deer', 'dog', 'frog', 'horse', 'ship', 'truck']\n",
      "b'training batch 1 of 5'\n",
      "b'training batch 2 of 5'\n",
      "b'training batch 3 of 5'\n",
      "b'training batch 4 of 5'\n",
      "b'training batch 5 of 5'\n",
      "b'testing batch 1 of 1'\n",
      "(50000, 3072) (50000,) (10000, 3072) (10000,)\n"
     ]
    }
   ],
   "source": [
    "cifar_folder = 'cifar-10-batches-py'\n",
    "\n",
    "labels_names = ['plane', 'car', 'bird', 'cat', 'deer', 'dog', \n",
    "    'frog', 'horse', 'ship', 'truck']\n",
    "label_count = len(labels_names)\n",
    "print(labels_names)\n",
    "\n",
    "def load_cifar_batch(folder, file):\n",
    "    with open(os.path.join(folder, file), 'rb') as f:\n",
    "        dict = pickle.load(f, encoding='bytes')\n",
    "    print(dict[b'batch_label'])\n",
    "    return dict[b'data'], np.array(dict[b'labels'])\n",
    "\n",
    "def load_cifar(folder):\n",
    "    x_tr = list()\n",
    "    y_tr = list()\n",
    "    for i in range(1, 6):\n",
    "        x, y = load_cifar_batch(folder, 'data_batch_' + str(i))\n",
    "        x_tr.append(x)\n",
    "        y_tr.append(y)\n",
    "    x_tr = np.concatenate(x_tr)\n",
    "    y_tr = np.concatenate(y_tr)\n",
    "    x_te, y_te = load_cifar_batch(folder, 'test_batch')\n",
    "    return x_tr, y_tr, x_te, y_te\n",
    "\n",
    "x_tr, y_tr, x_te, y_te = load_cifar(cifar_folder)\n",
    "print(x_tr.shape, y_tr.shape, x_te.shape, y_te.shape)"
   ]
  },
  {
   "cell_type": "code",
   "execution_count": 3,
   "metadata": {},
   "outputs": [
    {
     "data": {
      "application/vnd.jupyter.widget-view+json": {
       "model_id": "ae7ac7463ddc459aa009ff27d4276ad7",
       "version_major": 2,
       "version_minor": 0
      },
      "text/plain": [
       "A Jupyter Widget"
      ]
     },
     "metadata": {},
     "output_type": "display_data"
    }
   ],
   "source": [
    "def plot_image(x, y):\n",
    "    plt.imshow(x.reshape(3, 32, 32).transpose(1, 2, 0) / 256)\n",
    "    plt.title(labels_names[y])\n",
    "    plt.axis('off')\n",
    "\n",
    "def show_image(x, y):\n",
    "    plot_image(x, y)\n",
    "    plt.show()\n",
    "\n",
    "def show_images(xs, ys):\n",
    "    n = len(xs)\n",
    "    for i in range(n):\n",
    "        plt.subplot(1, n, i + 1)\n",
    "        plot_image(xs[i], ys[i])\n",
    "    plt.show()\n",
    "\n",
    "def show_train_images(pos):\n",
    "    show_images(x_tr[pos:pos+5], y_tr[pos:pos+5])\n",
    "\n",
    "silence = interact(show_train_images, \n",
    "        pos=widgets.BoundedIntText(min=0, max=49999, step=5, value=0, description='Range start:'))"
   ]
  },
  {
   "cell_type": "code",
   "execution_count": 4,
   "metadata": {},
   "outputs": [
    {
     "data": {
      "image/png": "[encoded data removed]",
      "text/plain": [
       "<matplotlib.figure.Figure at 0x21f7ddd9668>"
      ]
     },
     "metadata": {},
     "output_type": "display_data"
    }
   ],
   "source": [
    "y_mean = range(10)\n",
    "x_mean = [x_tr[y_tr == y].mean(axis=0) for y in y_mean]\n",
    "show_images(x_mean, y_mean)"
   ]
  },
  {
   "cell_type": "code",
   "execution_count": 5,
   "metadata": {},
   "outputs": [
    {
     "name": "stdout",
     "output_type": "stream",
     "text": [
      "(50000, 10)\n",
      "(10000, 10)\n"
     ]
    }
   ],
   "source": [
    "# Perform one hot encoding\n",
    "y_tr_n = np.eye(label_count)[y_tr]\n",
    "y_te_n = np.eye(label_count)[y_te]\n",
    "\n",
    "print(y_tr_n.shape)\n",
    "print(y_te_n.shape)\n",
    "\n",
    "x_tr_n = x_tr / 1.0\n",
    "x_te_n = x_te / 1.0"
   ]
  },
  {
   "cell_type": "code",
   "execution_count": 6,
   "metadata": {},
   "outputs": [
    {
     "name": "stdout",
     "output_type": "stream",
     "text": [
      "(50000, 32, 32, 3)\n",
      "(10000, 32, 32, 3)\n"
     ]
    },
    {
     "data": {
      "image/png": "[encoded data removed]",
      "text/plain": [
       "<matplotlib.figure.Figure at 0x21f7c2bc908>"
      ]
     },
     "metadata": {},
     "output_type": "display_data"
    }
   ],
   "source": [
    "def flip_images(x):\n",
    "    result = x.reshape(-1, 3, 32, 32)\n",
    "    result = result.transpose(0, 2, 3, 1)\n",
    "    print(result.shape)\n",
    "    result = np.flip(result, axis=2)\n",
    "    result = result.transpose(0, 3, 1, 2)\n",
    "    result = result.reshape(-1, 3 * 32 * 32)\n",
    "    return result\n",
    "\n",
    "x_tr_m = flip_images(x_tr)\n",
    "x_te_m = flip_images(x_te)\n",
    "show_images([x_tr[2], x_tr_m[2]], [y_tr[2], y_tr[2]])"
   ]
  },
  {
   "cell_type": "code",
   "execution_count": 75,
   "metadata": {},
   "outputs": [
    {
     "name": "stdout",
     "output_type": "stream",
     "text": [
      "(3072, 10)\n",
      "(10,)\n"
     ]
    }
   ],
   "source": [
    "np.random.seed(5)\n",
    "W = np.random.rand(x_tr_n.shape[1], label_count) * 0.001\n",
    "B = np.random.rand(label_count) * 0.001\n",
    "\n",
    "print(W.shape)\n",
    "print(B.shape)"
   ]
  },
  {
   "cell_type": "code",
   "execution_count": 84,
   "metadata": {},
   "outputs": [
    {
     "data": {
      "application/vnd.jupyter.widget-view+json": {
       "model_id": "2a35f02f8bc540beb1d4436e09f55cfe",
       "version_major": 2,
       "version_minor": 0
      },
      "text/plain": [
       "A Jupyter Widget"
      ]
     },
     "metadata": {},
     "output_type": "display_data"
    },
    {
     "name": "stdout",
     "output_type": "stream",
     "text": [
      "Loss before: 3407.26875251\n",
      "  current loss: 3407.26875251\n",
      "  current loss: 2789.01820022\n",
      "  current loss: 2273.84963672\n",
      "  current loss: 1864.57585173\n",
      "  current loss: 1564.22233399\n",
      "  current loss: 1369.51167087\n",
      "  current loss: 1265.63952387\n",
      "  current loss: 1220.56069802\n",
      "  current loss: 1202.7575902\n",
      "  current loss: 1195.09367613\n",
      "Loss after: 1190.57688155\n",
      "Loss change: -2216.69187097\n",
      "Accuracy tr: 0.3572\n",
      "Accuracy te: 0.3535\n"
     ]
    }
   ],
   "source": [
    "speed = 0.1\n",
    "\n",
    "def predict(x_n, x_m):\n",
    "    global W\n",
    "    global B\n",
    "    W1_in = x_n\n",
    "    W1_out = np.dot(W1_in, W)\n",
    "    W2_in = x_m\n",
    "    W2_out = np.dot(W2_in, W)\n",
    "    P1 = np.array(W1_out > W2_out, dtype='float')\n",
    "    P2 = np.array(W2_out > W1_out, dtype='float')\n",
    "    B_in = np.maximum(W1_out, W2_out)\n",
    "    B_out = B_in + B\n",
    "    y_pred = B_out\n",
    "    return y_pred\n",
    "\n",
    "def calculate_accuracy(y_pred, y):\n",
    "    return np.mean(np.argmax(y_pred, axis=1) == np.argmax(y, axis=1))\n",
    "\n",
    "def calculate_loss(y_pred, y):\n",
    "    value_of_true = np.sum(y_pred * y, axis=1)\n",
    "    result = y_pred + 1 - value_of_true.reshape(-1, 1)\n",
    "    result = np.maximum(result, 0)\n",
    "    result[np.arange(result.shape[0]), np.argmax(y, axis=1)] = 0\n",
    "    return np.mean(result)\n",
    "\n",
    "def calculate_grad(y_pred, y):\n",
    "    result = np.sum(y_pred * y, axis=1)\n",
    "    result = y_pred - y + 1 - result.reshape(-1, 1)\n",
    "    result = np.maximum(result, 0)\n",
    "    result[result > 0.00001] = 1\n",
    "    result[np.arange(result.shape[0]), np.argmax(y, axis=1)] = -np.sum(result, axis=1)\n",
    "    result = result / y.shape[0]\n",
    "    return result\n",
    "\n",
    "def calculate_reg_grad():\n",
    "    n = len(W)\n",
    "    W_shifted = W.reshape(n)\n",
    "\n",
    "def perform_step():\n",
    "    global x_tr_n\n",
    "    global y_tr_n\n",
    "    global W\n",
    "    global B\n",
    "    W1_in = x_tr_n\n",
    "    W1_out = np.dot(W1_in, W)\n",
    "    W2_in = x_tr_m\n",
    "    W2_out = np.dot(W2_in, W)\n",
    "    P1 = np.array(W1_out > W2_out, dtype='float')\n",
    "    P2 = np.array(W2_out > W1_out, dtype='float')\n",
    "    B_in = np.maximum(W1_out, W2_out)\n",
    "    B_out = B_in + B\n",
    "    y_pred = B_out\n",
    "    \n",
    "    print('  current loss:', calculate_loss(y_pred, y_tr_n))\n",
    "\n",
    "    grad = calculate_grad(y_pred, y_tr_n)\n",
    "    \n",
    "    B = B - speed * np.sum(grad, axis=0)\n",
    "    W = W - speed * np.dot(W1_in.transpose(), grad*P1)\n",
    "    W = W - speed * np.dot(W2_in.transpose(), grad*P2)\n",
    "    #W_dif_1 = W - np.roll(W, 1, axis=0)\n",
    "    #W_dif_2 = W - np.roll(W, 32, axis=0)\n",
    "    #W_dif_3 = W - np.roll(W, 32 * 32, axis=0)\n",
    "    #W = W - speed * W_dif_1 # * np.abs(W_dif)\n",
    "    #W = W - speed * W_dif_2 # * np.abs(W_dif)\n",
    "    #W = W - speed * W_dif_3 # * np.abs(W_dif)\n",
    "    W = W - speed * W # * np.abs(W)\n",
    "    B = B - speed * B # * np.abs(B)\n",
    "\n",
    "output = widgets.Output()\n",
    "output.layout.height = '110px'\n",
    "display(output)\n",
    "    \n",
    "loss_before = calculate_loss(predict(x_tr_n, x_tr_m), y_tr_n)\n",
    "print('Loss before:', loss_before)\n",
    "\n",
    "speed = 0.0001\n",
    "\n",
    "for i in range(10):\n",
    "    perform_step()\n",
    "    if i < 10 or i % 5 == 0:\n",
    "    #if i % 10 == 0:\n",
    "        images = W.transpose()*500 + 128\n",
    "        images = np.minimum(255, np.maximum(0, images))\n",
    "        output.clear_output()\n",
    "        with(output):\n",
    "            show_images(images, range(10))\n",
    "\n",
    "loss_after = calculate_loss(predict(x_tr_n, x_tr_m), y_tr_n)\n",
    "print('Loss after:', loss_after)\n",
    "\n",
    "print('Loss change:', loss_after - loss_before)\n",
    "\n",
    "print('Accuracy tr:', calculate_accuracy(predict(x_tr_n, x_tr_m), y_tr_n))\n",
    "print('Accuracy te:', calculate_accuracy(predict(x_te_n, x_te_m), y_te_n))"
   ]
  },
  {
   "cell_type": "code",
   "execution_count": 63,
   "metadata": {},
   "outputs": [
    {
     "data": {
      "application/vnd.jupyter.widget-view+json": {
       "model_id": "d6502ee2ea284405bf78558402e80cf7",
       "version_major": 2,
       "version_minor": 0
      },
      "text/plain": [
       "A Jupyter Widget"
      ]
     },
     "metadata": {},
     "output_type": "display_data"
    },
    {
     "data": {
      "text/plain": [
       "<function __main__.show_image_w>"
      ]
     },
     "execution_count": 63,
     "metadata": {},
     "output_type": "execute_result"
    }
   ],
   "source": [
    "images = W.transpose()*500 + 128\n",
    "images = np.minimum(255, np.maximum(0, images))\n",
    "\n",
    "def show_image_w(index):\n",
    "    show_image(images[index], index)\n",
    "\n",
    "interact(show_image_w, index=widgets.BoundedIntText(min=0, max=9, step=1, value=0))"
   ]
  },
  {
   "cell_type": "code",
   "execution_count": null,
   "metadata": {
    "collapsed": true
   },
   "outputs": [],
   "source": []
  }
 ],
 "metadata": {
  "kernelspec": {
   "display_name": "Python 3",
   "language": "python",
   "name": "python3"
  },
  "language_info": {
   "codemirror_mode": {
    "name": "ipython",
    "version": 3
   },
   "file_extension": ".py",
   "mimetype": "text/x-python",
   "name": "python",
   "nbconvert_exporter": "python",
   "pygments_lexer": "ipython3",
   "version": "3.6.3"
  }
 },
 "nbformat": 4,
 "nbformat_minor": 2
}
