{
 "cells": [
  {
   "cell_type": "code",
   "execution_count": 1,
   "metadata": {},
   "outputs": [
    {
     "name": "stdout",
     "output_type": "stream",
     "text": [
      "experimental_net reload\n"
     ]
    }
   ],
   "source": [
    "import pickle\n",
    "import os\n",
    "import numpy as np\n",
    "from sklearn.preprocessing import OneHotEncoder\n",
    "import sys\n",
    "import math\n",
    "\n",
    "%matplotlib inline\n",
    "import matplotlib.pyplot as plt\n",
    "from ipywidgets import *\n",
    "from IPython.display import display\n",
    "\n",
    "plt.rcParams[\"figure.figsize\"] = (10, 6)\n",
    "\n",
    "# Магия, чтобы модуль experimental_net импортировался заново при изменениях в нём.\n",
    "%reload_ext autoreload\n",
    "%aimport experimental_net\n",
    "%autoreload 1\n",
    "\n",
    "import experimental_net as nn"
   ]
  },
  {
   "cell_type": "code",
   "execution_count": 2,
   "metadata": {},
   "outputs": [
    {
     "name": "stdout",
     "output_type": "stream",
     "text": [
      "['airplane', 'automobile', 'bird', 'cat', 'deer', 'dog', 'frog', 'horse', 'ship', 'truck']\n",
      "b'training batch 1 of 5'\n",
      "b'training batch 2 of 5'\n",
      "b'training batch 3 of 5'\n",
      "b'training batch 4 of 5'\n",
      "b'training batch 5 of 5'\n",
      "b'testing batch 1 of 1'\n",
      "(50000, 3072) (50000,) (10000, 3072) (10000,)\n"
     ]
    }
   ],
   "source": [
    "cifar_folder = 'data/cifar-10-batches-py'\n",
    "\n",
    "labels_names = ['airplane', 'automobile', 'bird', 'cat', 'deer', 'dog', \n",
    "    'frog', 'horse', 'ship', 'truck']\n",
    "label_count = len(labels_names)\n",
    "print(labels_names)\n",
    "\n",
    "def load_cifar_batch(folder, file):\n",
    "    with open(os.path.join(folder, file), 'rb') as f:\n",
    "        dict = pickle.load(f, encoding='bytes')\n",
    "    print(dict[b'batch_label'])\n",
    "    return dict[b'data'], np.array(dict[b'labels'])\n",
    "\n",
    "def load_cifar(folder):\n",
    "    x_tr = list()\n",
    "    y_tr = list()\n",
    "    for i in range(1, 6):\n",
    "        x, y = load_cifar_batch(folder, 'data_batch_' + str(i))\n",
    "        x_tr.append(x)\n",
    "        y_tr.append(y)\n",
    "    x_tr = np.concatenate(x_tr)\n",
    "    y_tr = np.concatenate(y_tr)\n",
    "    x_te, y_te = load_cifar_batch(folder, 'test_batch')\n",
    "    return x_tr, y_tr, x_te, y_te\n",
    "\n",
    "x_tr, y_tr, x_te, y_te = load_cifar(cifar_folder)\n",
    "print(x_tr.shape, y_tr.shape, x_te.shape, y_te.shape)"
   ]
  },
  {
   "cell_type": "code",
   "execution_count": 3,
   "metadata": {},
   "outputs": [
    {
     "data": {
      "application/vnd.jupyter.widget-view+json": {
       "model_id": "4419e86282004b2e8529ad6664df1171"
      }
     },
     "metadata": {},
     "output_type": "display_data"
    }
   ],
   "source": [
    "def plot_image(x, y):\n",
    "    plt.imshow(x.reshape(3, 32, 32).transpose(1, 2, 0) / 256)\n",
    "    plt.title(labels_names[y])\n",
    "    plt.axis('off')\n",
    "\n",
    "def show_image(x, y):\n",
    "    plot_image(x, y)\n",
    "    plt.show()\n",
    "\n",
    "def show_images(xs, ys):\n",
    "    n = len(xs)\n",
    "    for i in range(n):\n",
    "        plt.subplot(1, n, i + 1)\n",
    "        plot_image(xs[i], ys[i])\n",
    "    plt.show()\n",
    "\n",
    "def show_train_images(pos):\n",
    "    show_images(x_tr[pos:pos+5], y_tr[pos:pos+5])\n",
    "\n",
    "silence = interact(show_train_images, \n",
    "        pos=widgets.BoundedIntText(min=0, max=49999, step=5, value=0, description='Range start:'))"
   ]
  },
  {
   "cell_type": "code",
   "execution_count": 4,
   "metadata": {},
   "outputs": [
    {
     "data": {
      "image/png": "[encoded data removed]",
      "text/plain": [
       "<matplotlib.figure.Figure at 0x9ba74a8>"
      ]
     },
     "metadata": {},
     "output_type": "display_data"
    }
   ],
   "source": [
    "y_mean = range(10)\n",
    "x_mean = [x_tr[y_tr == y].mean(axis=0) for y in y_mean]\n",
    "show_images(x_mean, y_mean)"
   ]
  },
  {
   "cell_type": "code",
   "execution_count": 5,
   "metadata": {},
   "outputs": [
    {
     "name": "stdout",
     "output_type": "stream",
     "text": [
      "(50000, 10)\n",
      "(10000, 10)\n"
     ]
    }
   ],
   "source": [
    "# Perform one hot encoding\n",
    "y_tr_n = np.eye(label_count)[y_tr]\n",
    "y_te_n = np.eye(label_count)[y_te]\n",
    "\n",
    "print(y_tr_n.shape)\n",
    "print(y_te_n.shape)\n",
    "\n",
    "x_tr_n = x_tr / 256 - 0.5\n",
    "x_te_n = x_te / 256 - 0.5"
   ]
  },
  {
   "cell_type": "code",
   "execution_count": 6,
   "metadata": {
    "collapsed": true
   },
   "outputs": [],
   "source": [
    "# ---------------------------------------------------------------------------------------------------\n",
    "\n",
    "class BatchNorm(nn.Function):\n",
    "\n",
    "    def __init__(self):\n",
    "        self.sigma = None\n",
    "\n",
    "    def calculate_y(self, x):\n",
    "        y = x - np.mean(x, axis=0, keepdims=True)\n",
    "        self.sigma = np.maximum(0.001, np.sqrt( np.std(y, axis=0, keepdims=True)))\n",
    "        y = y / self.sigma\n",
    "        return y\n",
    "\n",
    "    def calculate_gx(self, x, y, gy):\n",
    "        return gy * self.sigma\n",
    "\n"
   ]
  },
  {
   "cell_type": "code",
   "execution_count": 10,
   "metadata": {
    "collapsed": true
   },
   "outputs": [],
   "source": [
    "# Сетка\n",
    "\n",
    "np.random.seed(5)\n",
    "\n",
    "reg3 = 0.1\n",
    "\n",
    "functions = [\n",
    "    nn.Matrix(x_tr_n.shape[1], 100, sigma=1, reg3=reg3),\n",
    "    nn.Bias(100, reg3=reg3),\n",
    "    BatchNorm(),\n",
    "    nn.Tanh(),\n",
    "\n",
    "    nn.Matrix(100, 100, reg3=reg3),\n",
    "    nn.Bias(100, reg3=reg3),\n",
    "    BatchNorm(),\n",
    "    nn.Tanh(),\n",
    "\n",
    "    nn.Matrix(100, 100, reg3=reg3),\n",
    "    nn.Bias(100, reg3=reg3),\n",
    "    BatchNorm(),\n",
    "    nn.Tanh(),\n",
    "\n",
    "    nn.Matrix(100, label_count, reg3=reg3),\n",
    "    nn.Bias(label_count, reg3=reg3),\n",
    "    #nn.SoftMax(),\n",
    "    #nn.EntropyLoss()\n",
    "    nn.SvmLoss()\n",
    "]\n",
    "\n",
    "net = nn.build_sequence_net(functions)"
   ]
  },
  {
   "cell_type": "code",
   "execution_count": 8,
   "metadata": {},
   "outputs": [
    {
     "data": {
      "application/vnd.jupyter.widget-view+json": {
       "model_id": "f4f92f3daeca475c8c2b71f256258e11"
      }
     },
     "metadata": {},
     "output_type": "display_data"
    }
   ],
   "source": [
    "output = widgets.Output()\n",
    "output.layout.height = '380px'\n",
    "#output.layout.height = '100px'\n",
    "display(output)\n",
    "\n",
    "def show_matrix_images(w):\n",
    "    images = w.transpose() * 5000 + 128\n",
    "    images = np.minimum(255, np.maximum(0, images))\n",
    "    image_count = images.shape[0]\n",
    "    column_count = 10\n",
    "    image_count = min(image_count, 50)\n",
    "    row_count = math.ceil(image_count / column_count)\n",
    "    global output\n",
    "    output.clear_output()\n",
    "    with(output):\n",
    "        for i in range(image_count):\n",
    "            image = images[i]\n",
    "            plt.subplot(row_count, column_count, i + 1)\n",
    "            plt.imshow(image.reshape(3, 32, 32).transpose(1, 2, 0) / 256)\n",
    "            plt.axis('off')\n",
    "        plt.show()\n"
   ]
  },
  {
   "cell_type": "code",
   "execution_count": 12,
   "metadata": {},
   "outputs": [
    {
     "name": "stdout",
     "output_type": "stream",
     "text": [
      "Epoch complete. Loss before: 5.024983, after: 4.984204, change: -0.040778\n",
      "Accuracy tr: 0.33698\n",
      "Accuracy te: 0.3339\n",
      "Epoch complete. Loss before: 4.984204, after: 4.951167, change: -0.033038\n",
      "Accuracy tr: 0.33984\n",
      "Accuracy te: 0.3367\n",
      "Epoch complete. Loss before: 4.951167, after: 4.923596, change: -0.027571\n",
      "Accuracy tr: 0.34144\n",
      "Accuracy te: 0.3373\n",
      "Epoch complete. Loss before: 4.923596, after: 4.899864, change: -0.023732\n",
      "Accuracy tr: 0.34356\n",
      "Accuracy te: 0.3399\n",
      "Epoch complete. Loss before: 4.899864, after: 4.878392, change: -0.021472\n",
      "Accuracy tr: 0.3448\n",
      "Accuracy te: 0.3402\n"
     ]
    }
   ],
   "source": [
    "def train_epoch(net, speed):\n",
    "    loss_before = net.calculate_loss([x_tr_n], y_tr_n)\n",
    "    \n",
    "    batch_size = 1000\n",
    "    train_len = x_tr_n.shape[0]\n",
    "    for i in range(0, train_len // batch_size):\n",
    "        batch_start = i * batch_size\n",
    "        batch_end = min(train_len, batch_start + batch_size)\n",
    "        x_batch = x_tr_n[batch_start:batch_end]\n",
    "        y_batch = y_tr_n[batch_start:batch_end]\n",
    "\n",
    "        loss = net.train([x_batch], y_batch, speed)\n",
    "\n",
    "        sys.stdout.write('\\rTrain. Batch: %d, loss %f' % (i, loss))\n",
    "        sys.stdout.flush()\n",
    "\n",
    "    loss_after = net.calculate_loss([x_tr_n], y_tr_n)\n",
    "    sys.stdout.write('\\rEpoch complete. Loss before: %f, after: %f, change: %f\\n' \n",
    "        % (loss_before, loss_after, loss_after - loss_before))\n",
    "    sys.stdout.flush()\n",
    "    print('Accuracy tr:', net.calculate_accuracy([x_tr_n], y_tr_n))\n",
    "    print('Accuracy te:', net.calculate_accuracy([x_te_n], y_te_n))\n",
    "\n",
    "for i in range(5):\n",
    "    train_epoch(net, 0.1)\n",
    "\n",
    "    show_matrix_images(functions[0].w)\n"
   ]
  },
  {
   "cell_type": "code",
   "execution_count": null,
   "metadata": {
    "collapsed": true
   },
   "outputs": [],
   "source": []
  }
 ],
 "metadata": {
  "kernelspec": {
   "display_name": "Python [default]",
   "language": "python",
   "name": "python3"
  },
  "language_info": {
   "codemirror_mode": {
    "name": "ipython",
    "version": 3
   },
   "file_extension": ".py",
   "mimetype": "text/x-python",
   "name": "python",
   "nbconvert_exporter": "python",
   "pygments_lexer": "ipython3",
   "version": "3.5.3"
  }
 },
 "nbformat": 4,
 "nbformat_minor": 2
}
