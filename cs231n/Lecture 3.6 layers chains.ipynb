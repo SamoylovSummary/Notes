{
 "cells": [
  {
   "cell_type": "code",
   "execution_count": 1,
   "metadata": {},
   "outputs": [
    {
     "name": "stdout",
     "output_type": "stream",
     "text": [
      "toy_net reload\n",
      "toy_net.common reload\n",
      "toy_net.functions reload\n",
      "toy_net.optimizers reload\n",
      "toy_net.net reload\n"
     ]
    }
   ],
   "source": [
    "import pickle\n",
    "import os\n",
    "import numpy as np\n",
    "from sklearn.preprocessing import OneHotEncoder\n",
    "import sys\n",
    "import math\n",
    "\n",
    "%matplotlib inline\n",
    "import matplotlib.pyplot as plt\n",
    "from ipywidgets import *\n",
    "from IPython.display import display\n",
    "\n",
    "plt.rcParams[\"figure.figsize\"] = (10, 6)\n",
    "\n",
    "# Магия, чтобы модуль experimental_net импортировался заново при изменениях в нём.\n",
    "%reload_ext autoreload\n",
    "%autoreload 2\n",
    "\n",
    "import toy_net as nn"
   ]
  },
  {
   "cell_type": "code",
   "execution_count": 47,
   "metadata": {},
   "outputs": [
    {
     "name": "stdout",
     "output_type": "stream",
     "text": [
      "['plane', 'car', 'bird', 'cat', 'deer', 'dog', 'frog', 'horse', 'ship', 'truck']\n",
      "b'training batch 1 of 5'\n",
      "b'training batch 2 of 5'\n",
      "b'training batch 3 of 5'\n",
      "b'training batch 4 of 5'\n",
      "b'training batch 5 of 5'\n",
      "b'testing batch 1 of 1'\n",
      "(50000, 3072) (50000,) (10000, 3072) (10000,)\n"
     ]
    }
   ],
   "source": [
    "cifar_folder = 'data/cifar-10-batches-py'\n",
    "\n",
    "labels_names = ['plane', 'car', 'bird', 'cat', 'deer', 'dog', 'frog', 'horse', 'ship', 'truck']\n",
    "label_count = len(labels_names)\n",
    "print(labels_names)\n",
    "\n",
    "def load_cifar_batch(folder, file):\n",
    "    with open(os.path.join(folder, file), 'rb') as f:\n",
    "        dict = pickle.load(f, encoding='bytes')\n",
    "    print(dict[b'batch_label'])\n",
    "    return dict[b'data'], np.array(dict[b'labels'])\n",
    "\n",
    "def load_cifar(folder):\n",
    "    x_tr = list()\n",
    "    y_tr = list()\n",
    "    for i in range(1, 6):\n",
    "        x, y = load_cifar_batch(folder, 'data_batch_' + str(i))\n",
    "        x_tr.append(x)\n",
    "        y_tr.append(y)\n",
    "    x_tr = np.concatenate(x_tr)\n",
    "    y_tr = np.concatenate(y_tr)\n",
    "    x_te, y_te = load_cifar_batch(folder, 'test_batch')\n",
    "    return x_tr, y_tr, x_te, y_te\n",
    "\n",
    "x_tr, y_tr, x_te, y_te = load_cifar(cifar_folder)\n",
    "print(x_tr.shape, y_tr.shape, x_te.shape, y_te.shape)"
   ]
  },
  {
   "cell_type": "code",
   "execution_count": 3,
   "metadata": {},
   "outputs": [
    {
     "data": {
      "application/vnd.jupyter.widget-view+json": {
       "model_id": "fc5c65cf32694f999db9a1ac9423f300",
       "version_major": 2,
       "version_minor": 0
      },
      "text/plain": [
       "A Jupyter Widget"
      ]
     },
     "metadata": {},
     "output_type": "display_data"
    }
   ],
   "source": [
    "def plot_image(x, y):\n",
    "    plt.imshow(x.reshape(3, 32, 32).transpose(1, 2, 0) / 256)\n",
    "    plt.title(labels_names[y])\n",
    "    plt.axis('off')\n",
    "\n",
    "def show_image(x, y):\n",
    "    plot_image(x, y)\n",
    "    plt.show()\n",
    "\n",
    "def show_images(xs, ys):\n",
    "    n = len(xs)\n",
    "    for i in range(n):\n",
    "        plt.subplot(1, n, i + 1)\n",
    "        plot_image(xs[i], ys[i])\n",
    "    plt.show()\n",
    "\n",
    "def show_train_images(pos):\n",
    "    show_images(x_tr[pos:pos+5], y_tr[pos:pos+5])\n",
    "\n",
    "silence = interact(show_train_images, \n",
    "        pos=widgets.BoundedIntText(min=0, max=49999, step=5, value=0, description='Range start:'))"
   ]
  },
  {
   "cell_type": "code",
   "execution_count": 4,
   "metadata": {},
   "outputs": [
    {
     "data": {
      "image/png": "[encoded data removed]",
      "text/plain": [
       "<matplotlib.figure.Figure at 0x1412de08b38>"
      ]
     },
     "metadata": {},
     "output_type": "display_data"
    }
   ],
   "source": [
    "y_mean = range(10)\n",
    "x_mean = [x_tr[y_tr == y].mean(axis=0) for y in y_mean]\n",
    "show_images(x_mean, y_mean)"
   ]
  },
  {
   "cell_type": "code",
   "execution_count": 5,
   "metadata": {
    "collapsed": true
   },
   "outputs": [],
   "source": [
    "# Аугментация зеркалированием\n",
    "def flip_images(x):\n",
    "    result = x.reshape(-1, 3, 32, 32)\n",
    "    result = result.transpose(0, 2, 3, 1)\n",
    "    result = np.flip(result, axis=2)\n",
    "    result = result.transpose(0, 3, 1, 2)\n",
    "    result = result.reshape(-1, 3 * 32 * 32)\n",
    "    return result\n",
    "\n",
    "# Аугментация сдвигом\n",
    "def shift_images(x, shift, axis):\n",
    "    y = x.reshape(-1, 3, 32, 32)\n",
    "    y = np.roll(y, shift, axis=axis)\n",
    "    return y.reshape(-1, 3 * 32 * 32)"
   ]
  },
  {
   "cell_type": "code",
   "execution_count": 6,
   "metadata": {},
   "outputs": [
    {
     "name": "stdout",
     "output_type": "stream",
     "text": [
      "(50000, 10)\n",
      "(10000, 10)\n",
      "(3072,)\n",
      "(50000, 3072)\n",
      "(10000, 3072)\n",
      "x_mean: [ 130.71074  130.14036  131.05044 ...,  113.83058  113.90624  114.38186]\n",
      "[ 59  43  50 ..., 140  84  72]\n",
      "[158 159 165 ..., 124 129 110]\n",
      "[-71.71074 -87.14036 -81.05044 ...,  26.16942 -29.90624 -42.38186]\n",
      "[ 27.28926  28.85964  33.94956 ...,  10.16942  15.09376  -4.38186]\n"
     ]
    }
   ],
   "source": [
    "# Perform one hot encoding\n",
    "y_tr_n = np.eye(label_count)[y_tr]\n",
    "y_te_n = np.eye(label_count)[y_te]\n",
    "\n",
    "print(y_tr_n.shape)\n",
    "print(y_te_n.shape)\n",
    "\n",
    "x_mean = np.mean(x_tr, axis=0)\n",
    "print(x_mean.shape)\n",
    "print(x_tr.shape)\n",
    "print(x_te.shape)\n",
    "\n",
    "print('x_mean:', x_mean)\n",
    "print(x_tr[0])\n",
    "print(x_te[0])\n",
    "x_tr_centered = x_tr - x_mean\n",
    "x_te_centered = x_te - x_mean\n",
    "\n",
    "x_tr_n = x_tr_centered / 256\n",
    "x_te_n = x_te_centered / 256\n",
    "print(x_tr_centered[0])\n",
    "print(x_te_centered[0])"
   ]
  },
  {
   "cell_type": "code",
   "execution_count": 110,
   "metadata": {},
   "outputs": [],
   "source": [
    "# Сетка\n",
    "\n",
    "np.random.seed(5)\n",
    "\n",
    "reg2 = 0.001\n",
    "reg_cifar_2D = 0.1\n",
    "reg3 = None\n",
    "\n",
    "functions = [\n",
    "    nn.Matrix(x_tr_n.shape[1], 300, reg2=reg2, reg3=reg3, reg_cifar_2D=reg_cifar_2D),\n",
    "    nn.Bias(300, reg2=reg2, reg3=reg3),\n",
    "    nn.Relu(),\n",
    "    #nn.Dropout(0.1),\n",
    "\n",
    "    nn.Matrix(300, label_count, reg2=reg2, reg3=reg3),\n",
    "    nn.Bias(label_count, reg2=reg2, reg3=reg3),\n",
    "    #nn.SoftMax(),\n",
    "    #nn.EntropyLoss()\n",
    "    nn.SvmLoss()\n",
    "]\n",
    "\n",
    "net, layers = nn.build_sequence_net(functions, nn.Adam())"
   ]
  },
  {
   "cell_type": "code",
   "execution_count": 111,
   "metadata": {},
   "outputs": [
    {
     "data": {
      "application/vnd.jupyter.widget-view+json": {
       "model_id": "d87e46169f894c998efe396bc8897d9e",
       "version_major": 2,
       "version_minor": 0
      },
      "text/plain": [
       "A Jupyter Widget"
      ]
     },
     "metadata": {},
     "output_type": "display_data"
    }
   ],
   "source": [
    "output = widgets.Output()\n",
    "output.layout.height = '380px'\n",
    "#output.layout.height = '100px'\n",
    "display(output)\n",
    "\n",
    "def show_matrix_images():\n",
    "    w = functions[0].w\n",
    "    w2 = functions[3].w\n",
    "    images = w.transpose() * 8000 + 128\n",
    "    images = np.minimum(255, np.maximum(0, images))\n",
    "    image_count = images.shape[0]\n",
    "    column_count = 10\n",
    "    image_count = min(image_count, 50)\n",
    "    row_count = math.ceil(image_count / column_count)\n",
    "    global output\n",
    "    output.clear_output()\n",
    "    with(output):\n",
    "        for i in range(image_count):\n",
    "            image = images[i]\n",
    "            plt.subplot(row_count, column_count, i + 1)\n",
    "            plt.imshow(image.reshape(3, 32, 32).transpose(1, 2, 0) / 256)\n",
    "            label_index = np.argmax(np.abs(w2[i]))\n",
    "            label_prefix = '+' if w2[i, label_index] > 0 else '-'\n",
    "            plt.title(label_prefix + labels_names[label_index])\n",
    "            plt.axis('off')\n",
    "        plt.show()\n"
   ]
  },
  {
   "cell_type": "code",
   "execution_count": 94,
   "metadata": {},
   "outputs": [
    {
     "name": "stdout",
     "output_type": "stream",
     "text": [
      "[ 0.    0.    0.09  0.    0.   -0.   -0.    0.    0.   -0.  ]\n",
      "[False False False False False False False False False False]\n",
      "[False False False False False False False False False False]\n",
      "['plane', 'car', 'bird', 'cat', 'deer', 'dog', 'frog', 'horse', 'ship', 'truck']\n"
     ]
    }
   ],
   "source": [
    "w = functions[3].w[22].round(2)\n",
    "\n",
    "print(w)\n",
    "print(w > 0.2)\n",
    "print(w < -0.2)\n",
    "print(labels_names)\n",
    "\n",
    "#show_matrix_images()"
   ]
  },
  {
   "cell_type": "code",
   "execution_count": 117,
   "metadata": {},
   "outputs": [
    {
     "name": "stdout",
     "output_type": "stream",
     "text": [
      "Epoch complete. Loss before: 2.487582, after: 2.420108, change: -0.067473\n",
      "Accuracy tr: 0.56586\n",
      "Accuracy te: 0.5362\n",
      "  Matrix columns statistics: mean: [-0.0041, 0.0030], std: [0.0027, 0.0233], log10: [-2.57, -1.63]\n",
      "  Matrix columns statistics: mean: [-0.0263, 0.0189], std: [0.0853, 0.1210], log10: [-1.07, -0.92]\n",
      "Epoch complete. Loss before: 2.657811, after: 2.458804, change: -0.199007\n",
      "Accuracy tr: 0.56232\n",
      "Accuracy te: 0.5404\n",
      "  Matrix columns statistics: mean: [-0.0037, 0.0033], std: [0.0026, 0.0232], log10: [-2.58, -1.63]\n",
      "  Matrix columns statistics: mean: [-0.0275, 0.0189], std: [0.0864, 0.1228], log10: [-1.06, -0.91]\n",
      "Epoch complete. Loss before: 2.543005, after: 2.420584, change: -0.122421\n",
      "Accuracy tr: 0.56382\n",
      "Accuracy te: 0.5392\n",
      "  Matrix columns statistics: mean: [-0.0041, 0.0033], std: [0.0028, 0.0232], log10: [-2.56, -1.63]\n",
      "  Matrix columns statistics: mean: [-0.0273, 0.0194], std: [0.0874, 0.1245], log10: [-1.06, -0.90]\n",
      "Done\n"
     ]
    },
    {
     "data": {
      "text/plain": [
       "\"\\nfor i in range(1):\\n    train_epoch(speed, x_tr_n, y_tr_n)\\n    train_epoch(speed, flip_images(x_tr_n), y_tr_n)\\n    train_epoch(speed, shift_images(x_tr_n, 1, axis=2), y_tr_n)\\n    train_epoch(speed, x_tr_n, y_tr_n)\\n    train_epoch(speed, shift_images(x_tr_n, -1, axis=2), y_tr_n)\\n    train_epoch(speed, flip_images(x_tr_n), y_tr_n)\\n    train_epoch(speed, shift_images(x_tr_n, 1, axis=3), y_tr_n)\\n    train_epoch(speed, x_tr_n, y_tr_n)\\n    train_epoch(speed, shift_images(x_tr_n, -1, axis=3), y_tr_n)\\n    train_epoch(speed, flip_images(x_tr_n), y_tr_n)\\n    train_epoch(speed, x_tr_n, y_tr_n)\\n    print('Done')\\n\""
      ]
     },
     "execution_count": 117,
     "metadata": {},
     "output_type": "execute_result"
    }
   ],
   "source": [
    "def train_epoch(speed, x_tr_a, y_tr_a):\n",
    "    permutation = np.random.permutation(x_tr_a.shape[0])\n",
    "    x_tr_a = x_tr_a[permutation]\n",
    "    y_tr_a = y_tr_a[permutation]\n",
    "\n",
    "    loss_before = net.calculate_loss([x_tr_a], y_tr_a)\n",
    "    \n",
    "    batch_size = 1000\n",
    "    train_len = x_tr_a.shape[0]\n",
    "    for i in range(0, train_len // batch_size):\n",
    "        batch_start = i * batch_size\n",
    "        batch_end = min(train_len, batch_start + batch_size)\n",
    "        x_batch = x_tr_a[batch_start:batch_end]\n",
    "        y_batch = y_tr_a[batch_start:batch_end]\n",
    "\n",
    "        loss = net.train([x_batch], y_batch, speed)\n",
    "\n",
    "        sys.stdout.write('\\rTrain. Batch: %d, loss %f' % (i, loss))\n",
    "        sys.stdout.flush()\n",
    "\n",
    "    loss_after = net.calculate_loss([x_tr_a], y_tr_a)\n",
    "    sys.stdout.write('\\rEpoch complete. Loss before: %f, after: %f, change: %f\\n' \n",
    "        % (loss_before, loss_after, loss_after - loss_before))\n",
    "    sys.stdout.flush()\n",
    "    print('Accuracy tr:', net.calculate_accuracy([x_tr_a], y_tr_a))\n",
    "    print('Accuracy te:', net.calculate_accuracy([x_te_n], y_te_n))\n",
    "\n",
    "    functions[0].trace_statistics()\n",
    "    functions[3].trace_statistics()\n",
    "    show_matrix_images()\n",
    "\n",
    "speed = 0.001\n",
    "\n",
    "for i in range(1):\n",
    "    train_epoch(speed, x_tr_n, y_tr_n)\n",
    "    train_epoch(speed, flip_images(x_tr_n), y_tr_n)\n",
    "    train_epoch(speed, x_tr_n, y_tr_n)\n",
    "    print('Done')\n",
    "\n",
    "\"\"\"\n",
    "for i in range(1):\n",
    "    train_epoch(speed, x_tr_n, y_tr_n)\n",
    "    train_epoch(speed, flip_images(x_tr_n), y_tr_n)\n",
    "    train_epoch(speed, shift_images(x_tr_n, 1, axis=2), y_tr_n)\n",
    "    train_epoch(speed, x_tr_n, y_tr_n)\n",
    "    train_epoch(speed, shift_images(x_tr_n, -1, axis=2), y_tr_n)\n",
    "    train_epoch(speed, flip_images(x_tr_n), y_tr_n)\n",
    "    train_epoch(speed, shift_images(x_tr_n, 1, axis=3), y_tr_n)\n",
    "    train_epoch(speed, x_tr_n, y_tr_n)\n",
    "    train_epoch(speed, shift_images(x_tr_n, -1, axis=3), y_tr_n)\n",
    "    train_epoch(speed, flip_images(x_tr_n), y_tr_n)\n",
    "    train_epoch(speed, x_tr_n, y_tr_n)\n",
    "    print('Done')\n",
    "\"\"\""
   ]
  },
  {
   "cell_type": "code",
   "execution_count": 114,
   "metadata": {
    "collapsed": true
   },
   "outputs": [],
   "source": [
    "functions[0].reg2 = 0.001\n",
    "functions[0].reg3 = 0\n",
    "functions[0].reg_cifar_2D = 0.5"
   ]
  },
  {
   "cell_type": "code",
   "execution_count": 138,
   "metadata": {},
   "outputs": [
    {
     "data": {
      "image/png": "[encoded data removed]",
      "text/plain": [
       "<matplotlib.figure.Figure at 0x1412f97e198>"
      ]
     },
     "metadata": {},
     "output_type": "display_data"
    }
   ],
   "source": [
    "w = functions[0].w\n",
    "wp = np.dot(x_tr_n, w)\n",
    "wm = np.argmax(wp, axis=0)\n",
    "pos = wm[15]\n",
    "show_images(x_tr[pos:pos+5], y_tr[pos:pos+5])"
   ]
  }
 ],
 "metadata": {
  "kernelspec": {
   "display_name": "Python 3",
   "language": "python",
   "name": "python3"
  },
  "language_info": {
   "codemirror_mode": {
    "name": "ipython",
    "version": 3
   },
   "file_extension": ".py",
   "mimetype": "text/x-python",
   "name": "python",
   "nbconvert_exporter": "python",
   "pygments_lexer": "ipython3",
   "version": "3.6.3"
  }
 },
 "nbformat": 4,
 "nbformat_minor": 2
}
